{
 "cells": [
  {
   "cell_type": "code",
   "execution_count": 4,
   "id": "12b444f6",
   "metadata": {},
   "outputs": [
    {
     "name": "stdout",
     "output_type": "stream",
     "text": [
      "2\n",
      "-2\n",
      "-1\n",
      "1\n"
     ]
    }
   ],
   "source": [
    "print(8%3)\n",
    "print(-8%-3)\n",
    "print(8%-3)\n",
    "print(-8%3)"
   ]
  },
  {
   "cell_type": "code",
   "execution_count": null,
   "id": "a9443ba5",
   "metadata": {},
   "outputs": [],
   "source": [
    "(a%b) = a - (a//b) *b"
   ]
  },
  {
   "cell_type": "code",
   "execution_count": 5,
   "id": "8de20dea",
   "metadata": {},
   "outputs": [
    {
     "data": {
      "text/plain": [
       "2"
      ]
     },
     "execution_count": 5,
     "metadata": {},
     "output_type": "execute_result"
    }
   ],
   "source": [
    "8 - (8//3) * 3"
   ]
  },
  {
   "cell_type": "code",
   "execution_count": 6,
   "id": "d618af4c",
   "metadata": {},
   "outputs": [
    {
     "data": {
      "text/plain": [
       "-2"
      ]
     },
     "execution_count": 6,
     "metadata": {},
     "output_type": "execute_result"
    }
   ],
   "source": [
    "-8 - (-8//-3) * -3"
   ]
  },
  {
   "cell_type": "markdown",
   "id": "0c6e789d",
   "metadata": {},
   "source": [
    "5. Bitwise operators - &, | , ^ , ~ , << , >>\n",
    "\n",
    "- works on bits\n",
    "- work only on integer data types"
   ]
  },
  {
   "cell_type": "code",
   "execution_count": 7,
   "id": "b9b2077f",
   "metadata": {},
   "outputs": [
    {
     "name": "stdout",
     "output_type": "stream",
     "text": [
      "0\n"
     ]
    }
   ],
   "source": [
    "# bitwise and (&)\n",
    "\n",
    "x = 10\n",
    "y = 4\n",
    "\n",
    "print(x & y)"
   ]
  },
  {
   "cell_type": "code",
   "execution_count": null,
   "id": "c28e3ad1",
   "metadata": {},
   "outputs": [],
   "source": [
    "# step1\n",
    "\n",
    "# convert 10 and 4 into its binary form\n",
    "\n",
    "x = 10 - 1010\n",
    "y = 4  - 100\n",
    "\n",
    "# step2 -  & operator on bitwise\n",
    "\n",
    "10 -->  1  0   1   0\n",
    "4  -->  0  1   0   0\n",
    "and-->  0  0   0   0\n",
    "\n",
    "# step3 - convert 0000 again back to number\n",
    "\n",
    "print(0b0000)"
   ]
  },
  {
   "cell_type": "code",
   "execution_count": 10,
   "id": "179ad1b3",
   "metadata": {},
   "outputs": [
    {
     "name": "stdout",
     "output_type": "stream",
     "text": [
      "0\n"
     ]
    }
   ],
   "source": [
    "print(0b0000)"
   ]
  },
  {
   "cell_type": "code",
   "execution_count": 13,
   "id": "1004e050",
   "metadata": {},
   "outputs": [
    {
     "name": "stdout",
     "output_type": "stream",
     "text": [
      "16\n"
     ]
    }
   ],
   "source": [
    "x = 24\n",
    "y = 16\n",
    "\n",
    "print(x & y)"
   ]
  },
  {
   "cell_type": "code",
   "execution_count": null,
   "id": "a68c01a6",
   "metadata": {},
   "outputs": [],
   "source": [
    "# step1\n",
    "\n",
    "x = 24 ---> 11000\n",
    "y = 16 ---> 10000\n",
    "\n",
    "# step2\n",
    "\n",
    "1 1 0 0 0\n",
    "1 0 0 0 0\n",
    "1 0 0 0 0\n",
    "\n",
    "# step3\n",
    "\n",
    "10000 ---> 16"
   ]
  },
  {
   "cell_type": "code",
   "execution_count": 12,
   "id": "a7385f63",
   "metadata": {},
   "outputs": [
    {
     "data": {
      "text/plain": [
       "'0b11000'"
      ]
     },
     "execution_count": 12,
     "metadata": {},
     "output_type": "execute_result"
    }
   ],
   "source": [
    "bin(24)"
   ]
  },
  {
   "cell_type": "code",
   "execution_count": 14,
   "id": "568c1a84",
   "metadata": {},
   "outputs": [
    {
     "name": "stdout",
     "output_type": "stream",
     "text": [
      "24\n"
     ]
    }
   ],
   "source": [
    "x = 24\n",
    "y = 16\n",
    "\n",
    "print(x | y)"
   ]
  },
  {
   "cell_type": "code",
   "execution_count": null,
   "id": "994ec71f",
   "metadata": {},
   "outputs": [],
   "source": [
    "# step1\n",
    "\n",
    "x = 24 ---> 11000\n",
    "y = 16 ---> 10000\n",
    "\n",
    "# step2\n",
    "\n",
    "1 1 0 0 0\n",
    "1 0 0 0 0\n",
    "1 1 0 0 0\n",
    "\n",
    "# step3\n",
    "\n",
    "11000 ---> 24"
   ]
  },
  {
   "cell_type": "code",
   "execution_count": 15,
   "id": "5c63c104",
   "metadata": {},
   "outputs": [
    {
     "name": "stdout",
     "output_type": "stream",
     "text": [
      "8\n"
     ]
    }
   ],
   "source": [
    "x = 24\n",
    "y = 16\n",
    "\n",
    "print(x ^ y)"
   ]
  },
  {
   "cell_type": "code",
   "execution_count": null,
   "id": "eae0b071",
   "metadata": {},
   "outputs": [],
   "source": [
    "# step1\n",
    "\n",
    "x = 24 ---> 11000\n",
    "y = 16 ---> 10000\n",
    "\n",
    "# step2\n",
    "\n",
    "1 1 0 0 0\n",
    "1 0 0 0 0\n",
    "0 1 0 0 0\n",
    "\n",
    "# step3\n",
    "\n",
    "1 0 0 0 ---> 8"
   ]
  },
  {
   "cell_type": "code",
   "execution_count": 17,
   "id": "f86e26ec",
   "metadata": {},
   "outputs": [
    {
     "name": "stdout",
     "output_type": "stream",
     "text": [
      "8\n"
     ]
    }
   ],
   "source": [
    "print(0b1000)"
   ]
  },
  {
   "cell_type": "code",
   "execution_count": 18,
   "id": "21b55ddc",
   "metadata": {},
   "outputs": [
    {
     "name": "stdout",
     "output_type": "stream",
     "text": [
      "-11\n"
     ]
    }
   ],
   "source": [
    "# bitwise not\n",
    "\n",
    "'''add 1 to a number\n",
    "reverse the sign of the number'''\n",
    "\n",
    "x = 10 \n",
    "# 11\n",
    "# -11\n",
    "\n",
    "print(~x)"
   ]
  },
  {
   "cell_type": "code",
   "execution_count": 19,
   "id": "2a4ad457",
   "metadata": {},
   "outputs": [
    {
     "name": "stdout",
     "output_type": "stream",
     "text": [
      "100\n"
     ]
    }
   ],
   "source": [
    "x = -101\n",
    "-101 + 1 --> -100  --> 100\n",
    "\n",
    "print(~x)"
   ]
  },
  {
   "cell_type": "code",
   "execution_count": 20,
   "id": "e02d858f",
   "metadata": {},
   "outputs": [
    {
     "name": "stdout",
     "output_type": "stream",
     "text": [
      "-204\n"
     ]
    }
   ],
   "source": [
    "x = 203\n",
    "# -101 + 1 --> -100  --> 100\n",
    "\n",
    "print(~x)"
   ]
  },
  {
   "cell_type": "code",
   "execution_count": 22,
   "id": "2432da31",
   "metadata": {},
   "outputs": [
    {
     "name": "stdout",
     "output_type": "stream",
     "text": [
      "1\n"
     ]
    },
    {
     "data": {
      "text/plain": [
       "'\\n10 - A\\n3 - n\\n'"
      ]
     },
     "execution_count": 22,
     "metadata": {},
     "output_type": "execute_result"
    }
   ],
   "source": [
    "# bitwise right shift >> - A // (2 ** n)\n",
    "\n",
    "print(10 >> 3)\n",
    "\n",
    "\"\"\"\n",
    "10 - A\n",
    "3 - n\n",
    "\"\"\""
   ]
  },
  {
   "cell_type": "code",
   "execution_count": 21,
   "id": "00c2d5b4",
   "metadata": {},
   "outputs": [
    {
     "data": {
      "text/plain": [
       "1"
      ]
     },
     "execution_count": 21,
     "metadata": {},
     "output_type": "execute_result"
    }
   ],
   "source": [
    "10 // (2**3)"
   ]
  },
  {
   "cell_type": "code",
   "execution_count": null,
   "id": "f44d94ec",
   "metadata": {},
   "outputs": [],
   "source": [
    "# bitwise left shift << - A * (2 ** n)\n",
    "\n",
    "print(10 << 3)\n",
    "\n",
    "\"\"\"\n",
    "10 - A\n",
    "3 - n\n",
    "\"\"\""
   ]
  },
  {
   "cell_type": "code",
   "execution_count": 23,
   "id": "5cb52f46",
   "metadata": {},
   "outputs": [
    {
     "data": {
      "text/plain": [
       "80"
      ]
     },
     "execution_count": 23,
     "metadata": {},
     "output_type": "execute_result"
    }
   ],
   "source": [
    "10 * (2 ** 3)"
   ]
  },
  {
   "cell_type": "code",
   "execution_count": 25,
   "id": "fc214bff",
   "metadata": {},
   "outputs": [
    {
     "data": {
      "text/plain": [
       "0"
      ]
     },
     "execution_count": 25,
     "metadata": {},
     "output_type": "execute_result"
    }
   ],
   "source": [
    "# A // (2 ** n) right\n",
    "\n",
    "10 >>5"
   ]
  },
  {
   "cell_type": "code",
   "execution_count": 24,
   "id": "98c46309",
   "metadata": {},
   "outputs": [
    {
     "data": {
      "text/plain": [
       "0"
      ]
     },
     "execution_count": 24,
     "metadata": {},
     "output_type": "execute_result"
    }
   ],
   "source": [
    "10 // (2**5)"
   ]
  },
  {
   "cell_type": "code",
   "execution_count": null,
   "id": "53d22622",
   "metadata": {},
   "outputs": [],
   "source": [
    " A // (2 ** n) "
   ]
  },
  {
   "cell_type": "code",
   "execution_count": null,
   "id": "6cb57da6",
   "metadata": {},
   "outputs": [],
   "source": [
    "Assignment operator / compound operator"
   ]
  },
  {
   "cell_type": "code",
   "execution_count": null,
   "id": "8a5ab7b0",
   "metadata": {},
   "outputs": [],
   "source": [
    "take a varibale a assign a number 10 to it\n",
    "add 24 to x and reassign to x"
   ]
  },
  {
   "cell_type": "code",
   "execution_count": 26,
   "id": "b5759e03",
   "metadata": {},
   "outputs": [
    {
     "name": "stdout",
     "output_type": "stream",
     "text": [
      "34\n"
     ]
    }
   ],
   "source": [
    "x = 10\n",
    "x = x+ 24\n",
    "print(x)"
   ]
  },
  {
   "cell_type": "code",
   "execution_count": null,
   "id": "e559fea5",
   "metadata": {},
   "outputs": [],
   "source": [
    "x = 10\n",
    "x += 24  --> x = x + 24\n",
    "print(x)"
   ]
  },
  {
   "cell_type": "code",
   "execution_count": null,
   "id": "395a3bfb",
   "metadata": {},
   "outputs": [],
   "source": [
    "x = 20\n",
    "x -=10 --> x = x - 10\n"
   ]
  },
  {
   "cell_type": "code",
   "execution_count": null,
   "id": "a7c63316",
   "metadata": {},
   "outputs": [],
   "source": [
    "x = 1\n",
    "x += 1  -> x = x+1"
   ]
  },
  {
   "cell_type": "code",
   "execution_count": 28,
   "id": "66421ba7",
   "metadata": {},
   "outputs": [
    {
     "name": "stdout",
     "output_type": "stream",
     "text": [
      "5\n"
     ]
    }
   ],
   "source": [
    "x = 10\n",
    "x //= 2\n",
    "print(x)"
   ]
  },
  {
   "cell_type": "code",
   "execution_count": null,
   "id": "ab0f9b74",
   "metadata": {},
   "outputs": [],
   "source": [
    "x = 10\n",
    "x  = x%2\n",
    "print(x)"
   ]
  },
  {
   "cell_type": "code",
   "execution_count": 33,
   "id": "7ed69cc1",
   "metadata": {},
   "outputs": [
    {
     "name": "stdout",
     "output_type": "stream",
     "text": [
      "30\n"
     ]
    }
   ],
   "source": [
    "x= 30\n",
    "x = 20 + 10\n",
    "print(x)"
   ]
  },
  {
   "cell_type": "code",
   "execution_count": 34,
   "id": "1e6e31df",
   "metadata": {},
   "outputs": [
    {
     "name": "stdout",
     "output_type": "stream",
     "text": [
      "50\n"
     ]
    }
   ],
   "source": [
    "x = 20\n",
    "x  = x + 30\n",
    "print(x)"
   ]
  },
  {
   "cell_type": "code",
   "execution_count": 35,
   "id": "7d65b047",
   "metadata": {},
   "outputs": [
    {
     "name": "stdout",
     "output_type": "stream",
     "text": [
      "30\n"
     ]
    }
   ],
   "source": [
    "x = 20\n",
    "x = 20 +20\n",
    "print(x)"
   ]
  },
  {
   "cell_type": "code",
   "execution_count": 37,
   "id": "0d0256aa",
   "metadata": {},
   "outputs": [
    {
     "name": "stdout",
     "output_type": "stream",
     "text": [
      "70\n"
     ]
    }
   ],
   "source": [
    "x = 50\n",
    "x = x +20\n",
    "print(x)"
   ]
  },
  {
   "cell_type": "code",
   "execution_count": 38,
   "id": "9286dafb",
   "metadata": {},
   "outputs": [
    {
     "name": "stdout",
     "output_type": "stream",
     "text": [
      "30\n"
     ]
    }
   ],
   "source": [
    "x = 10\n",
    "x = x + 20\n",
    "print(x)"
   ]
  },
  {
   "cell_type": "code",
   "execution_count": null,
   "id": "9c62282f",
   "metadata": {},
   "outputs": [],
   "source": [
    "x = 10\n",
    "x += 20\n",
    "print(x)"
   ]
  },
  {
   "cell_type": "code",
   "execution_count": 39,
   "id": "3105ef4f",
   "metadata": {},
   "outputs": [
    {
     "data": {
      "text/plain": [
       "int"
      ]
     },
     "execution_count": 39,
     "metadata": {},
     "output_type": "execute_result"
    }
   ],
   "source": [
    "type(0)"
   ]
  },
  {
   "cell_type": "code",
   "execution_count": 40,
   "id": "843b4b00",
   "metadata": {},
   "outputs": [
    {
     "name": "stdout",
     "output_type": "stream",
     "text": [
      "10\n"
     ]
    },
    {
     "data": {
      "text/plain": [
       "NoneType"
      ]
     },
     "execution_count": 40,
     "metadata": {},
     "output_type": "execute_result"
    }
   ],
   "source": [
    "type(print(10))"
   ]
  },
  {
   "cell_type": "code",
   "execution_count": 1,
   "id": "e5d9a2cb",
   "metadata": {},
   "outputs": [
    {
     "name": "stdout",
     "output_type": "stream",
     "text": [
      "0\n",
      "0\n"
     ]
    },
    {
     "data": {
      "text/plain": [
       "NoneType"
      ]
     },
     "execution_count": 1,
     "metadata": {},
     "output_type": "execute_result"
    }
   ],
   "source": [
    "x = 50\n",
    "x = x%5\n",
    "print(x) \n",
    "type(print(x))"
   ]
  },
  {
   "cell_type": "code",
   "execution_count": null,
   "id": "283a70fc",
   "metadata": {},
   "outputs": [],
   "source": [
    "x = 20\n",
    "x += 5\n",
    "x -= 5\n",
    "x *= 5\n",
    "x //=5\n",
    "x &= 5\n",
    "x |= 5\n",
    "x >>= 5\n",
    "x <<= 5\n",
    "x **= 5\n",
    "x %= 5"
   ]
  },
  {
   "cell_type": "code",
   "execution_count": null,
   "id": "24cad552",
   "metadata": {},
   "outputs": [],
   "source": [
    "# Indentity operators\n",
    "\n",
    "op - is / is not\n",
    "- they check if the memory address of the two varibale is same or not"
   ]
  },
  {
   "cell_type": "code",
   "execution_count": 5,
   "id": "8006460d",
   "metadata": {},
   "outputs": [
    {
     "name": "stdout",
     "output_type": "stream",
     "text": [
      "30\n"
     ]
    }
   ],
   "source": [
    "x = 10\n",
    "y = 20\n",
    "c = x + y\n",
    "print(c)"
   ]
  },
  {
   "cell_type": "code",
   "execution_count": 7,
   "id": "1127168b",
   "metadata": {},
   "outputs": [
    {
     "name": "stdout",
     "output_type": "stream",
     "text": [
      "1609758304848\n",
      "1609758305168\n",
      "1609758305488\n",
      "30\n"
     ]
    }
   ],
   "source": [
    "# to check the memeory address of a varibale id()\n",
    "x= 10\n",
    "print(id(x))\n",
    "y = 20\n",
    "print(id(y))\n",
    "c = x + y\n",
    "print(id(c))\n",
    "print(c)"
   ]
  },
  {
   "cell_type": "code",
   "execution_count": 8,
   "id": "bcb7ebcb",
   "metadata": {},
   "outputs": [
    {
     "name": "stdout",
     "output_type": "stream",
     "text": [
      "1609758305168\n",
      "1609758305168\n"
     ]
    }
   ],
   "source": [
    "x = 20\n",
    "y = 20\n",
    "x = 20\n",
    "print(id(x))\n",
    "print(id(y))"
   ]
  },
  {
   "cell_type": "code",
   "execution_count": null,
   "id": "afa09bf8",
   "metadata": {},
   "outputs": [],
   "source": [
    "memeory reusabilty"
   ]
  },
  {
   "cell_type": "code",
   "execution_count": 9,
   "id": "341b5388",
   "metadata": {},
   "outputs": [
    {
     "name": "stdout",
     "output_type": "stream",
     "text": [
      "1609758305488\n",
      "1609758305488\n"
     ]
    }
   ],
   "source": [
    "x = 10\n",
    "y = 20\n",
    "c = x+y\n",
    "d = 30\n",
    "\n",
    "print(id(c))\n",
    "print(id(d))"
   ]
  },
  {
   "cell_type": "code",
   "execution_count": 10,
   "id": "25c7bc92",
   "metadata": {},
   "outputs": [
    {
     "name": "stdout",
     "output_type": "stream",
     "text": [
      "1609758496208\n",
      "1609758496240\n"
     ]
    }
   ],
   "source": [
    "x = 100\n",
    "y = 101\n",
    "\n",
    "print(id(x))\n",
    "print(id(y))"
   ]
  },
  {
   "cell_type": "code",
   "execution_count": 11,
   "id": "33b4fc5a",
   "metadata": {},
   "outputs": [
    {
     "name": "stdout",
     "output_type": "stream",
     "text": [
      "1609758496208\n",
      "1609758496208\n"
     ]
    }
   ],
   "source": [
    "x = 100\n",
    "y = 100\n",
    "\n",
    "print(id(x))\n",
    "print(id(y))"
   ]
  },
  {
   "cell_type": "code",
   "execution_count": 12,
   "id": "0f09b474",
   "metadata": {},
   "outputs": [
    {
     "name": "stdout",
     "output_type": "stream",
     "text": [
      "1609839183888\n",
      "1609839183280\n"
     ]
    }
   ],
   "source": [
    "x = 700\n",
    "y = 702\n",
    "\n",
    "print(id(x))\n",
    "print(id(y))"
   ]
  },
  {
   "cell_type": "code",
   "execution_count": 13,
   "id": "c5176269",
   "metadata": {},
   "outputs": [
    {
     "name": "stdout",
     "output_type": "stream",
     "text": [
      "1609839184304\n",
      "1609839184432\n"
     ]
    }
   ],
   "source": [
    "x = 700\n",
    "y = 700\n",
    "\n",
    "print(id(x))\n",
    "print(id(y))"
   ]
  },
  {
   "cell_type": "code",
   "execution_count": null,
   "id": "01af5a8b",
   "metadata": {},
   "outputs": [],
   "source": [
    "# object reusabilty \n",
    "\n",
    "int - -5 to 256\n",
    "None\n",
    "Boolean\n",
    "str = A-Z , a-z , 0-9 , _\n",
    "\n",
    "# not applicable\n",
    "float\n",
    "complex"
   ]
  },
  {
   "cell_type": "code",
   "execution_count": 15,
   "id": "01590658",
   "metadata": {},
   "outputs": [
    {
     "name": "stdout",
     "output_type": "stream",
     "text": [
      "1609839077424\n",
      "1609839077424\n"
     ]
    }
   ],
   "source": [
    "a = 'afsan09_'\n",
    "b = 'afsan09_'\n",
    "print(id(a))\n",
    "print(id(b))"
   ]
  },
  {
   "cell_type": "code",
   "execution_count": 16,
   "id": "377e5f8c",
   "metadata": {},
   "outputs": [
    {
     "name": "stdout",
     "output_type": "stream",
     "text": [
      "1609839224560\n",
      "1609839224240\n"
     ]
    }
   ],
   "source": [
    "a = 'afsan khan'\n",
    "b = 'afsan khan'\n",
    "print(id(a))\n",
    "print(id(b))"
   ]
  },
  {
   "cell_type": "code",
   "execution_count": 17,
   "id": "ea1b36fc",
   "metadata": {},
   "outputs": [
    {
     "name": "stdout",
     "output_type": "stream",
     "text": [
      "1609758304848\n",
      "1609758305008\n"
     ]
    }
   ],
   "source": [
    "x = 10\n",
    "print(id(x))\n",
    "x = x+5\n",
    "print(id(x))"
   ]
  },
  {
   "cell_type": "code",
   "execution_count": null,
   "id": "a9efe82b",
   "metadata": {},
   "outputs": [],
   "source": [
    "a = 10\n",
    "x = 10\n",
    "x = x+5"
   ]
  },
  {
   "cell_type": "code",
   "execution_count": 18,
   "id": "61194f1d",
   "metadata": {},
   "outputs": [],
   "source": [
    "a = 10\n",
    "a = 10+5\n",
    "a = a+10\n",
    "a = a+100"
   ]
  },
  {
   "cell_type": "code",
   "execution_count": null,
   "id": "e5a894a3",
   "metadata": {},
   "outputs": [],
   "source": [
    "a = 10"
   ]
  },
  {
   "cell_type": "code",
   "execution_count": 1,
   "id": "de53faf4",
   "metadata": {},
   "outputs": [
    {
     "name": "stdout",
     "output_type": "stream",
     "text": [
      "1791254620752\n"
     ]
    }
   ],
   "source": [
    "print(id(10))"
   ]
  },
  {
   "cell_type": "code",
   "execution_count": 1,
   "id": "2761d142",
   "metadata": {},
   "outputs": [
    {
     "name": "stdout",
     "output_type": "stream",
     "text": [
      "2514044938832\n"
     ]
    }
   ],
   "source": [
    "a = 10\n",
    "print(id(a))"
   ]
  },
  {
   "cell_type": "code",
   "execution_count": null,
   "id": "0a21bc54",
   "metadata": {},
   "outputs": [],
   "source": [
    "easy\n"
   ]
  }
 ],
 "metadata": {
  "kernelspec": {
   "display_name": "Python 3 (ipykernel)",
   "language": "python",
   "name": "python3"
  },
  "language_info": {
   "codemirror_mode": {
    "name": "ipython",
    "version": 3
   },
   "file_extension": ".py",
   "mimetype": "text/x-python",
   "name": "python",
   "nbconvert_exporter": "python",
   "pygments_lexer": "ipython3",
   "version": "3.9.7"
  }
 },
 "nbformat": 4,
 "nbformat_minor": 5
}
