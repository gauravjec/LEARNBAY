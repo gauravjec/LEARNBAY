{
 "cells": [
  {
   "cell_type": "code",
   "execution_count": null,
   "id": "191608fa",
   "metadata": {},
   "outputs": [],
   "source": [
    "1. it is not a seq data type\n",
    "2. it a collection of key value pair\n",
    "3. items are sep by ,\n",
    "4. key value pair are sep by :\n",
    "5. key cannot be dupicated whereas value can be duplicated\n",
    "6. key should be always immutable data type\n",
    "7. value can be anything of our choice\n",
    "8. all the items are wrtiiten in curly brackets\n",
    "9. index ,  slicing , concatination , repetiton is not allowed\n",
    "10. membership is applicable but only on keys\n",
    "11. idenitity\n",
    "12. dic is mutable"
   ]
  },
  {
   "cell_type": "code",
   "execution_count": 2,
   "id": "175856de",
   "metadata": {},
   "outputs": [
    {
     "name": "stdout",
     "output_type": "stream",
     "text": [
      "{'name': 'afsaan', 'age': 24} <class 'dict'>\n"
     ]
    }
   ],
   "source": [
    "# 2. it a collection of key value pair\n",
    "# 3. items are sep by ,\n",
    "# 4. key value pair are sep by :\n",
    "# 8. all the items are wrtiiten in curly brackets\n",
    "\n",
    "employee = {'name':'afsaan' , 'age':24}\n",
    "print(employee, type(employee))"
   ]
  },
  {
   "cell_type": "code",
   "execution_count": 5,
   "id": "1ade17f8",
   "metadata": {},
   "outputs": [
    {
     "ename": "TypeError",
     "evalue": "unhashable type: 'slice'",
     "output_type": "error",
     "traceback": [
      "\u001b[1;31m---------------------------------------------------------------------------\u001b[0m",
      "\u001b[1;31mTypeError\u001b[0m                                 Traceback (most recent call last)",
      "\u001b[1;32m~\\AppData\\Local\\Temp/ipykernel_13608/2137996520.py\u001b[0m in \u001b[0;36m<module>\u001b[1;34m\u001b[0m\n\u001b[0;32m      4\u001b[0m \u001b[1;33m\u001b[0m\u001b[0m\n\u001b[0;32m      5\u001b[0m \u001b[1;31m# print(employee[0])\u001b[0m\u001b[1;33m\u001b[0m\u001b[1;33m\u001b[0m\u001b[0m\n\u001b[1;32m----> 6\u001b[1;33m \u001b[0mprint\u001b[0m\u001b[1;33m(\u001b[0m\u001b[0memployee\u001b[0m\u001b[1;33m[\u001b[0m\u001b[1;33m:\u001b[0m\u001b[1;33m]\u001b[0m\u001b[1;33m)\u001b[0m\u001b[1;33m\u001b[0m\u001b[1;33m\u001b[0m\u001b[0m\n\u001b[0m",
      "\u001b[1;31mTypeError\u001b[0m: unhashable type: 'slice'"
     ]
    }
   ],
   "source": [
    "# 1. it is not a seq data type\n",
    "\n",
    "employee = {'name':'afsaan' , 'age':24}\n",
    "\n",
    "# print(employee[0])\n",
    "print(employee[:])"
   ]
  },
  {
   "cell_type": "code",
   "execution_count": 6,
   "id": "0e8e7529",
   "metadata": {},
   "outputs": [
    {
     "name": "stdout",
     "output_type": "stream",
     "text": [
      "{'name': 'afsaan', 'age': 24, 'exp': 24}\n"
     ]
    }
   ],
   "source": [
    "# 5. key cannot be duplicated whereas value can be duplicated\n",
    "\n",
    "# a.) duplicate value\n",
    "\n",
    "employee = {'name':'afsaan' , 'age':24 , 'exp':24}\n",
    "print(employee)"
   ]
  },
  {
   "cell_type": "code",
   "execution_count": 8,
   "id": "3e4acd86",
   "metadata": {},
   "outputs": [
    {
     "name": "stdout",
     "output_type": "stream",
     "text": [
      "{'name': 'rahul', 'age': 24}\n"
     ]
    }
   ],
   "source": [
    "#b) keys are duplicated\n",
    "\n",
    "employee = {'name':'afsaan' , 'age':24 , 'name':'rahul'}\n",
    "print(employee)"
   ]
  },
  {
   "cell_type": "code",
   "execution_count": null,
   "id": "91209c51",
   "metadata": {},
   "outputs": [],
   "source": [
    "name -- rahul\n",
    "age -- 24"
   ]
  },
  {
   "cell_type": "code",
   "execution_count": 9,
   "id": "bda9eae9",
   "metadata": {},
   "outputs": [
    {
     "name": "stdout",
     "output_type": "stream",
     "text": [
      "{'name': 'rahul', 'age': 24}\n"
     ]
    }
   ],
   "source": [
    "# 6. key should be always immutable data type\n",
    "\n",
    "employee = {'name':'afsaan' , 'age':24 , 'name':'rahul'}\n",
    "print(employee)"
   ]
  },
  {
   "cell_type": "code",
   "execution_count": 10,
   "id": "cd40e65d",
   "metadata": {},
   "outputs": [
    {
     "name": "stdout",
     "output_type": "stream",
     "text": [
      "{'name': 'afsaan', 1: 24, 2: 'rahul'}\n"
     ]
    }
   ],
   "source": [
    "employee = {'name':'afsaan' , 1:24 , 2:'rahul'}\n",
    "print(employee)"
   ]
  },
  {
   "cell_type": "code",
   "execution_count": 11,
   "id": "8b89724c",
   "metadata": {},
   "outputs": [
    {
     "name": "stdout",
     "output_type": "stream",
     "text": [
      "{'name': 'afsaan', True: 24, False: 'rahul'}\n"
     ]
    }
   ],
   "source": [
    "employee = {'name':'afsaan' , True:24 , False:'rahul'}\n",
    "print(employee)"
   ]
  },
  {
   "cell_type": "code",
   "execution_count": 12,
   "id": "982d3601",
   "metadata": {},
   "outputs": [
    {
     "ename": "TypeError",
     "evalue": "unhashable type: 'list'",
     "output_type": "error",
     "traceback": [
      "\u001b[1;31m---------------------------------------------------------------------------\u001b[0m",
      "\u001b[1;31mTypeError\u001b[0m                                 Traceback (most recent call last)",
      "\u001b[1;32m~\\AppData\\Local\\Temp/ipykernel_13608/2375083641.py\u001b[0m in \u001b[0;36m<module>\u001b[1;34m\u001b[0m\n\u001b[1;32m----> 1\u001b[1;33m \u001b[0memployee\u001b[0m \u001b[1;33m=\u001b[0m \u001b[1;33m{\u001b[0m\u001b[1;34m'name'\u001b[0m\u001b[1;33m:\u001b[0m\u001b[1;34m'afsaan'\u001b[0m \u001b[1;33m,\u001b[0m \u001b[1;33m[\u001b[0m\u001b[1;36m1\u001b[0m\u001b[1;33m,\u001b[0m\u001b[1;36m2\u001b[0m\u001b[1;33m,\u001b[0m\u001b[1;36m3\u001b[0m\u001b[1;33m,\u001b[0m\u001b[1;36m4\u001b[0m\u001b[1;33m]\u001b[0m\u001b[1;33m:\u001b[0m\u001b[1;36m24\u001b[0m \u001b[1;33m,\u001b[0m \u001b[1;32mFalse\u001b[0m\u001b[1;33m:\u001b[0m\u001b[1;34m'rahul'\u001b[0m\u001b[1;33m}\u001b[0m\u001b[1;33m\u001b[0m\u001b[1;33m\u001b[0m\u001b[0m\n\u001b[0m\u001b[0;32m      2\u001b[0m \u001b[0mprint\u001b[0m\u001b[1;33m(\u001b[0m\u001b[0memployee\u001b[0m\u001b[1;33m)\u001b[0m\u001b[1;33m\u001b[0m\u001b[1;33m\u001b[0m\u001b[0m\n",
      "\u001b[1;31mTypeError\u001b[0m: unhashable type: 'list'"
     ]
    }
   ],
   "source": [
    "employee = {'name':'afsaan' , [1,2,3,4]:24 , False:'rahul'}\n",
    "print(employee)"
   ]
  },
  {
   "cell_type": "code",
   "execution_count": 13,
   "id": "6c78d070",
   "metadata": {},
   "outputs": [
    {
     "name": "stdout",
     "output_type": "stream",
     "text": [
      "{'name': 'afsaan', (1, 2, 3, 4): 24, False: 'rahul'}\n"
     ]
    }
   ],
   "source": [
    "employee = {'name':'afsaan' , (1,2,3,4):24 , False:'rahul'}\n",
    "print(employee)"
   ]
  },
  {
   "cell_type": "code",
   "execution_count": 15,
   "id": "df78b3ec",
   "metadata": {},
   "outputs": [
    {
     "name": "stdout",
     "output_type": "stream",
     "text": [
      "{'name': 'afsaan', (1, 2, 3, 4): [1, 2, 3, 4], False: (6+7j)}\n"
     ]
    }
   ],
   "source": [
    "# 7. value can be anything of our choice\n",
    "\n",
    "employee = {'name':'afsaan' , (1,2,3,4):[1,2,3,4] , False:6+7j}\n",
    "print(employee)"
   ]
  },
  {
   "cell_type": "code",
   "execution_count": 17,
   "id": "86b93dfb",
   "metadata": {},
   "outputs": [
    {
     "name": "stdout",
     "output_type": "stream",
     "text": [
      "False\n",
      "True\n"
     ]
    }
   ],
   "source": [
    "# 10. membership is applicable but only on keys\n",
    "\n",
    "employee = {'name':'afsaan' , 'age':24 , 'exp':24}\n",
    "print(24 in employee)\n",
    "\n",
    "employee = {'name':'afsaan' , 'age':24 , 'exp':24}\n",
    "print('name' in employee)"
   ]
  },
  {
   "cell_type": "code",
   "execution_count": 18,
   "id": "cae3feba",
   "metadata": {},
   "outputs": [
    {
     "name": "stdout",
     "output_type": "stream",
     "text": [
      "False\n"
     ]
    }
   ],
   "source": [
    "# 11. idenitity\n",
    "\n",
    "a = {'name':'afsaan' , 'age':24 , 'exp':24}\n",
    "b = {'name':'afsaan' , 'age':24 , 'exp':24}\n",
    "\n",
    "print(a is b)"
   ]
  },
  {
   "cell_type": "code",
   "execution_count": 19,
   "id": "6c66d68e",
   "metadata": {},
   "outputs": [
    {
     "name": "stdout",
     "output_type": "stream",
     "text": [
      "{'name': 'rahul', 'age': 24, 'exp': 24}\n"
     ]
    }
   ],
   "source": [
    "# 12. dic is mutable\n",
    "\n",
    "b = {'name':'afsaan' , 'age':24 , 'exp':24}\n",
    "b['name'] = 'rahul'\n",
    "\n",
    "print(b)"
   ]
  },
  {
   "cell_type": "code",
   "execution_count": 21,
   "id": "17dfc6e2",
   "metadata": {},
   "outputs": [
    {
     "data": {
      "text/plain": [
       "'rahul'"
      ]
     },
     "execution_count": 21,
     "metadata": {},
     "output_type": "execute_result"
    }
   ],
   "source": [
    "# Accessing a value inside a dict\n",
    "\n",
    "data = {'emp_1' : {'name':'afsaan' , 'age':24 , 'exp':24} , 'emp_2' : {'name':'rahul' , 'age':24 , 'exp':24}}\n",
    "\n",
    "data['emp_2']['name']"
   ]
  },
  {
   "cell_type": "code",
   "execution_count": 22,
   "id": "b5051384",
   "metadata": {},
   "outputs": [
    {
     "data": {
      "text/plain": [
       "'naasfa'"
      ]
     },
     "execution_count": 22,
     "metadata": {},
     "output_type": "execute_result"
    }
   ],
   "source": [
    "data['emp_1']['name'][::-1]"
   ]
  },
  {
   "cell_type": "code",
   "execution_count": 23,
   "id": "7ddf35fd",
   "metadata": {},
   "outputs": [
    {
     "data": {
      "text/plain": [
       "['__class__',\n",
       " '__class_getitem__',\n",
       " '__contains__',\n",
       " '__delattr__',\n",
       " '__delitem__',\n",
       " '__dir__',\n",
       " '__doc__',\n",
       " '__eq__',\n",
       " '__format__',\n",
       " '__ge__',\n",
       " '__getattribute__',\n",
       " '__getitem__',\n",
       " '__gt__',\n",
       " '__hash__',\n",
       " '__init__',\n",
       " '__init_subclass__',\n",
       " '__ior__',\n",
       " '__iter__',\n",
       " '__le__',\n",
       " '__len__',\n",
       " '__lt__',\n",
       " '__ne__',\n",
       " '__new__',\n",
       " '__or__',\n",
       " '__reduce__',\n",
       " '__reduce_ex__',\n",
       " '__repr__',\n",
       " '__reversed__',\n",
       " '__ror__',\n",
       " '__setattr__',\n",
       " '__setitem__',\n",
       " '__sizeof__',\n",
       " '__str__',\n",
       " '__subclasshook__',\n",
       " 'clear',\n",
       " 'copy',\n",
       " 'fromkeys',\n",
       " 'get',\n",
       " 'items',\n",
       " 'keys',\n",
       " 'pop',\n",
       " 'popitem',\n",
       " 'setdefault',\n",
       " 'update',\n",
       " 'values']"
      ]
     },
     "execution_count": 23,
     "metadata": {},
     "output_type": "execute_result"
    }
   ],
   "source": [
    "# Methods on dic\n",
    "\n",
    "dir(dict)"
   ]
  },
  {
   "cell_type": "code",
   "execution_count": null,
   "id": "4c02df5f",
   "metadata": {},
   "outputs": [],
   "source": [
    "# 1. methods to add and access the element from the dict\n",
    "\n",
    "1. get\n",
    "2. setdeafult\n",
    "3. update"
   ]
  },
  {
   "cell_type": "markdown",
   "id": "4420112c",
   "metadata": {},
   "source": [
    "# 1. get\n",
    "\n",
    "if the key is present it returns a value, else default"
   ]
  },
  {
   "cell_type": "code",
   "execution_count": 24,
   "id": "4bc6c039",
   "metadata": {},
   "outputs": [
    {
     "name": "stdout",
     "output_type": "stream",
     "text": [
      "{'name': 'afsaan', 'age': 24, 'exp': 24}\n"
     ]
    }
   ],
   "source": [
    "# a.) if key is present\n",
    "\n",
    "data = {'emp_1' : {'name':'afsaan' , 'age':24 , 'exp':24},\n",
    "        'emp_2' : {'name':'rahul' , 'age':24 , 'exp':24}}\n",
    "\n",
    "print(data.get('emp_1'))"
   ]
  },
  {
   "cell_type": "code",
   "execution_count": 25,
   "id": "3675579a",
   "metadata": {},
   "outputs": [
    {
     "name": "stdout",
     "output_type": "stream",
     "text": [
      "None\n"
     ]
    }
   ],
   "source": [
    "# b) key is not present\n",
    "\n",
    "data = {'emp_1' : {'name':'afsaan' , 'age':24 , 'exp':24},\n",
    "        'emp_2' : {'name':'rahul' , 'age':24 , 'exp':24}}\n",
    "\n",
    "print(data.get('emp_3'))"
   ]
  },
  {
   "cell_type": "code",
   "execution_count": 29,
   "id": "06a0e778",
   "metadata": {},
   "outputs": [
    {
     "name": "stdout",
     "output_type": "stream",
     "text": [
      "None\n"
     ]
    }
   ],
   "source": [
    "# you can customised the message of key is not present\n",
    "\n",
    "data = {'emp_1' : {'name':'afsaan' , 'age':24 , 'exp':24},\n",
    "        'emp_2' : {'name':'rahul' , 'age':24 , 'exp':24}}\n",
    "\n",
    "print(data.get('emp_3' , \"key is not present\"))"
   ]
  },
  {
   "cell_type": "markdown",
   "id": "cc15d4d8",
   "metadata": {},
   "source": [
    "# 2. set deafult\n",
    "\n",
    "insert the key with the value of the deafult if key is not present in a dict , else return a value"
   ]
  },
  {
   "cell_type": "code",
   "execution_count": 31,
   "id": "ac776fa5",
   "metadata": {},
   "outputs": [
    {
     "name": "stdout",
     "output_type": "stream",
     "text": [
      "{'name': 'rahul', 'age': 24, 'exp': 24}\n"
     ]
    }
   ],
   "source": [
    "# a) key is present\n",
    "\n",
    "data = {'emp_1' : {'name':'afsaan' , 'age':24 , 'exp':24},\n",
    "        'emp_2' : {'name':'rahul' , 'age':24 , 'exp':24}}\n",
    "\n",
    "print(data.setdefault('emp_2' , \"key is not present\"))"
   ]
  },
  {
   "cell_type": "code",
   "execution_count": 32,
   "id": "16641564",
   "metadata": {},
   "outputs": [
    {
     "name": "stdout",
     "output_type": "stream",
     "text": [
      "key is not present\n"
     ]
    }
   ],
   "source": [
    "# a) key is not present\n",
    "\n",
    "data = {'emp_1' : {'name':'afsaan' , 'age':24 , 'exp':24},\n",
    "        'emp_2' : {'name':'rahul' , 'age':24 , 'exp':24}}\n",
    "\n",
    "print(data.setdefault('emp_3' , \"key is not present\"))"
   ]
  },
  {
   "cell_type": "code",
   "execution_count": 33,
   "id": "c9159468",
   "metadata": {},
   "outputs": [
    {
     "data": {
      "text/plain": [
       "{'emp_1': {'name': 'afsaan', 'age': 24, 'exp': 24},\n",
       " 'emp_2': {'name': 'rahul', 'age': 24, 'exp': 24},\n",
       " 'emp_3': 'key is not present'}"
      ]
     },
     "execution_count": 33,
     "metadata": {},
     "output_type": "execute_result"
    }
   ],
   "source": [
    "data"
   ]
  },
  {
   "cell_type": "code",
   "execution_count": 35,
   "id": "0065e9a9",
   "metadata": {},
   "outputs": [],
   "source": [
    "# 3. update\n",
    "\n",
    "data_1 = {'emp_1' : {'name':'afsaan' , 'age':24 , 'exp':24},\n",
    "        'emp_2' : {'name':'rahul' , 'age':24 , 'exp':24}}\n",
    "\n",
    "data_2 = {'emp_3' : {'name':'devendra' , 'age':24 , 'exp':24},\n",
    "        'emp_4' : {'name':'sauvik' , 'age':24 , 'exp':24}}\n",
    "\n",
    "data_2.update(data_1)"
   ]
  },
  {
   "cell_type": "code",
   "execution_count": 36,
   "id": "2bbdc371",
   "metadata": {},
   "outputs": [
    {
     "data": {
      "text/plain": [
       "{'emp_1': {'name': 'afsaan', 'age': 24, 'exp': 24},\n",
       " 'emp_2': {'name': 'rahul', 'age': 24, 'exp': 24},\n",
       " 'emp_3': {'name': 'devendra', 'age': 24, 'exp': 24},\n",
       " 'emp_4': {'name': 'sauvik', 'age': 24, 'exp': 24}}"
      ]
     },
     "execution_count": 36,
     "metadata": {},
     "output_type": "execute_result"
    }
   ],
   "source": [
    "data_1"
   ]
  },
  {
   "cell_type": "code",
   "execution_count": 37,
   "id": "ac299977",
   "metadata": {},
   "outputs": [],
   "source": [
    "data_1 = {'emp_1' : {'name':'afsaan' , 'age':24 , 'exp':24},\n",
    "        'emp_2' : {'name':'rahul' , 'age':24 , 'exp':24}}\n",
    "\n",
    "data_2 = {'emp_3' : {'name':'devendra' , 'age':24 , 'exp':24},\n",
    "        'emp_2' : {'name':'sauvik' , 'age':24 , 'exp':24}}\n",
    "\n",
    "data_1.update(data_2)"
   ]
  },
  {
   "cell_type": "code",
   "execution_count": 39,
   "id": "9a5ff45f",
   "metadata": {},
   "outputs": [
    {
     "data": {
      "text/plain": [
       "{'emp_1': {'name': 'afsaan', 'age': 24, 'exp': 24},\n",
       " 'emp_2': {'name': 'sauvik', 'age': 24, 'exp': 24},\n",
       " 'emp_3': {'name': 'devendra', 'age': 24, 'exp': 24}}"
      ]
     },
     "execution_count": 39,
     "metadata": {},
     "output_type": "execute_result"
    }
   ],
   "source": [
    "data_1"
   ]
  },
  {
   "cell_type": "code",
   "execution_count": 42,
   "id": "af4371b3",
   "metadata": {},
   "outputs": [],
   "source": [
    "data_1 = {'emp_1' : {'name':'afsaan' , 'age':24 , 'exp':24},\n",
    "        'emp_2' : {'name':'rahul' , 'age':24 , 'exp':24}}\n",
    "\n",
    "data_2 = {'emp_3' : {'name':'devendra' , 'age':24 , 'exp':24},\n",
    "        'emp_4' : {'name':'sauvik' , 'age':24 , 'exp':24}}\n",
    "\n",
    "data_1.update(data_2)\n",
    "# data_2['emp_3'].update({'phone':99999})"
   ]
  },
  {
   "cell_type": "markdown",
   "id": "b95890f6",
   "metadata": {},
   "source": [
    "#2. methods to delete the items from the dic\n",
    "\n",
    "1. pop\n",
    "2. popitem"
   ]
  },
  {
   "cell_type": "markdown",
   "id": "5906339e",
   "metadata": {},
   "source": [
    "# 1.pop \n",
    "\n",
    "removes the specified key and return the corresponding value. if key is not found, deafult is returned if given, otherwise keyerror"
   ]
  },
  {
   "cell_type": "code",
   "execution_count": 47,
   "id": "66e6d275",
   "metadata": {},
   "outputs": [
    {
     "data": {
      "text/plain": [
       "{'name': 'sauvik', 'age': 24, 'exp': 24}"
      ]
     },
     "execution_count": 47,
     "metadata": {},
     "output_type": "execute_result"
    }
   ],
   "source": [
    "# a.) key is present\n",
    "\n",
    "data_1 = {'emp_1': {'name': 'afsaan', 'age': 24, 'exp': 24},\n",
    " 'emp_2': {'name': 'rahul', 'age': 24, 'exp': 24},\n",
    " 'emp_3': {'name': 'devendra', 'age': 24, 'exp': 24},\n",
    " 'emp_4': {'name': 'sauvik', 'age': 24, 'exp': 24}}\n",
    "\n",
    "data_1.pop('emp_4')"
   ]
  },
  {
   "cell_type": "code",
   "execution_count": 48,
   "id": "4c9015a3",
   "metadata": {},
   "outputs": [
    {
     "data": {
      "text/plain": [
       "{'emp_1': {'name': 'afsaan', 'age': 24, 'exp': 24},\n",
       " 'emp_2': {'name': 'rahul', 'age': 24, 'exp': 24},\n",
       " 'emp_3': {'name': 'devendra', 'age': 24, 'exp': 24}}"
      ]
     },
     "execution_count": 48,
     "metadata": {},
     "output_type": "execute_result"
    }
   ],
   "source": [
    "data_1"
   ]
  },
  {
   "cell_type": "code",
   "execution_count": 49,
   "id": "fe61b86c",
   "metadata": {},
   "outputs": [
    {
     "ename": "KeyError",
     "evalue": "'emp_0'",
     "output_type": "error",
     "traceback": [
      "\u001b[1;31m---------------------------------------------------------------------------\u001b[0m",
      "\u001b[1;31mKeyError\u001b[0m                                  Traceback (most recent call last)",
      "\u001b[1;32m~\\AppData\\Local\\Temp/ipykernel_13608/3887097179.py\u001b[0m in \u001b[0;36m<module>\u001b[1;34m\u001b[0m\n\u001b[0;32m      6\u001b[0m  'emp_4': {'name': 'sauvik', 'age': 24, 'exp': 24}}\n\u001b[0;32m      7\u001b[0m \u001b[1;33m\u001b[0m\u001b[0m\n\u001b[1;32m----> 8\u001b[1;33m \u001b[0mdata_1\u001b[0m\u001b[1;33m.\u001b[0m\u001b[0mpop\u001b[0m\u001b[1;33m(\u001b[0m\u001b[1;34m'emp_0'\u001b[0m\u001b[1;33m)\u001b[0m\u001b[1;33m\u001b[0m\u001b[1;33m\u001b[0m\u001b[0m\n\u001b[0m",
      "\u001b[1;31mKeyError\u001b[0m: 'emp_0'"
     ]
    }
   ],
   "source": [
    "# b.) key is not present\n",
    "\n",
    "data_1 = {'emp_1': {'name': 'afsaan', 'age': 24, 'exp': 24},\n",
    " 'emp_2': {'name': 'rahul', 'age': 24, 'exp': 24},\n",
    " 'emp_3': {'name': 'devendra', 'age': 24, 'exp': 24},\n",
    " 'emp_4': {'name': 'sauvik', 'age': 24, 'exp': 24}}\n",
    "\n",
    "data_1.pop('emp_0')"
   ]
  },
  {
   "cell_type": "code",
   "execution_count": 50,
   "id": "83aa7411",
   "metadata": {},
   "outputs": [
    {
     "data": {
      "text/plain": [
       "'key is not present to remove'"
      ]
     },
     "execution_count": 50,
     "metadata": {},
     "output_type": "execute_result"
    }
   ],
   "source": [
    "data_1 = {'emp_1': {'name': 'afsaan', 'age': 24, 'exp': 24},\n",
    " 'emp_2': {'name': 'rahul', 'age': 24, 'exp': 24},\n",
    " 'emp_3': {'name': 'devendra', 'age': 24, 'exp': 24},\n",
    " 'emp_4': {'name': 'sauvik', 'age': 24, 'exp': 24}}\n",
    "\n",
    "data_1.pop('emp_0' , 'key is not present to remove')"
   ]
  },
  {
   "cell_type": "code",
   "execution_count": 52,
   "id": "8e2e09f6",
   "metadata": {},
   "outputs": [
    {
     "data": {
      "text/plain": [
       "('emp_4', {'name': 'sauvik', 'age': 24, 'exp': 24})"
      ]
     },
     "execution_count": 52,
     "metadata": {},
     "output_type": "execute_result"
    }
   ],
   "source": [
    "# 2. popitem\n",
    "\n",
    "# removes and return tuple(key, valyue) from the last\n",
    "\n",
    "data_1 = {'emp_1': {'name': 'afsaan', 'age': 24, 'exp': 24},\n",
    " 'emp_2': {'name': 'rahul', 'age': 24, 'exp': 24},\n",
    " 'emp_3': {'name': 'devendra', 'age': 24, 'exp': 24},\n",
    " 'emp_4': {'name': 'sauvik', 'age': 24, 'exp': 24}}\n",
    "\n",
    "data_1.popitem()"
   ]
  },
  {
   "cell_type": "code",
   "execution_count": 53,
   "id": "4dae47da",
   "metadata": {},
   "outputs": [
    {
     "data": {
      "text/plain": [
       "{'emp_1': {'name': 'afsaan', 'age': 24, 'exp': 24},\n",
       " 'emp_2': {'name': 'rahul', 'age': 24, 'exp': 24},\n",
       " 'emp_3': {'name': 'devendra', 'age': 24, 'exp': 24}}"
      ]
     },
     "execution_count": 53,
     "metadata": {},
     "output_type": "execute_result"
    }
   ],
   "source": [
    "data_1"
   ]
  },
  {
   "cell_type": "code",
   "execution_count": 54,
   "id": "b9dbfc39",
   "metadata": {},
   "outputs": [],
   "source": [
    "data_1 = {'emp_1': {'name': 'afsaan', 'age': 24, 'exp': 24},\n",
    " 'emp_2': {'name': 'rahul', 'age': 24, 'exp': 24},\n",
    " 'emp_3': {'name': 'devendra', 'age': 24, 'exp': 24},\n",
    " 'emp_4': {'name': 'sauvik', 'age': 24, 'exp': 24}}"
   ]
  },
  {
   "cell_type": "code",
   "execution_count": 57,
   "id": "6e0703af",
   "metadata": {},
   "outputs": [
    {
     "data": {
      "text/plain": [
       "'not present'"
      ]
     },
     "execution_count": 57,
     "metadata": {},
     "output_type": "execute_result"
    }
   ],
   "source": [
    "data_1.get('emp_100' , 'not present')"
   ]
  },
  {
   "cell_type": "code",
   "execution_count": 60,
   "id": "6b423a5c",
   "metadata": {},
   "outputs": [
    {
     "data": {
      "text/plain": [
       "dict_values([{'name': 'afsaan', 'age': 24, 'exp': 24}, {'name': 'rahul', 'age': 24, 'exp': 24}, {'name': 'devendra', 'age': 24, 'exp': 24}, {'name': 'sauvik', 'age': 24, 'exp': 24}])"
      ]
     },
     "execution_count": 60,
     "metadata": {},
     "output_type": "execute_result"
    }
   ],
   "source": [
    "# methods to check all the value in dict\n",
    "\n",
    "data_1.values()"
   ]
  },
  {
   "cell_type": "code",
   "execution_count": 61,
   "id": "4b745e2e",
   "metadata": {},
   "outputs": [
    {
     "name": "stdout",
     "output_type": "stream",
     "text": [
      "{'name': 'afsaan', 'age': 24, 'exp': 24}\n",
      "{'name': 'rahul', 'age': 24, 'exp': 24}\n",
      "{'name': 'devendra', 'age': 24, 'exp': 24}\n",
      "{'name': 'sauvik', 'age': 24, 'exp': 24}\n"
     ]
    }
   ],
   "source": [
    "for i in data_1.values():\n",
    "    print(i)"
   ]
  },
  {
   "cell_type": "code",
   "execution_count": 62,
   "id": "6b4ffc1e",
   "metadata": {},
   "outputs": [
    {
     "data": {
      "text/plain": [
       "dict_keys(['emp_1', 'emp_2', 'emp_3', 'emp_4'])"
      ]
     },
     "execution_count": 62,
     "metadata": {},
     "output_type": "execute_result"
    }
   ],
   "source": [
    "data_1.keys()"
   ]
  },
  {
   "cell_type": "code",
   "execution_count": 63,
   "id": "9a244823",
   "metadata": {},
   "outputs": [
    {
     "data": {
      "text/plain": [
       "dict_items([('emp_1', {'name': 'afsaan', 'age': 24, 'exp': 24}), ('emp_2', {'name': 'rahul', 'age': 24, 'exp': 24}), ('emp_3', {'name': 'devendra', 'age': 24, 'exp': 24}), ('emp_4', {'name': 'sauvik', 'age': 24, 'exp': 24})])"
      ]
     },
     "execution_count": 63,
     "metadata": {},
     "output_type": "execute_result"
    }
   ],
   "source": [
    "data_1.items()"
   ]
  },
  {
   "cell_type": "markdown",
   "id": "8856df5c",
   "metadata": {},
   "source": [
    "# fromkeys method\n",
    "\n",
    "Create a new dict with keys from iterable and value set to value"
   ]
  },
  {
   "cell_type": "code",
   "execution_count": 64,
   "id": "b96a941e",
   "metadata": {},
   "outputs": [
    {
     "name": "stdout",
     "output_type": "stream",
     "text": [
      "{1: None, 2: None, 3: None, 4: None}\n"
     ]
    }
   ],
   "source": [
    "d2 = dict.fromkeys([1,2,3,4])\n",
    "\n",
    "print(d2)"
   ]
  },
  {
   "cell_type": "code",
   "execution_count": 65,
   "id": "f06e9286",
   "metadata": {},
   "outputs": [
    {
     "name": "stdout",
     "output_type": "stream",
     "text": [
      "{1: 0, 2: 0, 3: 0, 4: 0}\n"
     ]
    }
   ],
   "source": [
    "d2 = dict.fromkeys([1,2,3,4] , 0)\n",
    "\n",
    "print(d2)"
   ]
  },
  {
   "cell_type": "code",
   "execution_count": 66,
   "id": "b41479bc",
   "metadata": {},
   "outputs": [],
   "source": [
    "# clear\n",
    "\n",
    "data_1 = {'emp_1': {'name': 'afsaan', 'age': 24, 'exp': 24},\n",
    " 'emp_2': {'name': 'rahul', 'age': 24, 'exp': 24},\n",
    " 'emp_3': {'name': 'devendra', 'age': 24, 'exp': 24},\n",
    " 'emp_4': {'name': 'sauvik', 'age': 24, 'exp': 24}}\n",
    "\n",
    "data_1.clear()"
   ]
  },
  {
   "cell_type": "code",
   "execution_count": 70,
   "id": "f1cc973e",
   "metadata": {},
   "outputs": [],
   "source": [
    "data_1 = {'emp_1': {'name': 'afsaan', 'age': 24, 'exp': 24},\n",
    " 'emp_2': {'name': 'rahul', 'age': 24, 'exp': 24},\n",
    " 'emp_3': {'name': 'devendra', 'age': 24, 'exp': 24},\n",
    " 'emp_4': {'name': 'sauvik', 'age': 24, 'exp': 24}}\n"
   ]
  },
  {
   "cell_type": "code",
   "execution_count": 71,
   "id": "95ac16c5",
   "metadata": {},
   "outputs": [
    {
     "data": {
      "text/plain": [
       "24"
      ]
     },
     "execution_count": 71,
     "metadata": {},
     "output_type": "execute_result"
    }
   ],
   "source": [
    "data_1['emp_3'].pop('exp')\n"
   ]
  },
  {
   "cell_type": "code",
   "execution_count": 72,
   "id": "66b4c0fc",
   "metadata": {},
   "outputs": [
    {
     "data": {
      "text/plain": [
       "{'emp_1': {'name': 'afsaan', 'age': 24, 'exp': 24},\n",
       " 'emp_2': {'name': 'rahul', 'age': 24, 'exp': 24},\n",
       " 'emp_3': {'name': 'devendra', 'age': 24},\n",
       " 'emp_4': {'name': 'sauvik', 'age': 24, 'exp': 24}}"
      ]
     },
     "execution_count": 72,
     "metadata": {},
     "output_type": "execute_result"
    }
   ],
   "source": [
    "data_1"
   ]
  },
  {
   "cell_type": "code",
   "execution_count": 73,
   "id": "b248fcd7",
   "metadata": {},
   "outputs": [
    {
     "ename": "NameError",
     "evalue": "name 'rohit' is not defined",
     "output_type": "error",
     "traceback": [
      "\u001b[1;31m---------------------------------------------------------------------------\u001b[0m",
      "\u001b[1;31mNameError\u001b[0m                                 Traceback (most recent call last)",
      "\u001b[1;32m~\\AppData\\Local\\Temp/ipykernel_13608/3906440493.py\u001b[0m in \u001b[0;36m<module>\u001b[1;34m\u001b[0m\n\u001b[0;32m      1\u001b[0m \u001b[0mdata\u001b[0m \u001b[1;33m=\u001b[0m \u001b[1;33m{\u001b[0m\u001b[1;34m'afsan'\u001b[0m\u001b[1;33m:\u001b[0m\u001b[1;36m1\u001b[0m \u001b[1;33m,\u001b[0m \u001b[1;34m'rohit'\u001b[0m\u001b[1;33m:\u001b[0m\u001b[1;36m1\u001b[0m\u001b[1;33m}\u001b[0m\u001b[1;33m\u001b[0m\u001b[1;33m\u001b[0m\u001b[0m\n\u001b[0;32m      2\u001b[0m \u001b[1;33m\u001b[0m\u001b[0m\n\u001b[1;32m----> 3\u001b[1;33m \u001b[0mname\u001b[0m \u001b[1;33m=\u001b[0m \u001b[1;33m[\u001b[0m\u001b[1;34m'afsan'\u001b[0m \u001b[1;33m,\u001b[0m \u001b[0mrohit\u001b[0m\u001b[1;33m]\u001b[0m\u001b[1;33m\u001b[0m\u001b[1;33m\u001b[0m\u001b[0m\n\u001b[0m",
      "\u001b[1;31mNameError\u001b[0m: name 'rohit' is not defined"
     ]
    }
   ],
   "source": []
  },
  {
   "cell_type": "markdown",
   "id": "9b113407",
   "metadata": {},
   "source": [
    "dict comprehension"
   ]
  },
  {
   "cell_type": "code",
   "execution_count": 74,
   "id": "831500d4",
   "metadata": {},
   "outputs": [
    {
     "data": {
      "text/plain": [
       "{1: 1, 2: 4, 3: 9, 4: 16, 5: 25}"
      ]
     },
     "execution_count": 74,
     "metadata": {},
     "output_type": "execute_result"
    }
   ],
   "source": [
    "a = [1,2,3,4,5]\n",
    "\n",
    "{i:i**2 for i in a}"
   ]
  },
  {
   "cell_type": "code",
   "execution_count": null,
   "id": "104a8bac",
   "metadata": {},
   "outputs": [],
   "source": [
    "# set data type\n",
    "\n",
    "- collection of values and it is not a seq\n",
    "- indexing and slicing is not supp\n",
    "- collection of unique element\n",
    "- mutable\n",
    "- cannot contain a mutable type"
   ]
  },
  {
   "cell_type": "code",
   "execution_count": 75,
   "id": "45d0b0de",
   "metadata": {},
   "outputs": [
    {
     "name": "stdout",
     "output_type": "stream",
     "text": [
      "{1, 2, 3, 4, 5}\n"
     ]
    }
   ],
   "source": [
    "a = {1,2,3,4,5,1,1,1,2,3,4}\n",
    "print(a)"
   ]
  },
  {
   "cell_type": "code",
   "execution_count": 77,
   "id": "c835656b",
   "metadata": {},
   "outputs": [
    {
     "ename": "TypeError",
     "evalue": "unhashable type: 'dict'",
     "output_type": "error",
     "traceback": [
      "\u001b[1;31m---------------------------------------------------------------------------\u001b[0m",
      "\u001b[1;31mTypeError\u001b[0m                                 Traceback (most recent call last)",
      "\u001b[1;32m~\\AppData\\Local\\Temp/ipykernel_13608/2963536867.py\u001b[0m in \u001b[0;36m<module>\u001b[1;34m\u001b[0m\n\u001b[1;32m----> 1\u001b[1;33m \u001b[0ma\u001b[0m \u001b[1;33m=\u001b[0m \u001b[1;33m{\u001b[0m\u001b[1;36m1\u001b[0m\u001b[1;33m,\u001b[0m\u001b[1;36m2\u001b[0m\u001b[1;33m,\u001b[0m\u001b[1;36m3\u001b[0m\u001b[1;33m,\u001b[0m\u001b[1;36m4\u001b[0m\u001b[1;33m,\u001b[0m\u001b[1;36m5\u001b[0m\u001b[1;33m,\u001b[0m\u001b[1;36m1\u001b[0m\u001b[1;33m,\u001b[0m\u001b[1;36m1\u001b[0m\u001b[1;33m,\u001b[0m\u001b[1;36m1\u001b[0m\u001b[1;33m,\u001b[0m\u001b[1;36m2\u001b[0m\u001b[1;33m,\u001b[0m\u001b[1;36m3\u001b[0m\u001b[1;33m,\u001b[0m\u001b[1;33m{\u001b[0m\u001b[1;36m1\u001b[0m\u001b[1;33m:\u001b[0m\u001b[1;36m2\u001b[0m\u001b[1;33m}\u001b[0m\u001b[1;33m}\u001b[0m\u001b[1;33m\u001b[0m\u001b[1;33m\u001b[0m\u001b[0m\n\u001b[0m\u001b[0;32m      2\u001b[0m \u001b[0mprint\u001b[0m\u001b[1;33m(\u001b[0m\u001b[0ma\u001b[0m\u001b[1;33m)\u001b[0m\u001b[1;33m\u001b[0m\u001b[1;33m\u001b[0m\u001b[0m\n",
      "\u001b[1;31mTypeError\u001b[0m: unhashable type: 'dict'"
     ]
    }
   ],
   "source": [
    "a = {1,2,3,4,5,1,1,1,2,3,{1:2}}\n",
    "print(a)"
   ]
  },
  {
   "cell_type": "code",
   "execution_count": 80,
   "id": "14a4c3ac",
   "metadata": {},
   "outputs": [],
   "source": [
    "data = {'emp1':'afsaan' , 'emp2':'tarun' , 'emp3':'abinash' , 'emp4':'ajay'}"
   ]
  },
  {
   "cell_type": "code",
   "execution_count": 82,
   "id": "36dbb5d7",
   "metadata": {},
   "outputs": [
    {
     "name": "stdout",
     "output_type": "stream",
     "text": [
      "please enter the nameafsaan\n",
      "emp1\n"
     ]
    }
   ],
   "source": [
    "data_search = input('please enter the name')\n",
    "\n",
    "for i in data.items():\n",
    "    if i[1] == data_search:\n",
    "        print(i[0])"
   ]
  },
  {
   "cell_type": "code",
   "execution_count": 84,
   "id": "cf3e4c11",
   "metadata": {},
   "outputs": [
    {
     "name": "stdout",
     "output_type": "stream",
     "text": [
      "afsaan\n",
      "tarun\n",
      "abinash\n",
      "ajay\n"
     ]
    }
   ],
   "source": []
  },
  {
   "cell_type": "markdown",
   "id": "790edfd4",
   "metadata": {},
   "source": [
    "# Conditional statements"
   ]
  },
  {
   "cell_type": "markdown",
   "id": "d02deaab",
   "metadata": {},
   "source": [
    "if"
   ]
  },
  {
   "cell_type": "code",
   "execution_count": null,
   "id": "93e32b79",
   "metadata": {},
   "outputs": [],
   "source": [
    "# stat1\n",
    "# stat2\n",
    "# stat3\n",
    "# if cond:\n",
    "#     stat4\n",
    "#     stat5\n",
    "\n",
    "if cond is True - 1,2,3,4,5\n",
    "if cond is False - 1,2,3"
   ]
  },
  {
   "cell_type": "code",
   "execution_count": null,
   "id": "6f46e4df",
   "metadata": {},
   "outputs": [],
   "source": [
    "# stat1\n",
    "# stat2\n",
    "# stat3\n",
    "# if cond:\n",
    "#     stat4\n",
    "#     stat5\n",
    "# stat6\n",
    "# stat7\n",
    "\n",
    "if cond is True - 1,2,3,4,5,6\n",
    "if cond is False - 1,2,3,6,7"
   ]
  },
  {
   "cell_type": "markdown",
   "id": "ebc5b79f",
   "metadata": {},
   "source": [
    "if else"
   ]
  },
  {
   "cell_type": "code",
   "execution_count": null,
   "id": "839b6525",
   "metadata": {},
   "outputs": [],
   "source": [
    "# stat1\n",
    "# stat2\n",
    "# stat3\n",
    "# if cond:\n",
    "#     stat4\n",
    "#     stat5\n",
    "# else:\n",
    "#     stat6\n",
    "#     stat7\n",
    "# stat8\n",
    "# stat9\n",
    "\n",
    "if cond is True - 1,2,3,4,5,8,9\n",
    "if cond is False - 1,2,3,6,7,8,9"
   ]
  },
  {
   "cell_type": "code",
   "execution_count": null,
   "id": "2d3d9006",
   "metadata": {},
   "outputs": [],
   "source": [
    "# stat1\n",
    "# stat2\n",
    "# stat3\n",
    "# if cond1:\n",
    "#     stat4\n",
    "#     stat5\n",
    "# if cond2:\n",
    "#     stat6\n",
    "#     stat7\n",
    "# if cond3:\n",
    "#     stat8\n",
    "#     stat9\n",
    "# else:\n",
    "#     stat10\n",
    "#     stat11\n",
    "# stat12\n",
    "# stat13\n",
    "\n",
    "if cond 1 is True and rest is false - 1,2,3,4,5,10,11,12,13\n",
    "if all are false - 1,2,3,10,11,12,13 "
   ]
  },
  {
   "cell_type": "code",
   "execution_count": null,
   "id": "0785bbc2",
   "metadata": {},
   "outputs": [],
   "source": [
    "# stat1\n",
    "# stat2\n",
    "# stat3\n",
    "# if cond1:\n",
    "#     stat4\n",
    "#     stat5\n",
    "# else:\n",
    "#     stat6\n",
    "#     stat7\n",
    "# if cond2:\n",
    "#     stat8\n",
    "#     stat9\n",
    "# if cond3:\n",
    "#     stat10\n",
    "#     stat11\n",
    "# else:\n",
    "#     stat12\n",
    "#     stat13\n",
    "# stat14\n",
    "# stat15\n",
    "\n",
    "if cond 1 and cond 2 is False and rest is True - 1,2,3,6,7,10,11,14,15\n",
    "\n",
    "if all the cond are false - 1,2,3,6,7,12,13,14,15"
   ]
  },
  {
   "cell_type": "markdown",
   "id": "88077a8f",
   "metadata": {},
   "source": [
    "if elif else"
   ]
  },
  {
   "cell_type": "code",
   "execution_count": null,
   "id": "29b88901",
   "metadata": {},
   "outputs": [],
   "source": [
    "# stat1\n",
    "# stat2\n",
    "# stat3\n",
    "# if cond1:\n",
    "#     stat4\n",
    "#     stat5\n",
    "# elif cond2:\n",
    "#     stat8\n",
    "#     stat9\n",
    "# elif cond3:\n",
    "#     stat10\n",
    "#     stat11\n",
    "# else:\n",
    "#     stat12\n",
    "#     stat13\n",
    "# stat14\n",
    "# stat15\n",
    "\n",
    "if cond 1 ,2 is True and rest all is false - 1,2,3,4,5,14,15\n",
    "if cond 3 is only true - 1,2,3,10,11,14,15\n",
    "if all cond are False - 1,2,3,12,13,14,15"
   ]
  },
  {
   "cell_type": "code",
   "execution_count": null,
   "id": "d70f8003",
   "metadata": {},
   "outputs": [],
   "source": [
    "# condtional with example\n",
    "# loops"
   ]
  }
 ],
 "metadata": {
  "kernelspec": {
   "display_name": "Python 3 (ipykernel)",
   "language": "python",
   "name": "python3"
  },
  "language_info": {
   "codemirror_mode": {
    "name": "ipython",
    "version": 3
   },
   "file_extension": ".py",
   "mimetype": "text/x-python",
   "name": "python",
   "nbconvert_exporter": "python",
   "pygments_lexer": "ipython3",
   "version": "3.9.7"
  }
 },
 "nbformat": 4,
 "nbformat_minor": 5
}
