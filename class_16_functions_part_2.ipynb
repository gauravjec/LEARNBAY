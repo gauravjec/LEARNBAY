{
 "cells": [
  {
   "cell_type": "code",
   "execution_count": 1,
   "id": "4e62a4d3",
   "metadata": {},
   "outputs": [
    {
     "name": "stdout",
     "output_type": "stream",
     "text": [
      "number is even\n"
     ]
    }
   ],
   "source": [
    "# Write a function to check if a number is even or odd\n",
    "\n",
    "# function defination\n",
    "\n",
    "def even_odd(num):\n",
    "    \n",
    "    if num%2==0:\n",
    "        print('number is even')\n",
    "    else:\n",
    "        print('number is odd')\n",
    "\n",
    "# funcation call\n",
    "even_odd(102)"
   ]
  },
  {
   "cell_type": "code",
   "execution_count": 2,
   "id": "96fe54ff",
   "metadata": {},
   "outputs": [
    {
     "name": "stdout",
     "output_type": "stream",
     "text": [
      "number is odd\n"
     ]
    }
   ],
   "source": [
    "even_odd(101)"
   ]
  },
  {
   "cell_type": "code",
   "execution_count": null,
   "id": "bcbd67ac",
   "metadata": {},
   "outputs": [],
   "source": [
    "# types of args\n",
    "\n",
    "1. postional args\n",
    "2. deafult args\n",
    "3. keyword args"
   ]
  },
  {
   "cell_type": "code",
   "execution_count": null,
   "id": "2bc2d7c9",
   "metadata": {},
   "outputs": [],
   "source": [
    "1. postional args\n",
    "- number if args should match the number of paramters\n",
    "- order is important"
   ]
  },
  {
   "cell_type": "code",
   "execution_count": 3,
   "id": "e924c07d",
   "metadata": {},
   "outputs": [],
   "source": [
    "def employee_data(emp_name , emp_age , emp_id):\n",
    "    print(emp_name)\n",
    "    print(emp_age)    \n",
    "    print(emp_id)  "
   ]
  },
  {
   "cell_type": "code",
   "execution_count": 4,
   "id": "097f9678",
   "metadata": {},
   "outputs": [
    {
     "name": "stdout",
     "output_type": "stream",
     "text": [
      "Afsan\n",
      "25\n",
      "618\n"
     ]
    }
   ],
   "source": [
    "emp_name = input('')\n",
    "emp_id = input('')\n",
    "emp_age = input('')\n",
    "\n",
    "\n",
    "\n",
    "employee_data(emo_name , '25' , '618')"
   ]
  },
  {
   "cell_type": "code",
   "execution_count": 5,
   "id": "a5bcabe8",
   "metadata": {},
   "outputs": [
    {
     "ename": "TypeError",
     "evalue": "employee_data() missing 1 required positional argument: 'emp_id'",
     "output_type": "error",
     "traceback": [
      "\u001b[1;31m---------------------------------------------------------------------------\u001b[0m",
      "\u001b[1;31mTypeError\u001b[0m                                 Traceback (most recent call last)",
      "\u001b[1;32m~\\AppData\\Local\\Temp/ipykernel_10088/1753995201.py\u001b[0m in \u001b[0;36m<module>\u001b[1;34m\u001b[0m\n\u001b[1;32m----> 1\u001b[1;33m \u001b[0memployee_data\u001b[0m\u001b[1;33m(\u001b[0m\u001b[1;34m'Afsan'\u001b[0m \u001b[1;33m,\u001b[0m \u001b[1;34m'25'\u001b[0m\u001b[1;33m)\u001b[0m\u001b[1;33m\u001b[0m\u001b[1;33m\u001b[0m\u001b[0m\n\u001b[0m",
      "\u001b[1;31mTypeError\u001b[0m: employee_data() missing 1 required positional argument: 'emp_id'"
     ]
    }
   ],
   "source": [
    "employee_data('Afsan' , '25')"
   ]
  },
  {
   "cell_type": "code",
   "execution_count": 6,
   "id": "1a39f049",
   "metadata": {},
   "outputs": [
    {
     "name": "stdout",
     "output_type": "stream",
     "text": [
      "25\n",
      "afsaan\n",
      "618\n"
     ]
    }
   ],
   "source": [
    "employee_data(25 , 'afsaan' , '618')"
   ]
  },
  {
   "cell_type": "code",
   "execution_count": 8,
   "id": "de1d1b2c",
   "metadata": {},
   "outputs": [],
   "source": [
    "#2. deafult args\n",
    "\n",
    "def employee_data(emp_name , emp_age , emp_id, emp_location='india'):\n",
    "    print(emp_name)\n",
    "    print(emp_age)    \n",
    "    print(emp_id)\n",
    "    print(emp_location)"
   ]
  },
  {
   "cell_type": "code",
   "execution_count": 9,
   "id": "b020af23",
   "metadata": {},
   "outputs": [
    {
     "name": "stdout",
     "output_type": "stream",
     "text": [
      "afsan\n",
      "25\n",
      "123\n",
      "india\n"
     ]
    }
   ],
   "source": [
    "employee_data('afsan', 25 , 123)"
   ]
  },
  {
   "cell_type": "code",
   "execution_count": 10,
   "id": "8e7f7ae8",
   "metadata": {},
   "outputs": [
    {
     "name": "stdout",
     "output_type": "stream",
     "text": [
      "mark\n",
      "32\n",
      "987\n",
      "uk\n"
     ]
    }
   ],
   "source": [
    "employee_data('mark', 32 , 987 , 'uk')"
   ]
  },
  {
   "cell_type": "code",
   "execution_count": 12,
   "id": "ee5ce754",
   "metadata": {},
   "outputs": [
    {
     "name": "stdout",
     "output_type": "stream",
     "text": [
      "mark\n",
      "32\n",
      "987\n",
      " Russia\n"
     ]
    }
   ],
   "source": [
    "employee_data('mark', 32 , 987 , ' Russia')"
   ]
  },
  {
   "cell_type": "code",
   "execution_count": 13,
   "id": "a643542b",
   "metadata": {},
   "outputs": [],
   "source": [
    "# 1 . deafult args should always be after postional args\n",
    "\n",
    "def employee_data(emp_name , emp_age , emp_id, emp_location='india' , employee_state = 'Goa'):\n",
    "    print(emp_name)\n",
    "    print(emp_age)    \n",
    "    print(emp_id)\n",
    "    print(emp_location)\n",
    "    print(employee_state)    "
   ]
  },
  {
   "cell_type": "code",
   "execution_count": 14,
   "id": "adf4184e",
   "metadata": {},
   "outputs": [
    {
     "name": "stdout",
     "output_type": "stream",
     "text": [
      "afsan\n",
      "25\n",
      "123\n",
      "india\n",
      "Goa\n"
     ]
    }
   ],
   "source": [
    "employee_data('afsan',25,123)"
   ]
  },
  {
   "cell_type": "code",
   "execution_count": 15,
   "id": "518572b2",
   "metadata": {},
   "outputs": [
    {
     "ename": "SyntaxError",
     "evalue": "non-default argument follows default argument (Temp/ipykernel_10088/3010229577.py, line 1)",
     "output_type": "error",
     "traceback": [
      "\u001b[1;36m  File \u001b[1;32m\"C:\\Users\\amrit\\AppData\\Local\\Temp/ipykernel_10088/3010229577.py\"\u001b[1;36m, line \u001b[1;32m1\u001b[0m\n\u001b[1;33m    def employee_data(employee_state = 'Goa' , emp_name , emp_age , emp_id, emp_location='india'):\u001b[0m\n\u001b[1;37m                                                          ^\u001b[0m\n\u001b[1;31mSyntaxError\u001b[0m\u001b[1;31m:\u001b[0m non-default argument follows default argument\n"
     ]
    }
   ],
   "source": [
    "def employee_data(employee_state = 'Goa' , emp_name , emp_age , emp_id, emp_location='india'):\n",
    "    print(emp_name)\n",
    "    print(emp_age)    \n",
    "    print(emp_id)\n",
    "    print(emp_location)\n",
    "    print(employee_state)  "
   ]
  },
  {
   "cell_type": "code",
   "execution_count": 17,
   "id": "2ea2bcbc",
   "metadata": {},
   "outputs": [],
   "source": [
    "def employee_data(emp_name , emp_id , emp_age,employee_state = 'Goa', emp_location='india'):\n",
    "    print(emp_name)\n",
    "    print(emp_age)    \n",
    "    print(emp_id)\n",
    "    print(emp_location)\n",
    "    print(employee_state) "
   ]
  },
  {
   "cell_type": "code",
   "execution_count": 19,
   "id": "f9de3350",
   "metadata": {},
   "outputs": [
    {
     "name": "stdout",
     "output_type": "stream",
     "text": [
      "afsan\n",
      "678\n",
      "35\n",
      "uk\n",
      "Goa\n"
     ]
    }
   ],
   "source": [
    "employee_data('afsan', '35', 678 , 'Goa' , 'uk')"
   ]
  },
  {
   "cell_type": "code",
   "execution_count": null,
   "id": "6df578bb",
   "metadata": {},
   "outputs": [],
   "source": [
    "# 3. keyword args"
   ]
  },
  {
   "cell_type": "code",
   "execution_count": 21,
   "id": "9db13dd1",
   "metadata": {},
   "outputs": [],
   "source": [
    "def employee_data(emp_name , emp_id , emp_age,employee_state = 'Goa', emp_location='india'):\n",
    "    print(emp_name)\n",
    "    print(emp_age)    \n",
    "    print(emp_id)\n",
    "    print(emp_location)\n",
    "    print(employee_state) "
   ]
  },
  {
   "cell_type": "code",
   "execution_count": 23,
   "id": "ddc24a2a",
   "metadata": {},
   "outputs": [
    {
     "name": "stdout",
     "output_type": "stream",
     "text": [
      "afsan\n",
      "25\n",
      "123\n",
      "uk\n",
      "banglore\n"
     ]
    }
   ],
   "source": [
    "employee_data(emp_name = 'afsan' , emp_location='uk' , emp_age = 25 , emp_id=123 , employee_state = 'banglore')"
   ]
  },
  {
   "cell_type": "code",
   "execution_count": 24,
   "id": "638ab2fd",
   "metadata": {},
   "outputs": [],
   "source": [
    "[1,2,3].append(10)"
   ]
  },
  {
   "cell_type": "code",
   "execution_count": 25,
   "id": "ebf02d36",
   "metadata": {},
   "outputs": [],
   "source": [
    "a = 'afsan'"
   ]
  },
  {
   "cell_type": "code",
   "execution_count": null,
   "id": "9abda500",
   "metadata": {},
   "outputs": [],
   "source": [
    "a.split()"
   ]
  },
  {
   "cell_type": "code",
   "execution_count": 27,
   "id": "cda59746",
   "metadata": {},
   "outputs": [],
   "source": [
    "def employee_data(emp_name , emp_id , emp_age,employee_state = 'Goa', emp_location='india'):\n",
    "    \"\"\"\n",
    "    this function is to print the empoyee data\n",
    "    \n",
    "    params:\n",
    "        emp_name(str)\n",
    "        emp_id(int)\n",
    "    \"\"\"\n",
    "    print(emp_name)\n",
    "    print(emp_age)    \n",
    "    print(emp_id)\n",
    "    print(emp_location)\n",
    "    print(employee_state) "
   ]
  },
  {
   "cell_type": "code",
   "execution_count": null,
   "id": "b97cfb10",
   "metadata": {},
   "outputs": [],
   "source": [
    "take all the information\n",
    "en = input()\n",
    "ei = input()\n",
    "ea = input()\n",
    "\n",
    "employee_data(en , ea , ei)"
   ]
  },
  {
   "cell_type": "code",
   "execution_count": 28,
   "id": "61c0ec6f",
   "metadata": {},
   "outputs": [],
   "source": [
    "def employee_data(emp_name , emp_id , emp_age,employee_state = 'Goa', emp_location='india'):\n",
    "    \"\"\"\n",
    "    this function is to print the empoyee data\n",
    "    \n",
    "    params:\n",
    "        emp_name(str)\n",
    "        emp_id(int)\n",
    "    \"\"\"\n",
    "    print(emp_name)\n",
    "    print(emp_age)    \n",
    "    print(emp_id)\n",
    "    print(emp_location)\n",
    "    print(employee_state) "
   ]
  },
  {
   "cell_type": "code",
   "execution_count": 31,
   "id": "2028a12d",
   "metadata": {},
   "outputs": [
    {
     "name": "stdout",
     "output_type": "stream",
     "text": [
      "afsan\n",
      "24\n",
      "123\n",
      "india\n",
      "abc\n"
     ]
    }
   ],
   "source": [
    "employee_data('afsan' , '123' , employee_state = 'abc' , emp_age = 24)"
   ]
  },
  {
   "cell_type": "markdown",
   "id": "11e110d6",
   "metadata": {},
   "source": [
    "*args , **kwargs"
   ]
  },
  {
   "cell_type": "code",
   "execution_count": 32,
   "id": "fc4c9726",
   "metadata": {},
   "outputs": [],
   "source": [
    "def employee_data(*args , **kwargs):\n",
    "    \"\"\"\n",
    "    args - tuple\n",
    "    kwargs - dict\n",
    "    \"\"\"\n",
    "    print(args)\n",
    "    print(kwargs)"
   ]
  },
  {
   "cell_type": "code",
   "execution_count": 33,
   "id": "d9dfaea8",
   "metadata": {},
   "outputs": [
    {
     "name": "stdout",
     "output_type": "stream",
     "text": [
      "('afsan', 'khan')\n",
      "{'employee_state': 'Goa', 'employe_location': 'india'}\n"
     ]
    }
   ],
   "source": [
    "employee_data('afsan' , 'khan' , employee_state = 'Goa' , employe_location  = 'india')"
   ]
  },
  {
   "cell_type": "code",
   "execution_count": 34,
   "id": "ba6e5a59",
   "metadata": {},
   "outputs": [
    {
     "name": "stdout",
     "output_type": "stream",
     "text": [
      "('afsan', 'khan', 'age')\n",
      "{'employee_state': 'Goa'}\n"
     ]
    }
   ],
   "source": [
    "employee_data('afsan' , 'khan' , 'age' , employee_state = 'Goa')"
   ]
  },
  {
   "cell_type": "code",
   "execution_count": null,
   "id": "68157ac8",
   "metadata": {},
   "outputs": [],
   "source": [
    "def some_logic(emp_name , **kwargs):\n",
    "    print(kwargs)\n",
    "    \n",
    "    if kwargs.get('emp_loc'):\n",
    "        print(f\"emp_loc is present : {kwargs['emp_loc']}\")"
   ]
  },
  {
   "cell_type": "code",
   "execution_count": null,
   "id": "cebb8ce3",
   "metadata": {},
   "outputs": [],
   "source": [
    "# Return statment in function\n",
    "\n",
    "- it is optional in function\n",
    "- if not used returned statment default value will be none\n",
    "- if used the returned statment then the value will be that statement\n",
    "- if returned then the the type of the function will be what is returned\n",
    "- you can return any object\n",
    "- you can return function also"
   ]
  },
  {
   "cell_type": "code",
   "execution_count": 19,
   "id": "83fab389",
   "metadata": {},
   "outputs": [],
   "source": [
    "def employee_data(emp_name , emp_id , emp_age,employee_state = 'Goa', emp_location='india'):\n",
    "    \"\"\"\n",
    "    this function is to print the empoyee data\n",
    "    \n",
    "    params:\n",
    "        emp_name(str)\n",
    "        emp_id(int)\n",
    "    \"\"\"\n",
    "    print(emp_name)\n",
    "    print(emp_age)    \n",
    "    print(emp_id)\n",
    "    print(emp_location)\n",
    "    print(employee_state)\n",
    "    \n",
    "    return None"
   ]
  },
  {
   "cell_type": "code",
   "execution_count": 20,
   "id": "8c95fa5b",
   "metadata": {},
   "outputs": [
    {
     "name": "stdout",
     "output_type": "stream",
     "text": [
      "afsan\n",
      "id\n",
      "age\n",
      "india\n",
      "Goa\n"
     ]
    }
   ],
   "source": [
    "employee_data('afsan' , 'age' ,'id')"
   ]
  },
  {
   "cell_type": "code",
   "execution_count": 17,
   "id": "9d56157f",
   "metadata": {},
   "outputs": [],
   "source": [
    "def sum(a,b):\n",
    "    c = a+b\n",
    "    return (1,3.5)"
   ]
  },
  {
   "cell_type": "code",
   "execution_count": 18,
   "id": "9b96b4b9",
   "metadata": {},
   "outputs": [
    {
     "data": {
      "text/plain": [
       "tuple"
      ]
     },
     "execution_count": 18,
     "metadata": {},
     "output_type": "execute_result"
    }
   ],
   "source": [
    "type(sum(10,20))"
   ]
  },
  {
   "cell_type": "code",
   "execution_count": 15,
   "id": "d25ba5e2",
   "metadata": {},
   "outputs": [
    {
     "data": {
      "text/plain": [
       "'afsan'"
      ]
     },
     "execution_count": 15,
     "metadata": {},
     "output_type": "execute_result"
    }
   ],
   "source": [
    "output"
   ]
  },
  {
   "cell_type": "code",
   "execution_count": null,
   "id": "992687fa",
   "metadata": {},
   "outputs": [],
   "source": [
    "a = 'afsan'\n",
    "type(a)"
   ]
  },
  {
   "cell_type": "code",
   "execution_count": 23,
   "id": "50a26da8",
   "metadata": {},
   "outputs": [
    {
     "name": "stdout",
     "output_type": "stream",
     "text": [
      "arnav\n",
      "33\n",
      "India\n"
     ]
    }
   ],
   "source": [
    "def a(name, age, location=\"India\", state=\"goa\"):\n",
    "    return name,age,location\n",
    "\n",
    "\n",
    "name , age , location = a(name=\"arnav\",age=33, state=\"delhi\")\n",
    "\n",
    "print(name)\n",
    "print(age)\n",
    "print(location)"
   ]
  },
  {
   "cell_type": "code",
   "execution_count": null,
   "id": "3f533e59",
   "metadata": {},
   "outputs": [],
   "source": [
    "def evenorodd(a):\n",
    "    if a%2 == 0:\n",
    "        return 'even'\n",
    "    else:\n",
    "        return 'odd'\n",
    "\n",
    "evenorodd(4)\n",
    "print(evenorodd(4))\n",
    "\n",
    "While we are executing this we are getting even only one time \n",
    "\n",
    "def evenorodd(a):\n",
    "    if a%2 == 0:\n",
    "        print('even') \n",
    "    else:\n",
    "        print('odd')\n",
    "\n",
    "evenorodd(4)\n",
    "print(evenorodd(4))\n",
    "\n",
    "But when I am using this I am getting even even and none \n",
    "\n",
    "Can you explain this Afsan\n"
   ]
  },
  {
   "cell_type": "code",
   "execution_count": 30,
   "id": "6e521523",
   "metadata": {},
   "outputs": [
    {
     "name": "stdout",
     "output_type": "stream",
     "text": [
      "2458543865264\n",
      "even\n"
     ]
    }
   ],
   "source": [
    "def evenorodd(a):\n",
    "    if a%2 == 0:\n",
    "        return 'even'\n",
    "    else:\n",
    "        return 'odd'\n",
    "\n",
    "print(id(evenorodd(4)))\n",
    "print(evenorodd(4))"
   ]
  },
  {
   "cell_type": "code",
   "execution_count": 27,
   "id": "593a5617",
   "metadata": {},
   "outputs": [
    {
     "data": {
      "text/plain": [
       "10"
      ]
     },
     "execution_count": 27,
     "metadata": {},
     "output_type": "execute_result"
    }
   ],
   "source": [
    "a = 10\n",
    "b = 20\n",
    "\n",
    "a"
   ]
  },
  {
   "cell_type": "code",
   "execution_count": null,
   "id": "d7b5a29f",
   "metadata": {},
   "outputs": [],
   "source": []
  }
 ],
 "metadata": {
  "kernelspec": {
   "display_name": "Python 3 (ipykernel)",
   "language": "python",
   "name": "python3"
  },
  "language_info": {
   "codemirror_mode": {
    "name": "ipython",
    "version": 3
   },
   "file_extension": ".py",
   "mimetype": "text/x-python",
   "name": "python",
   "nbconvert_exporter": "python",
   "pygments_lexer": "ipython3",
   "version": "3.9.7"
  }
 },
 "nbformat": 4,
 "nbformat_minor": 5
}
