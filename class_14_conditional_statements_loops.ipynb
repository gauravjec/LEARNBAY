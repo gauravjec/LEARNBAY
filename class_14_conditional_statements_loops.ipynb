{
 "cells": [
  {
   "cell_type": "code",
   "execution_count": 1,
   "id": "19e4e8f8",
   "metadata": {},
   "outputs": [
    {
     "name": "stdout",
     "output_type": "stream",
     "text": [
      "messi\n",
      "afsan\n"
     ]
    }
   ],
   "source": [
    "a = 10\n",
    "b = 20\n",
    "\n",
    "if a < 20:\n",
    "    print('messi')\n",
    "else:\n",
    "    print('ronaldo')\n",
    "print('afsan')"
   ]
  },
  {
   "cell_type": "code",
   "execution_count": 2,
   "id": "9d5f6eef",
   "metadata": {},
   "outputs": [
    {
     "name": "stdout",
     "output_type": "stream",
     "text": [
      "messi\n",
      "neymar\n",
      "afsan\n"
     ]
    }
   ],
   "source": [
    "a = 10\n",
    "b = 20\n",
    "\n",
    "if a < 20:\n",
    "    print('messi')\n",
    "else:\n",
    "    print('mbappe')\n",
    "if b <=20:\n",
    "    print('neymar')\n",
    "else:\n",
    "    print('ronaldo')\n",
    "print('afsan')"
   ]
  },
  {
   "cell_type": "code",
   "execution_count": 3,
   "id": "4a8c3388",
   "metadata": {},
   "outputs": [
    {
     "name": "stdout",
     "output_type": "stream",
     "text": [
      "lmo\n"
     ]
    }
   ],
   "source": [
    "a = 10\n",
    "b = 20\n",
    "c = 100\n",
    "if a > 10:\n",
    "    print('abc')\n",
    "elif b<20 and a==10:\n",
    "    prin('xyz')\n",
    "elif True:\n",
    "    print('lmo')\n",
    "else:\n",
    "    'ok'"
   ]
  },
  {
   "cell_type": "code",
   "execution_count": 5,
   "id": "c87e3d03",
   "metadata": {},
   "outputs": [
    {
     "name": "stdout",
     "output_type": "stream",
     "text": [
      "hola\n",
      "heya\n"
     ]
    }
   ],
   "source": [
    "# nested conditions : - condition inside a condition\n",
    "\n",
    "a = 25\n",
    "b = 20\n",
    "c = 100\n",
    "if a > 10:\n",
    "    print('hola')\n",
    "    if c==100:\n",
    "        print('heya')\n",
    "    else:\n",
    "        print('hi')\n",
    "else:\n",
    "    if b==20 and c<101:\n",
    "        print('see you')\n",
    "    else:\n",
    "        print('ok')"
   ]
  },
  {
   "cell_type": "code",
   "execution_count": 8,
   "id": "7656d2a6",
   "metadata": {},
   "outputs": [
    {
     "name": "stdout",
     "output_type": "stream",
     "text": [
      "enter the number4\n",
      "four\n"
     ]
    }
   ],
   "source": [
    "# write a program to take a user input which will convert number into word format from 0-5\n",
    "\n",
    "\"\"\"\n",
    "4 --> four\n",
    "0 --> zero\n",
    "-1 --> invalid\n",
    "6 --> invalid\n",
    "\"\"\"\n",
    "num = int(input('enter the number'))\n",
    "if num == 0:\n",
    "    print('zero')\n",
    "elif num == 1:\n",
    "    print('one')\n",
    "elif num == 2:\n",
    "    print('two')\n",
    "elif num == 3:\n",
    "    print('three')\n",
    "elif num == 4:\n",
    "    print('four')\n",
    "else:\n",
    "    print('number not in range')"
   ]
  },
  {
   "cell_type": "code",
   "execution_count": 11,
   "id": "dae224ef",
   "metadata": {},
   "outputs": [
    {
     "name": "stdout",
     "output_type": "stream",
     "text": [
      "enter a string onlyafsan\n",
      "its not a palindrone\n"
     ]
    }
   ],
   "source": [
    "# write a program to take user input as a string and check if its a palibdrome or not\n",
    "\n",
    "\"\"\"\n",
    "level\n",
    "yes\n",
    "\n",
    "afsan\n",
    "false\n",
    "\n",
    "\"\"\"\n",
    "\n",
    "a = input(\"enter a string only\")\n",
    "\n",
    "if a==a[::-1]:\n",
    "    print(\"yes it is palindrone\")\n",
    "else:\n",
    "    print(\"its not a palindrone\")\n"
   ]
  },
  {
   "cell_type": "code",
   "execution_count": null,
   "id": "02cc9f73",
   "metadata": {},
   "outputs": [],
   "source": [
    "### Q1. take three number from the user  and find the max out of those 3 number\n",
    "### Q2. Design a calculator where two numbers will be taken by the user\n",
    "        operation code will be entered by the user\n",
    "            1. add\n",
    "            2. sub\n",
    "            3. mul\n",
    "### Q3. to find a year entered by user is a leap year or not"
   ]
  },
  {
   "cell_type": "markdown",
   "id": "65931b57",
   "metadata": {},
   "source": [
    "# loops"
   ]
  },
  {
   "cell_type": "markdown",
   "id": "fc837949",
   "metadata": {},
   "source": [
    "1. for loop\n",
    "2. while loop"
   ]
  },
  {
   "cell_type": "code",
   "execution_count": null,
   "id": "71c09518",
   "metadata": {},
   "outputs": [],
   "source": [
    "# for loop\n",
    "\n",
    "syntax\n",
    "for var in iterable:\n",
    "    statment1\n",
    "    \n",
    "    \n",
    "- if you have fix number of iteration"
   ]
  },
  {
   "cell_type": "code",
   "execution_count": 12,
   "id": "1ecc0783",
   "metadata": {},
   "outputs": [
    {
     "name": "stdout",
     "output_type": "stream",
     "text": [
      "hola\n",
      "hola\n",
      "hola\n",
      "hola\n",
      "hola\n",
      "hola\n",
      "heya\n",
      "heya\n",
      "heya\n"
     ]
    }
   ],
   "source": [
    "for i in range(0,9):\n",
    "    if i>5:\n",
    "        print('heya')\n",
    "    else:\n",
    "        print('hola')"
   ]
  },
  {
   "cell_type": "code",
   "execution_count": 13,
   "id": "f1c882c5",
   "metadata": {},
   "outputs": [
    {
     "name": "stdout",
     "output_type": "stream",
     "text": [
      "afsan\n",
      "afsan\n",
      "afsan\n",
      "afsan\n",
      "hola\n"
     ]
    }
   ],
   "source": [
    "# for else\n",
    "\n",
    "\"\"\"\n",
    "else will be only executed it for loop is exhausted\n",
    "\"\"\"\n",
    "\n",
    "for i in [1,2,3,4]:\n",
    "    print('afsan')\n",
    "else:\n",
    "    print('hola')"
   ]
  },
  {
   "cell_type": "code",
   "execution_count": 29,
   "id": "21937877",
   "metadata": {},
   "outputs": [
    {
     "name": "stdout",
     "output_type": "stream",
     "text": [
      "[10, 20]\n",
      "[10, 20]\n",
      "[20, 30]\n",
      "[20, 30]\n",
      "[30, 40]\n",
      "[30, 40]\n"
     ]
    }
   ],
   "source": [
    "a = [[10,20] , [20,30] , [30,40]]\n",
    "\n",
    "for i in a:\n",
    "    for j in i:\n",
    "        print(i)"
   ]
  },
  {
   "cell_type": "code",
   "execution_count": null,
   "id": "0c8f5a65",
   "metadata": {},
   "outputs": [],
   "source": [
    "for iteraion 1:\n",
    "    i = [10,20]\n",
    "    for i in [10,20]\n",
    "    inner loop iteration 1:\n",
    "        [10,20]\n",
    "    inner loop iter 2:\n",
    "        [10,20]\n",
    "        \n",
    "for iteraion 2:\n",
    "    .\n",
    "    .\n",
    "    .\n",
    "    .\n",
    "    "
   ]
  },
  {
   "cell_type": "code",
   "execution_count": null,
   "id": "55e0abc7",
   "metadata": {},
   "outputs": [],
   "source": [
    "While loop\n",
    "\n",
    "- if we do not know about iteration\n",
    "- if we want to stop the loop based on some condition\n",
    "\n",
    "synatx\n",
    "1- initilization\n",
    "2- conditional\n",
    "3- inc/dec"
   ]
  },
  {
   "cell_type": "code",
   "execution_count": 17,
   "id": "bed867b2",
   "metadata": {},
   "outputs": [
    {
     "name": "stdout",
     "output_type": "stream",
     "text": [
      "hello\n",
      "hello\n",
      "hello\n",
      "hello\n",
      "hello\n",
      "hello\n",
      "hello\n",
      "hello\n",
      "hello\n"
     ]
    }
   ],
   "source": [
    "i = 0  # intilization\n",
    "while i<9: # condition checking\n",
    "    print('hello')\n",
    "    i+=1 # inc / dec"
   ]
  },
  {
   "cell_type": "code",
   "execution_count": 21,
   "id": "a62cb41e",
   "metadata": {},
   "outputs": [
    {
     "name": "stdout",
     "output_type": "stream",
     "text": [
      "p\n",
      "yy\n",
      "ttt\n",
      "hhhh\n",
      "ooooo\n",
      "nnnnnn\n",
      "p\n",
      "yy\n",
      "ttt\n",
      "hhhh\n",
      "ooooo\n",
      "nnnnnn\n",
      "p\n",
      "yy\n",
      "ttt\n",
      "hhhh\n",
      "ooooo\n",
      "nnnnnn\n"
     ]
    }
   ],
   "source": [
    "#Q2. display the following output using loop where string is 'python'\n",
    "\n",
    "# p\n",
    "# yy\n",
    "# ttt\n",
    "# hhhh\n",
    "# ooooo\n",
    "# nnnnnn\n",
    "a = 'python'\n",
    "print(a[0]*1)\n",
    "print(a[1]*2)\n",
    "print(a[2]*3)\n",
    "print(a[3]*4)\n",
    "print(a[4]*5)\n",
    "print(a[5]*6)\n",
    "\n",
    "# for loop\n",
    "a = 'python'\n",
    "for i in range(0,len(a)):\n",
    "    print(a[i]*(i+1))\n",
    "\n",
    "# while loop\n",
    "i = 0\n",
    "while i<len(a):\n",
    "    print(a[i]*(i+1))\n",
    "    i+=1"
   ]
  },
  {
   "cell_type": "code",
   "execution_count": 25,
   "id": "5d73df2b",
   "metadata": {},
   "outputs": [
    {
     "name": "stdout",
     "output_type": "stream",
     "text": [
      "a\n",
      "ff\n",
      "sss\n",
      "aaaa\n",
      "nnnnn\n"
     ]
    }
   ],
   "source": [
    "a = 'afsan'\n",
    "for i in range(0,len(a)):\n",
    "    print(a[i]*(i+1))"
   ]
  },
  {
   "cell_type": "code",
   "execution_count": 22,
   "id": "c400b9c7",
   "metadata": {},
   "outputs": [
    {
     "name": "stdout",
     "output_type": "stream",
     "text": [
      "p\n",
      "yy\n",
      "ttt\n",
      "hhhh\n",
      "ooooo\n",
      "nnnnnn\n"
     ]
    }
   ],
   "source": [
    "z=1\n",
    "for i in 'python':\n",
    "    print(i*z)\n",
    "    z+=1"
   ]
  },
  {
   "cell_type": "code",
   "execution_count": null,
   "id": "17402376",
   "metadata": {},
   "outputs": [],
   "source": [
    "# should be dynamic\n",
    "# minimum line possible"
   ]
  },
  {
   "cell_type": "code",
   "execution_count": null,
   "id": "2e48212d",
   "metadata": {},
   "outputs": [],
   "source": [
    "a = [[10,20] , [20,30] , [30,40]]\n",
    "\n",
    "for i in a:\n",
    "    for j in i:\n",
    "        print(j)"
   ]
  },
  {
   "cell_type": "code",
   "execution_count": null,
   "id": "8cb3a88a",
   "metadata": {},
   "outputs": [],
   "source": [
    "a = 'python'\n",
    "i =0\n",
    "while i<len(a):\n",
    "    i+=1\n",
    "    j =0\n",
    "    while j < i:\n",
    "        print(a[i-1],end = ' ')\n",
    "        j += 1\n",
    "    print(\"hello\")"
   ]
  },
  {
   "cell_type": "code",
   "execution_count": 34,
   "id": "0e5e0fd7",
   "metadata": {},
   "outputs": [
    {
     "name": "stdout",
     "output_type": "stream",
     "text": [
      "nnnnnn\n",
      "ooooo\n",
      "hhhh\n",
      "ttt\n",
      "yy\n",
      "p\n",
      "nnnnnn\n",
      "ooooo\n",
      "hhhh\n",
      "ttt\n",
      "yy\n",
      "p\n"
     ]
    }
   ],
   "source": [
    "#Q2. display the following output using loop where string is 'python'\n",
    "\n",
    "# nnnnnn\n",
    "# ooooo\n",
    "# hhhh\n",
    "# ttt\n",
    "# yy\n",
    "# p\n",
    "a = 'python'\n",
    "for i in range(len(a),0,-1):\n",
    "    print(a[i-1]*i)\n",
    "    \n",
    "i = len(a)\n",
    "while i > 0:\n",
    "    print(a[i-1]*i)\n",
    "    i -= 1"
   ]
  },
  {
   "cell_type": "code",
   "execution_count": null,
   "id": "8b7136cf",
   "metadata": {},
   "outputs": [],
   "source": []
  },
  {
   "cell_type": "code",
   "execution_count": 37,
   "id": "88794d51",
   "metadata": {},
   "outputs": [
    {
     "ename": "TypeError",
     "evalue": "can only concatenate str (not \"int\") to str",
     "output_type": "error",
     "traceback": [
      "\u001b[1;31m---------------------------------------------------------------------------\u001b[0m",
      "\u001b[1;31mTypeError\u001b[0m                                 Traceback (most recent call last)",
      "\u001b[1;32m~\\AppData\\Local\\Temp/ipykernel_9612/1704900447.py\u001b[0m in \u001b[0;36m<module>\u001b[1;34m\u001b[0m\n\u001b[0;32m      1\u001b[0m \u001b[0ma\u001b[0m \u001b[1;33m=\u001b[0m \u001b[1;34m'python'\u001b[0m\u001b[1;33m\u001b[0m\u001b[1;33m\u001b[0m\u001b[0m\n\u001b[0;32m      2\u001b[0m \u001b[1;32mfor\u001b[0m \u001b[0mi\u001b[0m \u001b[1;32min\u001b[0m \u001b[0mrange\u001b[0m\u001b[1;33m(\u001b[0m\u001b[0mlen\u001b[0m\u001b[1;33m(\u001b[0m\u001b[0ma\u001b[0m\u001b[1;33m)\u001b[0m\u001b[1;33m-\u001b[0m\u001b[1;36m1\u001b[0m\u001b[1;33m,\u001b[0m\u001b[1;33m-\u001b[0m\u001b[1;36m1\u001b[0m\u001b[1;33m,\u001b[0m\u001b[1;33m-\u001b[0m\u001b[1;36m1\u001b[0m\u001b[1;33m)\u001b[0m\u001b[1;33m:\u001b[0m\u001b[1;33m\u001b[0m\u001b[1;33m\u001b[0m\u001b[0m\n\u001b[1;32m----> 3\u001b[1;33m     \u001b[0mprint\u001b[0m\u001b[1;33m(\u001b[0m\u001b[0ma\u001b[0m\u001b[1;33m[\u001b[0m\u001b[0mi\u001b[0m\u001b[1;33m]\u001b[0m\u001b[1;33m*\u001b[0m \u001b[0mi\u001b[0m\u001b[1;33m+\u001b[0m\u001b[1;36m1\u001b[0m\u001b[1;33m)\u001b[0m\u001b[1;33m\u001b[0m\u001b[1;33m\u001b[0m\u001b[0m\n\u001b[0m",
      "\u001b[1;31mTypeError\u001b[0m: can only concatenate str (not \"int\") to str"
     ]
    }
   ],
   "source": [
    "a = 'python'\n",
    "for i in range(len(a)-1,-1,-1):\n",
    "    print(a[i]* (i+1))\n"
   ]
  },
  {
   "cell_type": "code",
   "execution_count": null,
   "id": "a9d4e48b",
   "metadata": {},
   "outputs": [],
   "source": []
  },
  {
   "cell_type": "code",
   "execution_count": 35,
   "id": "93c32389",
   "metadata": {},
   "outputs": [
    {
     "data": {
      "text/plain": [
       "[5, 4, 3, 2, 1, 0]"
      ]
     },
     "execution_count": 35,
     "metadata": {},
     "output_type": "execute_result"
    }
   ],
   "source": [
    "list(range(len(a)-1,-1,-1))"
   ]
  },
  {
   "cell_type": "code",
   "execution_count": null,
   "id": "e5caeca1",
   "metadata": {},
   "outputs": [],
   "source": [
    "break\n",
    "\n",
    "continue\n",
    "\n",
    "\n",
    "functions"
   ]
  }
 ],
 "metadata": {
  "kernelspec": {
   "display_name": "Python 3 (ipykernel)",
   "language": "python",
   "name": "python3"
  },
  "language_info": {
   "codemirror_mode": {
    "name": "ipython",
    "version": 3
   },
   "file_extension": ".py",
   "mimetype": "text/x-python",
   "name": "python",
   "nbconvert_exporter": "python",
   "pygments_lexer": "ipython3",
   "version": "3.9.7"
  }
 },
 "nbformat": 4,
 "nbformat_minor": 5
}
