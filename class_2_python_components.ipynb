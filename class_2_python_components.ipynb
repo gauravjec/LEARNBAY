{
 "cells": [
  {
   "cell_type": "code",
   "execution_count": null,
   "id": "8339f412",
   "metadata": {},
   "outputs": [],
   "source": [
    "literals\n",
    "Constants\n",
    "Variables\n",
    "Indentifiers\n",
    "Reserved words\n",
    "Statements and Expressions\n",
    "Block and Indentation\n",
    "Comments"
   ]
  },
  {
   "cell_type": "markdown",
   "id": "566091da",
   "metadata": {},
   "source": [
    "# literals\n",
    "\n",
    "any value in programming language is called as literals\n",
    "\n",
    "so in ptthon we have different  types of literals\n",
    "\n",
    "- int - any value without a decimal point eg -99 , 100 , -9999 , 0 , 200\n",
    "- float - any value with a decimal point eg -99.99 , -100.0 , -99999.9999 , 0.0\n",
    "- complex - any value that can be written in form of a+bj where a is real and b is imag eg - 10+6j \n",
    "- None - null values\n",
    "- Boolean - True/False\n",
    "- String - any value that can be written inside a  '...' , \"....\" , '''....''' , \"\"\"....\"\"\""
   ]
  },
  {
   "cell_type": "code",
   "execution_count": null,
   "id": "8c0218cb",
   "metadata": {},
   "outputs": [],
   "source": [
    "a = 20\n",
    "b = '20.4'\n",
    "c = True\n",
    "d = '10+7j'\n",
    "e = None"
   ]
  },
  {
   "cell_type": "code",
   "execution_count": null,
   "id": "ac2f93c6",
   "metadata": {},
   "outputs": [],
   "source": [
    "a = 20\n",
    "\n",
    "a --> variable\n",
    "\n",
    "= --> assignment op\n",
    "\n",
    "20 --> literal"
   ]
  },
  {
   "cell_type": "code",
   "execution_count": 1,
   "id": "33c260e2",
   "metadata": {},
   "outputs": [
    {
     "name": "stdout",
     "output_type": "stream",
     "text": [
      "20\n"
     ]
    }
   ],
   "source": [
    "a = 20\n",
    "print(a)"
   ]
  },
  {
   "cell_type": "markdown",
   "id": "980bc83c",
   "metadata": {},
   "source": [
    "# Constants, Variables and Indentifiers"
   ]
  },
  {
   "cell_type": "markdown",
   "id": "51262cde",
   "metadata": {},
   "source": [
    "constand and variable are subset of identifiers\n",
    "\n",
    "indetifers can be used border term\n",
    "\n",
    "**indetifiers** - any name used in python program like constant , variable , class name , function name\n",
    "\n",
    "Rules\n",
    "\n",
    "1. Allowed chars are a-z , A-Z , 0-9 , _\n",
    "2. it cannot start with a digit 0-9\n",
    "3. you cannot have a special char\n",
    "4. it is case senstive\n",
    "5. you cannot use a reserved(keywords) words\n",
    "6. it can be of any length"
   ]
  },
  {
   "cell_type": "markdown",
   "id": "a931bcf9",
   "metadata": {},
   "source": [
    "# Allowed chars are a-z , A-Z , 0-9 , _\n",
    "\n",
    "\n",
    "messi10 - valid\n",
    "\n",
    "ronaldo.07 - invalid\n",
    "\n",
    "afsan_khan - valid\n",
    "\n",
    "__afsan__ - valid\n",
    "\n",
    "_a_f_k. - invalid\n",
    "\n",
    "abc__ - valid\n",
    "\n",
    "abc20 - valid\n",
    "\n",
    "20abc - invalid"
   ]
  },
  {
   "cell_type": "markdown",
   "id": "01f17381",
   "metadata": {},
   "source": [
    "# 2. it cannot start with a digit 0-9\n",
    "\n",
    "20abc - invalid\n",
    "\n",
    "0abc - invalid\n",
    "\n",
    "abc100 - valid"
   ]
  },
  {
   "cell_type": "markdown",
   "id": "fd41495b",
   "metadata": {},
   "source": [
    "# 3. you cannot have a special char\n",
    "\n",
    "afsan#07\n",
    "\n",
    "afsam@123"
   ]
  },
  {
   "cell_type": "code",
   "execution_count": 7,
   "id": "7527cce8",
   "metadata": {},
   "outputs": [
    {
     "name": "stdout",
     "output_type": "stream",
     "text": [
      "20\n"
     ]
    }
   ],
   "source": [
    "# 4. it is case senstive\n",
    "\n",
    "a = 10\n",
    "A = 20\n",
    "\n",
    "print(A)"
   ]
  },
  {
   "cell_type": "code",
   "execution_count": null,
   "id": "1c3fb613",
   "metadata": {},
   "outputs": [],
   "source": [
    "afsan = 200\n",
    "Afsan = 300"
   ]
  },
  {
   "cell_type": "code",
   "execution_count": 8,
   "id": "a7d395a3",
   "metadata": {},
   "outputs": [],
   "source": [
    "gubbala = 20"
   ]
  },
  {
   "cell_type": "code",
   "execution_count": 11,
   "id": "d3b2dceb",
   "metadata": {},
   "outputs": [
    {
     "data": {
      "text/plain": [
       "40"
      ]
     },
     "execution_count": 11,
     "metadata": {},
     "output_type": "execute_result"
    }
   ],
   "source": [
    "gubbala + 20"
   ]
  },
  {
   "cell_type": "code",
   "execution_count": 12,
   "id": "cc517862",
   "metadata": {},
   "outputs": [
    {
     "name": "stdout",
     "output_type": "stream",
     "text": [
      "['False', 'None', 'True', '__peg_parser__', 'and', 'as', 'assert', 'async', 'await', 'break', 'class', 'continue', 'def', 'del', 'elif', 'else', 'except', 'finally', 'for', 'from', 'global', 'if', 'import', 'in', 'is', 'lambda', 'nonlocal', 'not', 'or', 'pass', 'raise', 'return', 'try', 'while', 'with', 'yield']\n"
     ]
    }
   ],
   "source": [
    "# 5. you cannot use a reserved(keywords) words\n",
    "\n",
    "import keyword\n",
    "print(keyword.kwlist)"
   ]
  },
  {
   "cell_type": "code",
   "execution_count": 14,
   "id": "ed8bcea0",
   "metadata": {
    "collapsed": true
   },
   "outputs": [
    {
     "ename": "SyntaxError",
     "evalue": "invalid syntax (Temp/ipykernel_3436/1977051392.py, line 1)",
     "output_type": "error",
     "traceback": [
      "\u001b[1;36m  File \u001b[1;32m\"C:\\Users\\amrit\\AppData\\Local\\Temp/ipykernel_3436/1977051392.py\"\u001b[1;36m, line \u001b[1;32m1\u001b[0m\n\u001b[1;33m    not = 20\u001b[0m\n\u001b[1;37m        ^\u001b[0m\n\u001b[1;31mSyntaxError\u001b[0m\u001b[1;31m:\u001b[0m invalid syntax\n"
     ]
    }
   ],
   "source": [
    "not = 20"
   ]
  },
  {
   "cell_type": "markdown",
   "id": "8ac204d6",
   "metadata": {},
   "source": [
    "afsan.khan - invalid\n",
    "afsan@khan - invalid\n",
    "07messi - invalid\n",
    "10neymar - invalid\n",
    "_21_goa\n",
    "false\n",
    "True - invalid\n",
    "Else\n",
    "if  - inavlid\n",
    "finally - inavlid\n",
    "Is\n",
    "While\n",
    "afsan11khan\n",
    "mbappe__psg__21__. - invalid\n",
    "sADASFFASDFASDFASDFSADFASDFSADFASDFSADFSADFSADFASDF"
   ]
  },
  {
   "cell_type": "code",
   "execution_count": null,
   "id": "a363ace5",
   "metadata": {},
   "outputs": [],
   "source": [
    "1,2,3,4,7,9,10,14"
   ]
  },
  {
   "cell_type": "code",
   "execution_count": null,
   "id": "f68de20e",
   "metadata": {},
   "outputs": [],
   "source": [
    "constant as no meaning in python"
   ]
  },
  {
   "cell_type": "code",
   "execution_count": null,
   "id": "489f2412",
   "metadata": {},
   "outputs": [],
   "source": [
    "PI = 3.14 --> constant"
   ]
  },
  {
   "cell_type": "code",
   "execution_count": 15,
   "id": "40c22c57",
   "metadata": {},
   "outputs": [
    {
     "name": "stdout",
     "output_type": "stream",
     "text": [
      "40\n"
     ]
    }
   ],
   "source": [
    "a = 20\n",
    "a = 40\n",
    "\n",
    "print(a)"
   ]
  },
  {
   "cell_type": "code",
   "execution_count": 16,
   "id": "8e7fd3d6",
   "metadata": {},
   "outputs": [
    {
     "name": "stdout",
     "output_type": "stream",
     "text": [
      "40\n"
     ]
    }
   ],
   "source": [
    "PI = 3.14\n",
    "a = 40\n",
    "\n",
    "print(PI)"
   ]
  },
  {
   "cell_type": "code",
   "execution_count": null,
   "id": "75c84ec8",
   "metadata": {},
   "outputs": [],
   "source": [
    "Constant - any variable written in Caps\n"
   ]
  },
  {
   "cell_type": "code",
   "execution_count": null,
   "id": "3f98cc03",
   "metadata": {},
   "outputs": [],
   "source": [
    "# abc = 10 - indetifer\n",
    "ABC = 10 - constant"
   ]
  },
  {
   "cell_type": "code",
   "execution_count": 19,
   "id": "5ea1063c",
   "metadata": {},
   "outputs": [
    {
     "name": "stdout",
     "output_type": "stream",
     "text": [
      "314.0\n"
     ]
    }
   ],
   "source": [
    "PI = 3.14\n",
    "ADDRESS = 'Goa'\n",
    "r = 10\n",
    "a = PI*r*r\n",
    "print(a)"
   ]
  },
  {
   "cell_type": "code",
   "execution_count": null,
   "id": "ea8d22d2",
   "metadata": {},
   "outputs": [],
   "source": [
    "# Statements and Expressions\n",
    "\n",
    "Expression - combination of var and literals to give some value, expression always return some value\n",
    "Statment - does not give the value"
   ]
  },
  {
   "cell_type": "code",
   "execution_count": 20,
   "id": "3bbc0fd8",
   "metadata": {},
   "outputs": [
    {
     "data": {
      "text/plain": [
       "30"
      ]
     },
     "execution_count": 20,
     "metadata": {},
     "output_type": "execute_result"
    }
   ],
   "source": [
    "10+20"
   ]
  },
  {
   "cell_type": "code",
   "execution_count": 21,
   "id": "ba0c7eb9",
   "metadata": {},
   "outputs": [
    {
     "data": {
      "text/plain": [
       "10"
      ]
     },
     "execution_count": 21,
     "metadata": {},
     "output_type": "execute_result"
    }
   ],
   "source": [
    "10"
   ]
  },
  {
   "cell_type": "code",
   "execution_count": null,
   "id": "52f5ab5e",
   "metadata": {},
   "outputs": [],
   "source": [
    "literal is the smallest expression"
   ]
  },
  {
   "cell_type": "code",
   "execution_count": 23,
   "id": "c257cae3",
   "metadata": {},
   "outputs": [],
   "source": [
    "a = 20"
   ]
  },
  {
   "cell_type": "code",
   "execution_count": 24,
   "id": "ab556cfa",
   "metadata": {},
   "outputs": [],
   "source": [
    "def abc():\n",
    "    a = 20"
   ]
  },
  {
   "cell_type": "code",
   "execution_count": 25,
   "id": "f85f87ef",
   "metadata": {},
   "outputs": [
    {
     "data": {
      "text/plain": [
       "50"
      ]
     },
     "execution_count": 25,
     "metadata": {},
     "output_type": "execute_result"
    }
   ],
   "source": [
    "10\n",
    "20\n",
    "30\n",
    "40\n",
    "50"
   ]
  },
  {
   "cell_type": "code",
   "execution_count": 26,
   "id": "59c6d2fd",
   "metadata": {},
   "outputs": [
    {
     "data": {
      "text/plain": [
       "10"
      ]
     },
     "execution_count": 26,
     "metadata": {},
     "output_type": "execute_result"
    }
   ],
   "source": [
    "10"
   ]
  },
  {
   "cell_type": "code",
   "execution_count": 27,
   "id": "95f03dbe",
   "metadata": {},
   "outputs": [
    {
     "data": {
      "text/plain": [
       "'afsan'"
      ]
     },
     "execution_count": 27,
     "metadata": {},
     "output_type": "execute_result"
    }
   ],
   "source": [
    "'afsan'"
   ]
  },
  {
   "cell_type": "code",
   "execution_count": 28,
   "id": "542fb683",
   "metadata": {},
   "outputs": [
    {
     "data": {
      "text/plain": [
       "(10+7j)"
      ]
     },
     "execution_count": 28,
     "metadata": {},
     "output_type": "execute_result"
    }
   ],
   "source": [
    "10+7j"
   ]
  },
  {
   "cell_type": "code",
   "execution_count": 29,
   "id": "5129f2b0",
   "metadata": {},
   "outputs": [
    {
     "ename": "NameError",
     "evalue": "name 'Block' is not defined",
     "output_type": "error",
     "traceback": [
      "\u001b[1;31m---------------------------------------------------------------------------\u001b[0m",
      "\u001b[1;31mNameError\u001b[0m                                 Traceback (most recent call last)",
      "\u001b[1;32m~\\AppData\\Local\\Temp/ipykernel_3436/1125910681.py\u001b[0m in \u001b[0;36m<module>\u001b[1;34m\u001b[0m\n\u001b[1;32m----> 1\u001b[1;33m \u001b[0mBlock\u001b[0m \u001b[1;32mand\u001b[0m \u001b[0mindentation\u001b[0m\u001b[1;33m\u001b[0m\u001b[1;33m\u001b[0m\u001b[0m\n\u001b[0m",
      "\u001b[1;31mNameError\u001b[0m: name 'Block' is not defined"
     ]
    }
   ],
   "source": [
    "# Block and indentation\n",
    "\"\"\"\n",
    "stat1\n",
    "stat2\n",
    "stat3\n",
    "stat4\n",
    "stat5\n",
    "stat6\n",
    "\n",
    "\"\"\"\n",
    "\n",
    "\"\"\"\n",
    "stat1\n",
    "stat2\n",
    "if condition\n",
    "    stat3\n",
    "    stat4\n",
    "stat5\n",
    "stat6\n",
    "\"\"\""
   ]
  },
  {
   "cell_type": "code",
   "execution_count": null,
   "id": "97702d2f",
   "metadata": {},
   "outputs": [],
   "source": [
    "abc = 10\n",
    "10abc = 20"
   ]
  },
  {
   "cell_type": "code",
   "execution_count": 41,
   "id": "3fca4852",
   "metadata": {},
   "outputs": [
    {
     "name": "stdout",
     "output_type": "stream",
     "text": [
      "10\n",
      "30\n"
     ]
    }
   ],
   "source": [
    "a = 10\n",
    "b = 20\n",
    "if a>b:\n",
    "    print('gautham')\n",
    "    print('afsaan')\n",
    "print(10)\n",
    "print(30)"
   ]
  },
  {
   "cell_type": "markdown",
   "id": "42c5a8de",
   "metadata": {},
   "source": [
    "# Comments in python\n",
    "\n",
    "1. comments can be used to explain the python code\n",
    "2. comments can be used to make code more readable\n",
    "3. comments can be used to prevent exec of the code"
   ]
  },
  {
   "cell_type": "code",
   "execution_count": null,
   "id": "9d775a6c",
   "metadata": {},
   "outputs": [],
   "source": [
    "pi = 3.14\n",
    "r = 10\n",
    "a = r*r\n",
    "print(a)"
   ]
  },
  {
   "cell_type": "code",
   "execution_count": null,
   "id": "5be86790",
   "metadata": {},
   "outputs": [],
   "source": [
    "# area of a sqaure\n",
    "\n",
    "pi = 3.14 # value of pi\n",
    "r = 10  # side of sqaure\n",
    "a = r*r #  area of sqaure\n",
    "print(a)"
   ]
  },
  {
   "cell_type": "code",
   "execution_count": 39,
   "id": "bdcf69aa",
   "metadata": {},
   "outputs": [
    {
     "name": "stdout",
     "output_type": "stream",
     "text": [
      "40\n",
      "60\n"
     ]
    }
   ],
   "source": [
    "# comments can be used to prevent exec of the code\n",
    "\n",
    "a = 10\n",
    "b = 20\n",
    "c = 30\n",
    "\n",
    "# print(a+b)\n",
    "print(c+a)\n",
    "print(a+b+c)"
   ]
  },
  {
   "cell_type": "code",
   "execution_count": null,
   "id": "90cc098b",
   "metadata": {},
   "outputs": [],
   "source": [
    "# tmr - types of Datatypes\n",
    "- integer in dept\n",
    "  - what is integer\n",
    "  - how to find out the datatype using code\n",
    "  - operations on integer"
   ]
  }
 ],
 "metadata": {
  "kernelspec": {
   "display_name": "Python 3 (ipykernel)",
   "language": "python",
   "name": "python3"
  },
  "language_info": {
   "codemirror_mode": {
    "name": "ipython",
    "version": 3
   },
   "file_extension": ".py",
   "mimetype": "text/x-python",
   "name": "python",
   "nbconvert_exporter": "python",
   "pygments_lexer": "ipython3",
   "version": "3.9.7"
  }
 },
 "nbformat": 4,
 "nbformat_minor": 5
}
