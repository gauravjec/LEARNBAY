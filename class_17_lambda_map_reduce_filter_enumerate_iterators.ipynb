{
 "cells": [
  {
   "cell_type": "code",
   "execution_count": 3,
   "id": "0b14983d",
   "metadata": {},
   "outputs": [],
   "source": [
    "# Recursive function - function calling itself\n",
    "\n",
    "    def fact(num):\n",
    "        if num == 0:\n",
    "            return 1\n",
    "        else:\n",
    "            return num*fact(num-1)"
   ]
  },
  {
   "cell_type": "code",
   "execution_count": 5,
   "id": "8f610cfa",
   "metadata": {},
   "outputs": [
    {
     "data": {
      "text/plain": [
       "120"
      ]
     },
     "execution_count": 5,
     "metadata": {},
     "output_type": "execute_result"
    }
   ],
   "source": [
    "fact(5)"
   ]
  },
  {
   "cell_type": "code",
   "execution_count": null,
   "id": "73657efa",
   "metadata": {},
   "outputs": [],
   "source": [
    "# write a recursive function to find the patter of fibonacci series"
   ]
  },
  {
   "cell_type": "code",
   "execution_count": null,
   "id": "947970bb",
   "metadata": {},
   "outputs": [],
   "source": [
    "# lambda functions - anonymous function\n",
    "\n",
    "- you can use any number of paramters but can only write one statment"
   ]
  },
  {
   "cell_type": "code",
   "execution_count": 6,
   "id": "b8bd6c92",
   "metadata": {},
   "outputs": [],
   "source": [
    "def sum(a,b):\n",
    "    return a+b"
   ]
  },
  {
   "cell_type": "code",
   "execution_count": 7,
   "id": "27813377",
   "metadata": {},
   "outputs": [
    {
     "data": {
      "text/plain": [
       "300"
      ]
     },
     "execution_count": 7,
     "metadata": {},
     "output_type": "execute_result"
    }
   ],
   "source": [
    "sum(100,200)"
   ]
  },
  {
   "cell_type": "code",
   "execution_count": null,
   "id": "7a0bfa3b",
   "metadata": {},
   "outputs": [],
   "source": [
    "# syntax of lambda function\n",
    "\n",
    "lambda parameter : statment"
   ]
  },
  {
   "cell_type": "code",
   "execution_count": 8,
   "id": "7c0c42ce",
   "metadata": {},
   "outputs": [
    {
     "data": {
      "text/plain": [
       "<function __main__.<lambda>(a, b)>"
      ]
     },
     "execution_count": 8,
     "metadata": {},
     "output_type": "execute_result"
    }
   ],
   "source": [
    "lambda a,b : a+b "
   ]
  },
  {
   "cell_type": "code",
   "execution_count": 9,
   "id": "17b9ec07",
   "metadata": {},
   "outputs": [],
   "source": [
    "x = lambda a,b : a+b "
   ]
  },
  {
   "cell_type": "code",
   "execution_count": 10,
   "id": "55308c95",
   "metadata": {},
   "outputs": [
    {
     "data": {
      "text/plain": [
       "30"
      ]
     },
     "execution_count": 10,
     "metadata": {},
     "output_type": "execute_result"
    }
   ],
   "source": [
    "x(10,20)"
   ]
  },
  {
   "cell_type": "code",
   "execution_count": 11,
   "id": "9633097c",
   "metadata": {},
   "outputs": [
    {
     "data": {
      "text/plain": [
       "30"
      ]
     },
     "execution_count": 11,
     "metadata": {},
     "output_type": "execute_result"
    }
   ],
   "source": [
    "(lambda a,b : a+b)(10,20) "
   ]
  },
  {
   "cell_type": "code",
   "execution_count": 12,
   "id": "4f82b29c",
   "metadata": {},
   "outputs": [],
   "source": [
    "# write a lambda function to check if the number is even or odd\n",
    "\n",
    "x = lambda a :'even' if a %2 == 0 else 'false'"
   ]
  },
  {
   "cell_type": "code",
   "execution_count": 14,
   "id": "51a8f43c",
   "metadata": {},
   "outputs": [
    {
     "data": {
      "text/plain": [
       "'false'"
      ]
     },
     "execution_count": 14,
     "metadata": {},
     "output_type": "execute_result"
    }
   ],
   "source": [
    "x(11)"
   ]
  },
  {
   "cell_type": "code",
   "execution_count": null,
   "id": "64b58b72",
   "metadata": {},
   "outputs": [],
   "source": [
    "# local and global varibale\n",
    "\n",
    "local var - you can use this varibable only inside a function where it is created\n",
    "global var- this you can use in the entire code"
   ]
  },
  {
   "cell_type": "code",
   "execution_count": 16,
   "id": "7289bb5b",
   "metadata": {},
   "outputs": [
    {
     "name": "stdout",
     "output_type": "stream",
     "text": [
      "130\n",
      "100\n"
     ]
    },
    {
     "ename": "NameError",
     "evalue": "name 'c' is not defined",
     "output_type": "error",
     "traceback": [
      "\u001b[1;31m---------------------------------------------------------------------------\u001b[0m",
      "\u001b[1;31mNameError\u001b[0m                                 Traceback (most recent call last)",
      "\u001b[1;32m~\\AppData\\Local\\Temp/ipykernel_9452/4160528722.py\u001b[0m in \u001b[0;36m<module>\u001b[1;34m\u001b[0m\n\u001b[0;32m     10\u001b[0m \u001b[1;31m# print(x)\u001b[0m\u001b[1;33m\u001b[0m\u001b[1;33m\u001b[0m\u001b[0m\n\u001b[0;32m     11\u001b[0m \u001b[1;31m# print(y)\u001b[0m\u001b[1;33m\u001b[0m\u001b[1;33m\u001b[0m\u001b[0m\n\u001b[1;32m---> 12\u001b[1;33m \u001b[0mprint\u001b[0m\u001b[1;33m(\u001b[0m\u001b[0mc\u001b[0m\u001b[1;33m)\u001b[0m\u001b[1;33m\u001b[0m\u001b[1;33m\u001b[0m\u001b[0m\n\u001b[0m",
      "\u001b[1;31mNameError\u001b[0m: name 'c' is not defined"
     ]
    }
   ],
   "source": [
    "a = 100 # global variable\n",
    "\n",
    "def sum(x,y):\n",
    "    c = a + x + y\n",
    "    print(c) # local variable\n",
    "\n",
    "sum(10,20)\n",
    "\n",
    "print(a)\n",
    "# print(x)\n",
    "# print(y)\n",
    "print(c)"
   ]
  },
  {
   "cell_type": "code",
   "execution_count": 18,
   "id": "8b264cc3",
   "metadata": {},
   "outputs": [
    {
     "name": "stdout",
     "output_type": "stream",
     "text": [
      "2200\n"
     ]
    }
   ],
   "source": [
    "sum(100,2000)"
   ]
  },
  {
   "cell_type": "markdown",
   "id": "9a1b992e",
   "metadata": {},
   "source": [
    "# map function\n",
    "\n",
    "a map function takes two args\n",
    "\n",
    "1. function\n",
    "2. iterable\n",
    "\n",
    "map(function , iterable)"
   ]
  },
  {
   "cell_type": "code",
   "execution_count": 2,
   "id": "539039ac",
   "metadata": {},
   "outputs": [],
   "source": [
    "temp_f = [102 , 101, 120 , 98 , 97]"
   ]
  },
  {
   "cell_type": "code",
   "execution_count": 31,
   "id": "40c6c097",
   "metadata": {},
   "outputs": [],
   "source": [
    "def cel(T):\n",
    "    return (5/9)*(T-32)\n",
    "\n",
    "def fah(T):\n",
    "    return (9/5)*T + 32"
   ]
  },
  {
   "cell_type": "code",
   "execution_count": 23,
   "id": "bf0fe3b8",
   "metadata": {},
   "outputs": [
    {
     "data": {
      "text/plain": [
       "38.333333333333336"
      ]
     },
     "execution_count": 23,
     "metadata": {},
     "output_type": "execute_result"
    }
   ],
   "source": [
    "cel(101)"
   ]
  },
  {
   "cell_type": "code",
   "execution_count": null,
   "id": "4aeb803c",
   "metadata": {},
   "outputs": [],
   "source": [
    "# write a cdoe to convert all the fah into cel in the form of list\n",
    "\n",
    "# write a code to convert all the cel into fah in the form of list"
   ]
  },
  {
   "cell_type": "code",
   "execution_count": 24,
   "id": "3d862f15",
   "metadata": {},
   "outputs": [],
   "source": [
    "temp_c = [102 , 101, 120 , 98 , 97]\n",
    "temp=[]\n",
    "for i in (temp_c): o[n]\n",
    "    temp_f=(9/5)*(i+32)\n",
    "    temp.append(temp_f)"
   ]
  },
  {
   "cell_type": "code",
   "execution_count": 25,
   "id": "c03c0dbd",
   "metadata": {},
   "outputs": [
    {
     "data": {
      "text/plain": [
       "[241.20000000000002, 239.4, 273.6, 234.0, 232.20000000000002]"
      ]
     },
     "execution_count": 25,
     "metadata": {},
     "output_type": "execute_result"
    }
   ],
   "source": [
    "temp"
   ]
  },
  {
   "cell_type": "code",
   "execution_count": 32,
   "id": "49abe2ec",
   "metadata": {},
   "outputs": [
    {
     "data": {
      "text/plain": [
       "[38.88888888888889,\n",
       " 38.333333333333336,\n",
       " 48.88888888888889,\n",
       " 36.66666666666667,\n",
       " 36.111111111111114]"
      ]
     },
     "execution_count": 32,
     "metadata": {},
     "output_type": "execute_result"
    }
   ],
   "source": [
    "list(map(cel , temp_f))"
   ]
  },
  {
   "cell_type": "code",
   "execution_count": 4,
   "id": "3bada71c",
   "metadata": {},
   "outputs": [],
   "source": [
    "x = lambda x: (5/9)*(x-32)"
   ]
  },
  {
   "cell_type": "code",
   "execution_count": 8,
   "id": "f03be336",
   "metadata": {},
   "outputs": [
    {
     "data": {
      "text/plain": [
       "<map at 0x2b8bf86ebe0>"
      ]
     },
     "execution_count": 8,
     "metadata": {},
     "output_type": "execute_result"
    }
   ],
   "source": [
    "map(x  , temp_f)"
   ]
  },
  {
   "cell_type": "code",
   "execution_count": 6,
   "id": "90de3e9a",
   "metadata": {},
   "outputs": [
    {
     "data": {
      "text/plain": [
       "38.333333333333336"
      ]
     },
     "execution_count": 6,
     "metadata": {},
     "output_type": "execute_result"
    }
   ],
   "source": [
    "x(101)"
   ]
  },
  {
   "cell_type": "code",
   "execution_count": null,
   "id": "e3ba2970",
   "metadata": {},
   "outputs": [],
   "source": [
    "#reduce\n",
    "\n",
    "it takes two args\n",
    "\n",
    "1. function\n",
    "2. iterable\n",
    "\n",
    "- sum , avg , min , max"
   ]
  },
  {
   "cell_type": "code",
   "execution_count": 11,
   "id": "87c1aa02",
   "metadata": {},
   "outputs": [
    {
     "data": {
      "text/plain": [
       "10"
      ]
     },
     "execution_count": 11,
     "metadata": {},
     "output_type": "execute_result"
    }
   ],
   "source": [
    "from functools import reduce\n",
    "\n",
    "list_1 = [10,4,8,6,3,9]\n",
    "\n",
    "reduce(lambda a,b :a if a>b else b , list_1)"
   ]
  },
  {
   "cell_type": "code",
   "execution_count": null,
   "id": "5a38e7d6",
   "metadata": {},
   "outputs": [],
   "source": [
    "[ 10, 4, 8 , 6, 3, 9]\n",
    "  a , b\n",
    "    \n",
    "[ 14 , 8, 6 , 3 , 9]\n",
    "  a    b\n",
    "    \n",
    "[22 , 6 , 3 ,9]\n",
    " a    b\n",
    "    \n",
    "[28 , 3 , 9]\n",
    "a     b\n",
    "\n",
    "[31 , 9]\n",
    "\n",
    "[40]"
   ]
  },
  {
   "cell_type": "code",
   "execution_count": 13,
   "id": "2d3cf374",
   "metadata": {},
   "outputs": [
    {
     "ename": "TypeError",
     "evalue": "<lambda>() takes 1 positional argument but 2 were given",
     "output_type": "error",
     "traceback": [
      "\u001b[1;31m---------------------------------------------------------------------------\u001b[0m",
      "\u001b[1;31mTypeError\u001b[0m                                 Traceback (most recent call last)",
      "\u001b[1;32m~\\AppData\\Local\\Temp/ipykernel_12832/324041726.py\u001b[0m in \u001b[0;36m<module>\u001b[1;34m\u001b[0m\n\u001b[0;32m      4\u001b[0m \u001b[1;33m\u001b[0m\u001b[0m\n\u001b[0;32m      5\u001b[0m \u001b[1;33m\u001b[0m\u001b[0m\n\u001b[1;32m----> 6\u001b[1;33m \u001b[0mlist\u001b[0m\u001b[1;33m(\u001b[0m\u001b[0mmap\u001b[0m\u001b[1;33m(\u001b[0m\u001b[1;32mlambda\u001b[0m \u001b[0mx\u001b[0m \u001b[1;33m:\u001b[0m \u001b[0mx\u001b[0m\u001b[1;33m+\u001b[0m\u001b[1;36m10\u001b[0m \u001b[1;33m,\u001b[0m \u001b[0ma\u001b[0m \u001b[1;33m,\u001b[0m \u001b[0mb\u001b[0m\u001b[1;33m)\u001b[0m\u001b[1;33m)\u001b[0m\u001b[1;33m\u001b[0m\u001b[1;33m\u001b[0m\u001b[0m\n\u001b[0m",
      "\u001b[1;31mTypeError\u001b[0m: <lambda>() takes 1 positional argument but 2 were given"
     ]
    }
   ],
   "source": [
    "a = [1,2,3,4,5]\n",
    "b = [10,11,12,13]\n",
    "\n",
    "\n",
    "\n",
    "list(map(lambda x : x+10 , a , b))"
   ]
  },
  {
   "cell_type": "code",
   "execution_count": null,
   "id": "f59fcc2a",
   "metadata": {},
   "outputs": [],
   "source": []
  }
 ],
 "metadata": {
  "kernelspec": {
   "display_name": "Python 3 (ipykernel)",
   "language": "python",
   "name": "python3"
  },
  "language_info": {
   "codemirror_mode": {
    "name": "ipython",
    "version": 3
   },
   "file_extension": ".py",
   "mimetype": "text/x-python",
   "name": "python",
   "nbconvert_exporter": "python",
   "pygments_lexer": "ipython3",
   "version": "3.9.7"
  }
 },
 "nbformat": 4,
 "nbformat_minor": 5
}
