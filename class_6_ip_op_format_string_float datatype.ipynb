{
 "cells": [
  {
   "cell_type": "markdown",
   "id": "324b6d14",
   "metadata": {},
   "source": [
    "# input and Output functions in python"
   ]
  },
  {
   "cell_type": "code",
   "execution_count": null,
   "id": "2bfea735",
   "metadata": {},
   "outputs": [],
   "source": [
    "input functions - - it is used to take input from the users"
   ]
  },
  {
   "cell_type": "code",
   "execution_count": 4,
   "id": "8d7ddc70",
   "metadata": {},
   "outputs": [
    {
     "name": "stdout",
     "output_type": "stream",
     "text": [
      "60\n"
     ]
    }
   ],
   "source": [
    "a = 40\n",
    "b = 20\n",
    "\n",
    "print(a+b)"
   ]
  },
  {
   "cell_type": "code",
   "execution_count": 8,
   "id": "98083c09",
   "metadata": {},
   "outputs": [
    {
     "name": "stdout",
     "output_type": "stream",
     "text": [
      "please enter the first numberTrue\n",
      "please enter the second numberFalse\n",
      "True <class 'str'>\n",
      "False <class 'str'>\n"
     ]
    }
   ],
   "source": [
    "a = input('please enter the first number')\n",
    "b = input('please enter the second number')\n",
    "\n",
    "print(a , type(a))\n",
    "print(b, type(b))"
   ]
  },
  {
   "cell_type": "code",
   "execution_count": null,
   "id": "acfe171e",
   "metadata": {},
   "outputs": [],
   "source": [
    "note - input function always return a string data type"
   ]
  },
  {
   "cell_type": "code",
   "execution_count": 11,
   "id": "c183883b",
   "metadata": {},
   "outputs": [
    {
     "name": "stdout",
     "output_type": "stream",
     "text": [
      "please enter the first number11.2\n"
     ]
    },
    {
     "ename": "ValueError",
     "evalue": "invalid literal for int() with base 10: '11.2'",
     "output_type": "error",
     "traceback": [
      "\u001b[1;31m---------------------------------------------------------------------------\u001b[0m",
      "\u001b[1;31mValueError\u001b[0m                                Traceback (most recent call last)",
      "\u001b[1;32m~\\AppData\\Local\\Temp/ipykernel_1652/1938852618.py\u001b[0m in \u001b[0;36m<module>\u001b[1;34m\u001b[0m\n\u001b[1;32m----> 1\u001b[1;33m \u001b[0ma\u001b[0m \u001b[1;33m=\u001b[0m \u001b[0mint\u001b[0m\u001b[1;33m(\u001b[0m\u001b[0minput\u001b[0m\u001b[1;33m(\u001b[0m\u001b[1;34m'please enter the first number'\u001b[0m\u001b[1;33m)\u001b[0m\u001b[1;33m)\u001b[0m\u001b[1;33m\u001b[0m\u001b[1;33m\u001b[0m\u001b[0m\n\u001b[0m\u001b[0;32m      2\u001b[0m \u001b[0mb\u001b[0m \u001b[1;33m=\u001b[0m \u001b[0mint\u001b[0m\u001b[1;33m(\u001b[0m\u001b[0minput\u001b[0m\u001b[1;33m(\u001b[0m\u001b[1;34m'please enter the second number'\u001b[0m\u001b[1;33m)\u001b[0m\u001b[1;33m)\u001b[0m\u001b[1;33m\u001b[0m\u001b[1;33m\u001b[0m\u001b[0m\n\u001b[0;32m      3\u001b[0m \u001b[1;33m\u001b[0m\u001b[0m\n\u001b[0;32m      4\u001b[0m \u001b[0mprint\u001b[0m\u001b[1;33m(\u001b[0m\u001b[0ma\u001b[0m \u001b[1;33m,\u001b[0m \u001b[0mtype\u001b[0m\u001b[1;33m(\u001b[0m\u001b[0ma\u001b[0m\u001b[1;33m)\u001b[0m\u001b[1;33m)\u001b[0m\u001b[1;33m\u001b[0m\u001b[1;33m\u001b[0m\u001b[0m\n\u001b[0;32m      5\u001b[0m \u001b[0mprint\u001b[0m\u001b[1;33m(\u001b[0m\u001b[0mb\u001b[0m\u001b[1;33m,\u001b[0m \u001b[0mtype\u001b[0m\u001b[1;33m(\u001b[0m\u001b[0mb\u001b[0m\u001b[1;33m)\u001b[0m\u001b[1;33m)\u001b[0m\u001b[1;33m\u001b[0m\u001b[1;33m\u001b[0m\u001b[0m\n",
      "\u001b[1;31mValueError\u001b[0m: invalid literal for int() with base 10: '11.2'"
     ]
    }
   ],
   "source": [
    "a = int(input('please enter the first number'))\n",
    "b = int(input('please enter the second number'))\n",
    "\n",
    "print(a , type(a))\n",
    "print(b, type(b))\n",
    "\n",
    "print(a+b)"
   ]
  },
  {
   "cell_type": "code",
   "execution_count": 10,
   "id": "aaeb37b3",
   "metadata": {},
   "outputs": [
    {
     "ename": "KeyboardInterrupt",
     "evalue": "Interrupted by user",
     "output_type": "error",
     "traceback": [
      "\u001b[1;31m---------------------------------------------------------------------------\u001b[0m",
      "\u001b[1;31mKeyboardInterrupt\u001b[0m                         Traceback (most recent call last)",
      "\u001b[1;32m~\\AppData\\Local\\Temp/ipykernel_1652/1069512770.py\u001b[0m in \u001b[0;36m<module>\u001b[1;34m\u001b[0m\n\u001b[1;32m----> 1\u001b[1;33m \u001b[0ma\u001b[0m \u001b[1;33m=\u001b[0m \u001b[0minput\u001b[0m\u001b[1;33m(\u001b[0m\u001b[1;34m'please enter the first number'\u001b[0m\u001b[1;33m)\u001b[0m\u001b[1;33m\u001b[0m\u001b[1;33m\u001b[0m\u001b[0m\n\u001b[0m\u001b[0;32m      2\u001b[0m \u001b[0mb\u001b[0m \u001b[1;33m=\u001b[0m \u001b[0minput\u001b[0m\u001b[1;33m(\u001b[0m\u001b[1;34m'please enter the second number'\u001b[0m\u001b[1;33m)\u001b[0m\u001b[1;33m\u001b[0m\u001b[1;33m\u001b[0m\u001b[0m\n\u001b[0;32m      3\u001b[0m \u001b[1;33m\u001b[0m\u001b[0m\n\u001b[0;32m      4\u001b[0m \u001b[0mprint\u001b[0m\u001b[1;33m(\u001b[0m\u001b[0ma\u001b[0m \u001b[1;33m,\u001b[0m \u001b[0mtype\u001b[0m\u001b[1;33m(\u001b[0m\u001b[0ma\u001b[0m\u001b[1;33m)\u001b[0m\u001b[1;33m)\u001b[0m\u001b[1;33m\u001b[0m\u001b[1;33m\u001b[0m\u001b[0m\n\u001b[0;32m      5\u001b[0m \u001b[0mprint\u001b[0m\u001b[1;33m(\u001b[0m\u001b[0mb\u001b[0m\u001b[1;33m,\u001b[0m \u001b[0mtype\u001b[0m\u001b[1;33m(\u001b[0m\u001b[0mb\u001b[0m\u001b[1;33m)\u001b[0m\u001b[1;33m)\u001b[0m\u001b[1;33m\u001b[0m\u001b[1;33m\u001b[0m\u001b[0m\n",
      "\u001b[1;32m~\\anaconda3\\lib\\site-packages\\ipykernel\\kernelbase.py\u001b[0m in \u001b[0;36mraw_input\u001b[1;34m(self, prompt)\u001b[0m\n\u001b[0;32m   1004\u001b[0m                 \u001b[1;34m\"raw_input was called, but this frontend does not support input requests.\"\u001b[0m\u001b[1;33m\u001b[0m\u001b[1;33m\u001b[0m\u001b[0m\n\u001b[0;32m   1005\u001b[0m             )\n\u001b[1;32m-> 1006\u001b[1;33m         return self._input_request(\n\u001b[0m\u001b[0;32m   1007\u001b[0m             \u001b[0mstr\u001b[0m\u001b[1;33m(\u001b[0m\u001b[0mprompt\u001b[0m\u001b[1;33m)\u001b[0m\u001b[1;33m,\u001b[0m\u001b[1;33m\u001b[0m\u001b[1;33m\u001b[0m\u001b[0m\n\u001b[0;32m   1008\u001b[0m             \u001b[0mself\u001b[0m\u001b[1;33m.\u001b[0m\u001b[0m_parent_ident\u001b[0m\u001b[1;33m[\u001b[0m\u001b[1;34m\"shell\"\u001b[0m\u001b[1;33m]\u001b[0m\u001b[1;33m,\u001b[0m\u001b[1;33m\u001b[0m\u001b[1;33m\u001b[0m\u001b[0m\n",
      "\u001b[1;32m~\\anaconda3\\lib\\site-packages\\ipykernel\\kernelbase.py\u001b[0m in \u001b[0;36m_input_request\u001b[1;34m(self, prompt, ident, parent, password)\u001b[0m\n\u001b[0;32m   1049\u001b[0m             \u001b[1;32mexcept\u001b[0m \u001b[0mKeyboardInterrupt\u001b[0m\u001b[1;33m:\u001b[0m\u001b[1;33m\u001b[0m\u001b[1;33m\u001b[0m\u001b[0m\n\u001b[0;32m   1050\u001b[0m                 \u001b[1;31m# re-raise KeyboardInterrupt, to truncate traceback\u001b[0m\u001b[1;33m\u001b[0m\u001b[1;33m\u001b[0m\u001b[0m\n\u001b[1;32m-> 1051\u001b[1;33m                 \u001b[1;32mraise\u001b[0m \u001b[0mKeyboardInterrupt\u001b[0m\u001b[1;33m(\u001b[0m\u001b[1;34m\"Interrupted by user\"\u001b[0m\u001b[1;33m)\u001b[0m \u001b[1;32mfrom\u001b[0m \u001b[1;32mNone\u001b[0m\u001b[1;33m\u001b[0m\u001b[1;33m\u001b[0m\u001b[0m\n\u001b[0m\u001b[0;32m   1052\u001b[0m             \u001b[1;32mexcept\u001b[0m \u001b[0mException\u001b[0m\u001b[1;33m:\u001b[0m\u001b[1;33m\u001b[0m\u001b[1;33m\u001b[0m\u001b[0m\n\u001b[0;32m   1053\u001b[0m                 \u001b[0mself\u001b[0m\u001b[1;33m.\u001b[0m\u001b[0mlog\u001b[0m\u001b[1;33m.\u001b[0m\u001b[0mwarning\u001b[0m\u001b[1;33m(\u001b[0m\u001b[1;34m\"Invalid Message:\"\u001b[0m\u001b[1;33m,\u001b[0m \u001b[0mexc_info\u001b[0m\u001b[1;33m=\u001b[0m\u001b[1;32mTrue\u001b[0m\u001b[1;33m)\u001b[0m\u001b[1;33m\u001b[0m\u001b[1;33m\u001b[0m\u001b[0m\n",
      "\u001b[1;31mKeyboardInterrupt\u001b[0m: Interrupted by user"
     ]
    }
   ],
   "source": [
    "a = input('please enter the first number')\n",
    "b = input('please enter the second number')\n",
    "\n",
    "print(a , type(a))\n",
    "print(b, type(b))\n",
    "\n",
    "print(a+b)"
   ]
  },
  {
   "cell_type": "code",
   "execution_count": null,
   "id": "faaf188f",
   "metadata": {},
   "outputs": [],
   "source": [
    "a = input('please enter the 5 comma sep number')\n",
    "\n",
    "print(a , type(a))\n",
    "print(b, type(b))\n",
    "\n",
    "print(a+b)"
   ]
  },
  {
   "cell_type": "code",
   "execution_count": 12,
   "id": "daa98eed",
   "metadata": {},
   "outputs": [
    {
     "ename": "ValueError",
     "evalue": "invalid literal for int() with base 10: '11.2'",
     "output_type": "error",
     "traceback": [
      "\u001b[1;31m---------------------------------------------------------------------------\u001b[0m",
      "\u001b[1;31mValueError\u001b[0m                                Traceback (most recent call last)",
      "\u001b[1;32m~\\AppData\\Local\\Temp/ipykernel_1652/2998332865.py\u001b[0m in \u001b[0;36m<module>\u001b[1;34m\u001b[0m\n\u001b[1;32m----> 1\u001b[1;33m \u001b[0mint\u001b[0m\u001b[1;33m(\u001b[0m\u001b[1;34m'11.2'\u001b[0m\u001b[1;33m)\u001b[0m\u001b[1;33m\u001b[0m\u001b[1;33m\u001b[0m\u001b[0m\n\u001b[0m",
      "\u001b[1;31mValueError\u001b[0m: invalid literal for int() with base 10: '11.2'"
     ]
    }
   ],
   "source": [
    "int('11.2')"
   ]
  },
  {
   "cell_type": "code",
   "execution_count": 20,
   "id": "5b302cf9",
   "metadata": {},
   "outputs": [
    {
     "name": "stdout",
     "output_type": "stream",
     "text": [
      "please enter the first number6\n",
      "please enter the second number7\n",
      "6 <class 'int'>\n",
      "7 <class 'int'>\n",
      "13\n"
     ]
    }
   ],
   "source": [
    "a = int(input('please enter the first number'))\n",
    "b = int(input('please enter the second number'))\n",
    "\n",
    "print(a , type(a))\n",
    "print(b, type(b))\n",
    "\n",
    "print(a+b)"
   ]
  },
  {
   "cell_type": "code",
   "execution_count": 26,
   "id": "a9dd90e9",
   "metadata": {},
   "outputs": [
    {
     "name": "stdout",
     "output_type": "stream",
     "text": [
      "please enter the first number1\n",
      "please enter the second number2\n",
      "1 <class 'int'>\n",
      "2 <class 'int'>\n",
      "3\n"
     ]
    }
   ],
   "source": [
    "# eval() - function - you have to write the exact data type\n",
    "\n",
    "a = eval(input('please enter the first number'))\n",
    "b = eval(input('please enter the second number'))\n",
    "\n",
    "print(a , type(a))\n",
    "print(b, type(b))\n",
    "\n",
    "print(float(a)+float(b))"
   ]
  },
  {
   "cell_type": "code",
   "execution_count": null,
   "id": "a704b514",
   "metadata": {},
   "outputs": [],
   "source": [
    "print('hello')"
   ]
  },
  {
   "cell_type": "code",
   "execution_count": null,
   "id": "2b43b083",
   "metadata": {},
   "outputs": [],
   "source": [
    "Output - to print some output on the string - print()"
   ]
  },
  {
   "cell_type": "code",
   "execution_count": null,
   "id": "97ea863b",
   "metadata": {},
   "outputs": [],
   "source": [
    "a = 10\n",
    "b = 20\n",
    "c = 30\n",
    "\n",
    "print(a)\n",
    "print(b)\n",
    "print(c)"
   ]
  },
  {
   "cell_type": "code",
   "execution_count": 27,
   "id": "450ec90f",
   "metadata": {},
   "outputs": [
    {
     "name": "stdout",
     "output_type": "stream",
     "text": [
      "102030"
     ]
    }
   ],
   "source": [
    "a = 10\n",
    "b = 20\n",
    "c = 30\n",
    "\n",
    "print(a , end = '')\n",
    "print(b , end = '')\n",
    "print(c , end = '')"
   ]
  },
  {
   "cell_type": "code",
   "execution_count": 29,
   "id": "9e978284",
   "metadata": {},
   "outputs": [
    {
     "name": "stdout",
     "output_type": "stream",
     "text": [
      "10 20 30\n"
     ]
    }
   ],
   "source": [
    "a = 10\n",
    "b = 20\n",
    "c = 30\n",
    "\n",
    "print(a,b,c)"
   ]
  },
  {
   "cell_type": "code",
   "execution_count": 32,
   "id": "a7403e4c",
   "metadata": {},
   "outputs": [
    {
     "name": "stdout",
     "output_type": "stream",
     "text": [
      "10\n",
      "20\n",
      "30\n"
     ]
    }
   ],
   "source": [
    "print('10\\n20\\n30')"
   ]
  },
  {
   "cell_type": "code",
   "execution_count": 33,
   "id": "6a3669fc",
   "metadata": {},
   "outputs": [
    {
     "name": "stdout",
     "output_type": "stream",
     "text": [
      "10**20++10\n"
     ]
    }
   ],
   "source": [
    "a = 10\n",
    "b = 20\n",
    "c = 30\n",
    "\n",
    "print(a, end = '**')\n",
    "print(b, end = '++')\n",
    "print(a)"
   ]
  },
  {
   "cell_type": "code",
   "execution_count": 36,
   "id": "e606b4f1",
   "metadata": {},
   "outputs": [
    {
     "name": "stdout",
     "output_type": "stream",
     "text": [
      "10 20**20\n",
      "30\n",
      "50**100--50--10==100==100afsanGautam\n"
     ]
    }
   ],
   "source": [
    "a = 10\n",
    "b = 20\n",
    "c = 30\n",
    "d = 50\n",
    "e = 100\n",
    "\n",
    "\n",
    "print(a,b, end = '**')\n",
    "print(b,c,d, sep='\\n', end = '**')\n",
    "print(e,d, sep='--', end = '--')\n",
    "print(a,e,e, sep='==', end = 'afsan')\n",
    "print('Gautam')"
   ]
  },
  {
   "cell_type": "code",
   "execution_count": null,
   "id": "3a664c4b",
   "metadata": {},
   "outputs": [],
   "source": [
    "10 20**20\n",
    "30\n",
    "50**100--50--10==100==100afsan"
   ]
  },
  {
   "cell_type": "code",
   "execution_count": null,
   "id": "e2ae6eb0",
   "metadata": {},
   "outputs": [],
   "source": [
    "# take the first name and the last name from the user and print the full name"
   ]
  },
  {
   "cell_type": "code",
   "execution_count": 41,
   "id": "0d5c4956",
   "metadata": {},
   "outputs": [
    {
     "name": "stdout",
     "output_type": "stream",
     "text": [
      "enter first namemanoj\n",
      "enter second namesilveraj\n",
      "manoj silveraj\n",
      "manoj silveraj\n",
      "My first name is manoj and second name is silveraj\n"
     ]
    }
   ],
   "source": [
    "a = input(\"enter first name\")\n",
    "b = input(\"enter second name\")\n",
    "\n",
    "print(a,b)\n",
    "print(a+\" \"+b)\n",
    "print(\"My first name is\", a, \"and second name is\",b)\n",
    "\n"
   ]
  },
  {
   "cell_type": "code",
   "execution_count": null,
   "id": "fdad92eb",
   "metadata": {},
   "outputs": [],
   "source": [
    "# output - my first name is afsan and second name is khan"
   ]
  },
  {
   "cell_type": "code",
   "execution_count": 42,
   "id": "bafd4399",
   "metadata": {},
   "outputs": [
    {
     "name": "stdout",
     "output_type": "stream",
     "text": [
      "enter first nameafsan\n",
      "enter second namekhan\n",
      "my first name is afsan and second name is khan\n"
     ]
    }
   ],
   "source": [
    "# format string 1-\n",
    "\n",
    "a = input(\"enter first name\")\n",
    "b = input(\"enter second name\")\n",
    "\n",
    "print(\"{} is my first name  and second name is {}\".format(a,b))"
   ]
  },
  {
   "cell_type": "code",
   "execution_count": 43,
   "id": "53e1d870",
   "metadata": {},
   "outputs": [
    {
     "name": "stdout",
     "output_type": "stream",
     "text": [
      "enter first nameafsan\n",
      "enter second namekhan\n",
      "afsan is my first name  and second name is khan\n"
     ]
    }
   ],
   "source": [
    "a = input(\"enter first name\")\n",
    "b = input(\"enter second name\")\n",
    "\n",
    "print(f\"{a} is my first name  and second name is {b}\")"
   ]
  },
  {
   "cell_type": "code",
   "execution_count": null,
   "id": "21f991b4",
   "metadata": {},
   "outputs": [],
   "source": [
    "a=input('Please enter the first name')\n",
    "b=input('Please enter the last name')\n",
    "print(\"My First Name is {} and second name is {}\".format(a,b))\n"
   ]
  },
  {
   "cell_type": "code",
   "execution_count": null,
   "id": "38682228",
   "metadata": {},
   "outputs": [],
   "source": [
    "# float data type\n",
    "\n",
    "any number with a decimal point eg 100.24 , 100.0"
   ]
  },
  {
   "cell_type": "code",
   "execution_count": 44,
   "id": "ba553583",
   "metadata": {},
   "outputs": [
    {
     "name": "stdout",
     "output_type": "stream",
     "text": [
      "<class 'float'>\n"
     ]
    }
   ],
   "source": [
    "a = 100.0\n",
    "\n",
    "print(type(a))"
   ]
  },
  {
   "cell_type": "code",
   "execution_count": null,
   "id": "aa2abc89",
   "metadata": {},
   "outputs": [],
   "source": [
    "Operation possible with float data type\n",
    "\n",
    "- arithmatic\n",
    "- comparison\n",
    "- equality\n",
    "- logical\n",
    "- assignment / compound\n",
    "- indentity\n",
    "- ternary op\n",
    "\n",
    "\n",
    "operations not possible\n",
    "\n",
    "- bitwise\n",
    "- assignment op which as bitwise\n",
    "\n",
    "Object resuabilty is not applicable"
   ]
  },
  {
   "cell_type": "code",
   "execution_count": null,
   "id": "c3fe5f9f",
   "metadata": {},
   "outputs": [],
   "source": [
    "# Complex data type\n",
    "\n",
    "any number that can be represented in the form of a+bj where a is the real part and b is the imag"
   ]
  },
  {
   "cell_type": "code",
   "execution_count": 45,
   "id": "7a398a8c",
   "metadata": {},
   "outputs": [
    {
     "name": "stdout",
     "output_type": "stream",
     "text": [
      "(6+7j)\n"
     ]
    }
   ],
   "source": [
    "a =  6+7j\n",
    "print(a)"
   ]
  },
  {
   "cell_type": "code",
   "execution_count": 46,
   "id": "8ab0758e",
   "metadata": {},
   "outputs": [
    {
     "name": "stdout",
     "output_type": "stream",
     "text": [
      "<class 'complex'>\n"
     ]
    }
   ],
   "source": [
    "a =  6+7j\n",
    "print(type(a))"
   ]
  },
  {
   "cell_type": "code",
   "execution_count": 47,
   "id": "a34b4464",
   "metadata": {},
   "outputs": [
    {
     "data": {
      "text/plain": [
       "6.0"
      ]
     },
     "execution_count": 47,
     "metadata": {},
     "output_type": "execute_result"
    }
   ],
   "source": [
    "# we can sep the real and imag part also\n",
    "a.real"
   ]
  },
  {
   "cell_type": "code",
   "execution_count": 48,
   "id": "9b81d82b",
   "metadata": {},
   "outputs": [
    {
     "data": {
      "text/plain": [
       "7.0"
      ]
     },
     "execution_count": 48,
     "metadata": {},
     "output_type": "execute_result"
    }
   ],
   "source": [
    "a.imag"
   ]
  },
  {
   "cell_type": "code",
   "execution_count": null,
   "id": "944cc998",
   "metadata": {},
   "outputs": [],
   "source": [
    "Operation possible with complex data type\n",
    "\n",
    "- arithmatic\n",
    "- equality\n",
    "- logical\n",
    "- assignment / compound\n",
    "- indentity\n",
    "- ternary op\n",
    "\n",
    "\n",
    "operations not possible\n",
    "\n",
    "- modulo\n",
    "- comparison\n",
    "- bitwise\n",
    "- assignment op which as bitwise\n",
    "\n",
    "Object resuabilty is not applicable"
   ]
  },
  {
   "cell_type": "code",
   "execution_count": 49,
   "id": "26848b80",
   "metadata": {},
   "outputs": [
    {
     "ename": "TypeError",
     "evalue": "can't mod complex numbers.",
     "output_type": "error",
     "traceback": [
      "\u001b[1;31m---------------------------------------------------------------------------\u001b[0m",
      "\u001b[1;31mTypeError\u001b[0m                                 Traceback (most recent call last)",
      "\u001b[1;32m~\\AppData\\Local\\Temp/ipykernel_1652/1538270915.py\u001b[0m in \u001b[0;36m<module>\u001b[1;34m\u001b[0m\n\u001b[1;32m----> 1\u001b[1;33m \u001b[0ma\u001b[0m\u001b[1;33m%\u001b[0m\u001b[1;36m2\u001b[0m\u001b[1;33m\u001b[0m\u001b[1;33m\u001b[0m\u001b[0m\n\u001b[0m",
      "\u001b[1;31mTypeError\u001b[0m: can't mod complex numbers."
     ]
    }
   ],
   "source": [
    "a%2"
   ]
  },
  {
   "cell_type": "code",
   "execution_count": null,
   "id": "f0507e31",
   "metadata": {},
   "outputs": [],
   "source": [
    "next week\n",
    "\n",
    "boolean\n",
    "None\n",
    "string - actual\n",
    "\n",
    "\n",
    "assignemnt - 3 - int , float , complex"
   ]
  },
  {
   "cell_type": "code",
   "execution_count": 51,
   "id": "16f888bf",
   "metadata": {},
   "outputs": [
    {
     "data": {
      "text/plain": [
       "12.778469875462395"
      ]
     },
     "execution_count": 51,
     "metadata": {},
     "output_type": "execute_result"
    }
   ],
   "source": [
    "12.778469875462394769836714239463749137462198426141742196782134"
   ]
  },
  {
   "cell_type": "code",
   "execution_count": null,
   "id": "8f2f5c09",
   "metadata": {},
   "outputs": [],
   "source": [
    "100 - 1 cases"
   ]
  }
 ],
 "metadata": {
  "kernelspec": {
   "display_name": "Python 3 (ipykernel)",
   "language": "python",
   "name": "python3"
  },
  "language_info": {
   "codemirror_mode": {
    "name": "ipython",
    "version": 3
   },
   "file_extension": ".py",
   "mimetype": "text/x-python",
   "name": "python",
   "nbconvert_exporter": "python",
   "pygments_lexer": "ipython3",
   "version": "3.9.7"
  }
 },
 "nbformat": 4,
 "nbformat_minor": 5
}
