{
 "cells": [
  {
   "cell_type": "code",
   "execution_count": null,
   "id": "1ac0a8c7",
   "metadata": {},
   "outputs": [],
   "source": [
    "int - -5 to 256\n",
    "float - not applicable\n",
    "string - a-z,A-Z,0-9,_\n",
    "bool - 0/1\n",
    "none - yes"
   ]
  },
  {
   "cell_type": "code",
   "execution_count": null,
   "id": "dc3d897b",
   "metadata": {},
   "outputs": [],
   "source": [
    "# Indentity op\n",
    "\n",
    "\"\"\"\n",
    "it will tell us if the memeory address of 2 varibale ar same or not\n",
    "return - True / False\n",
    "op - is / not is\n",
    "\n",
    "\"\"\""
   ]
  },
  {
   "cell_type": "code",
   "execution_count": 1,
   "id": "9265365e",
   "metadata": {},
   "outputs": [
    {
     "name": "stdout",
     "output_type": "stream",
     "text": [
      "False\n"
     ]
    }
   ],
   "source": [
    "a = 10\n",
    "b = 20\n",
    "\n",
    "print(a is b)"
   ]
  },
  {
   "cell_type": "code",
   "execution_count": 2,
   "id": "62cafc2e",
   "metadata": {},
   "outputs": [
    {
     "name": "stdout",
     "output_type": "stream",
     "text": [
      "False\n"
     ]
    }
   ],
   "source": [
    "a = 'afsan#'\n",
    "b = 'afsan#'\n",
    "\n",
    "print(a is b)"
   ]
  },
  {
   "cell_type": "code",
   "execution_count": 3,
   "id": "4ce3baab",
   "metadata": {},
   "outputs": [
    {
     "name": "stdout",
     "output_type": "stream",
     "text": [
      "False\n"
     ]
    }
   ],
   "source": [
    "a = 10\n",
    "b = 10\n",
    "\n",
    "print(a is not b)"
   ]
  },
  {
   "cell_type": "code",
   "execution_count": 4,
   "id": "581cfcc8",
   "metadata": {},
   "outputs": [
    {
     "name": "stdout",
     "output_type": "stream",
     "text": [
      "False\n"
     ]
    }
   ],
   "source": [
    "a = 1\n",
    "b = True\n",
    "\n",
    "print(a is b)"
   ]
  },
  {
   "cell_type": "code",
   "execution_count": 5,
   "id": "889a35ef",
   "metadata": {},
   "outputs": [
    {
     "name": "stdout",
     "output_type": "stream",
     "text": [
      "True\n"
     ]
    }
   ],
   "source": [
    "a = None\n",
    "b = None\n",
    "\n",
    "print(a is b)"
   ]
  },
  {
   "cell_type": "code",
   "execution_count": 6,
   "id": "2de578fa",
   "metadata": {},
   "outputs": [
    {
     "data": {
      "text/plain": [
       "3"
      ]
     },
     "execution_count": 6,
     "metadata": {},
     "output_type": "execute_result"
    }
   ],
   "source": [
    "True + True + True"
   ]
  },
  {
   "cell_type": "code",
   "execution_count": null,
   "id": "1ec03001",
   "metadata": {},
   "outputs": [],
   "source": [
    "# Ternary op\n",
    "\n",
    "\"\"\"\n",
    "expr1 if cond else exp2 - if cond is true then expr1 else expr2\n",
    "expr1 if cond1 else exp2 if cond2 else exp3 - if cond1 is True then exp1 , else cond2 is true then\n",
    "                                              exp2 else exp3\n",
    "\"\"\""
   ]
  },
  {
   "cell_type": "code",
   "execution_count": 7,
   "id": "af2316e1",
   "metadata": {},
   "outputs": [
    {
     "name": "stdout",
     "output_type": "stream",
     "text": [
      "10\n"
     ]
    }
   ],
   "source": [
    "print(10 if 10<20 else 20)"
   ]
  },
  {
   "cell_type": "code",
   "execution_count": 8,
   "id": "727d629a",
   "metadata": {},
   "outputs": [
    {
     "name": "stdout",
     "output_type": "stream",
     "text": [
      "20\n"
     ]
    }
   ],
   "source": [
    "print(10 if (True and False) else 20)"
   ]
  },
  {
   "cell_type": "code",
   "execution_count": 9,
   "id": "54d88e40",
   "metadata": {},
   "outputs": [
    {
     "name": "stdout",
     "output_type": "stream",
     "text": [
      "Benzema\n"
     ]
    }
   ],
   "source": [
    "print('Benzema' if 10<20 else 'messi' if ((10<20) and (20==20)) else 'ronaldo')"
   ]
  },
  {
   "cell_type": "code",
   "execution_count": 10,
   "id": "d432e195",
   "metadata": {},
   "outputs": [
    {
     "name": "stdout",
     "output_type": "stream",
     "text": [
      "messi\n"
     ]
    }
   ],
   "source": [
    "print('Benzema' if 100<20 else 'messi' if ((10<20) and (20==20)) else 'ronaldo' if True else 'mbappe')"
   ]
  },
  {
   "cell_type": "code",
   "execution_count": 11,
   "id": "0517b46d",
   "metadata": {},
   "outputs": [
    {
     "name": "stdout",
     "output_type": "stream",
     "text": [
      "messi\n"
     ]
    }
   ],
   "source": [
    "print('Benzema' if 100<20 else 'messi' if ((10<20) or (20==20)) else 'ronaldo')"
   ]
  },
  {
   "cell_type": "code",
   "execution_count": 12,
   "id": "6e00290e",
   "metadata": {},
   "outputs": [
    {
     "name": "stdout",
     "output_type": "stream",
     "text": [
      "ronaldo\n"
     ]
    }
   ],
   "source": [
    "print('Benzema' if 100<20 else 'messi' if 100==101 else 'ronaldo')"
   ]
  },
  {
   "cell_type": "code",
   "execution_count": 15,
   "id": "b465cb84",
   "metadata": {},
   "outputs": [
    {
     "name": "stdout",
     "output_type": "stream",
     "text": [
      "benzema\n"
     ]
    }
   ],
   "source": [
    "print('benzema' if 'krisnendu'='krisnendu' else 'messi' if 100==100 else 'ronaldo' if 40>5 else 'kohli')"
   ]
  },
  {
   "cell_type": "code",
   "execution_count": 17,
   "id": "6d923389",
   "metadata": {},
   "outputs": [
    {
     "name": "stdout",
     "output_type": "stream",
     "text": [
      "0b1100010101\n",
      "789\n"
     ]
    }
   ],
   "source": [
    "# binary , ocat , hexadimal\n",
    "\n",
    "# binary - 0-1 , bin() , 0b\n",
    "\n",
    "num = 789\n",
    "print(bin(789))\n",
    "print(0b1100010101)"
   ]
  },
  {
   "cell_type": "code",
   "execution_count": 19,
   "id": "755e8d1b",
   "metadata": {},
   "outputs": [
    {
     "name": "stdout",
     "output_type": "stream",
     "text": [
      "0o1425\n",
      "789\n"
     ]
    }
   ],
   "source": [
    "# oct - 0-7 , oct() , 0o\n",
    "num = 789\n",
    "print(oct(789))\n",
    "print(0o1425)"
   ]
  },
  {
   "cell_type": "code",
   "execution_count": 21,
   "id": "3dcefeae",
   "metadata": {},
   "outputs": [
    {
     "name": "stdout",
     "output_type": "stream",
     "text": [
      "0x315\n",
      "789\n"
     ]
    }
   ],
   "source": [
    "# hexa - 0-9 , a/A-f/F , hex() , 0x\n",
    "num = 789\n",
    "print(hex(789))\n",
    "print(0x315)"
   ]
  },
  {
   "cell_type": "code",
   "execution_count": null,
   "id": "64620ad3",
   "metadata": {},
   "outputs": [],
   "source": [
    "# operator precedence\n",
    "\n",
    "()\n",
    "**\n",
    "+x , -x , ~x\n",
    "*, / , // , %\n",
    "+ , -\n",
    "<< , >>\n",
    "&\n",
    "^\n",
    "|\n",
    "== , != , > , >= , < , <= , is , is not , in , not in\n",
    "not\n",
    "and\n",
    "or"
   ]
  },
  {
   "cell_type": "code",
   "execution_count": null,
   "id": "f5118b1f",
   "metadata": {},
   "outputs": [],
   "source": [
    "# Type casting - converting 1 data type to another\n",
    "\n",
    "int()\n",
    "float()\n",
    "bool()\n",
    "str()\n",
    "list()\n",
    "complex()\n",
    "tuple()"
   ]
  },
  {
   "cell_type": "code",
   "execution_count": 24,
   "id": "af993b52",
   "metadata": {},
   "outputs": [
    {
     "data": {
      "text/plain": [
       "int"
      ]
     },
     "execution_count": 24,
     "metadata": {},
     "output_type": "execute_result"
    }
   ],
   "source": [
    "a = 1\n",
    "type(a)"
   ]
  },
  {
   "cell_type": "code",
   "execution_count": 25,
   "id": "30b2e273",
   "metadata": {},
   "outputs": [
    {
     "data": {
      "text/plain": [
       "'1'"
      ]
     },
     "execution_count": 25,
     "metadata": {},
     "output_type": "execute_result"
    }
   ],
   "source": [
    "c = str(a)\n",
    "c"
   ]
  },
  {
   "cell_type": "code",
   "execution_count": 26,
   "id": "512a8c02",
   "metadata": {},
   "outputs": [
    {
     "data": {
      "text/plain": [
       "100.0"
      ]
     },
     "execution_count": 26,
     "metadata": {},
     "output_type": "execute_result"
    }
   ],
   "source": [
    "a = '100'\n",
    "float(a)"
   ]
  },
  {
   "cell_type": "code",
   "execution_count": 27,
   "id": "714764fb",
   "metadata": {},
   "outputs": [
    {
     "data": {
      "text/plain": [
       "100"
      ]
     },
     "execution_count": 27,
     "metadata": {},
     "output_type": "execute_result"
    }
   ],
   "source": [
    "a = 100.45\n",
    "int(a)"
   ]
  },
  {
   "cell_type": "code",
   "execution_count": 38,
   "id": "48df413b",
   "metadata": {},
   "outputs": [
    {
     "name": "stdout",
     "output_type": "stream",
     "text": [
      "<class 'str'>\n"
     ]
    },
    {
     "data": {
      "text/plain": [
       "int"
      ]
     },
     "execution_count": 38,
     "metadata": {},
     "output_type": "execute_result"
    }
   ],
   "source": [
    "a = 10\n",
    "print(type(str(a)))\n",
    "type(a)"
   ]
  },
  {
   "cell_type": "code",
   "execution_count": 31,
   "id": "7381d852",
   "metadata": {},
   "outputs": [
    {
     "name": "stdout",
     "output_type": "stream",
     "text": [
      "10\n"
     ]
    },
    {
     "data": {
      "text/plain": [
       "str"
      ]
     },
     "execution_count": 31,
     "metadata": {},
     "output_type": "execute_result"
    }
   ],
   "source": [
    "a = str(10)\n",
    "print(a)\n",
    "# type(a)"
   ]
  },
  {
   "cell_type": "code",
   "execution_count": 32,
   "id": "82c6ffb0",
   "metadata": {},
   "outputs": [
    {
     "data": {
      "text/plain": [
       "100"
      ]
     },
     "execution_count": 32,
     "metadata": {},
     "output_type": "execute_result"
    }
   ],
   "source": [
    "a = '100'\n",
    "int(a)"
   ]
  },
  {
   "cell_type": "code",
   "execution_count": 33,
   "id": "89178cc0",
   "metadata": {},
   "outputs": [
    {
     "ename": "ValueError",
     "evalue": "invalid literal for int() with base 10: 'hello'",
     "output_type": "error",
     "traceback": [
      "\u001b[1;31m---------------------------------------------------------------------------\u001b[0m",
      "\u001b[1;31mValueError\u001b[0m                                Traceback (most recent call last)",
      "\u001b[1;32m~\\AppData\\Local\\Temp/ipykernel_22520/3402315035.py\u001b[0m in \u001b[0;36m<module>\u001b[1;34m\u001b[0m\n\u001b[0;32m      1\u001b[0m \u001b[0ma\u001b[0m \u001b[1;33m=\u001b[0m \u001b[1;34m'hello'\u001b[0m\u001b[1;33m\u001b[0m\u001b[1;33m\u001b[0m\u001b[0m\n\u001b[1;32m----> 2\u001b[1;33m \u001b[0mint\u001b[0m\u001b[1;33m(\u001b[0m\u001b[0ma\u001b[0m\u001b[1;33m)\u001b[0m\u001b[1;33m\u001b[0m\u001b[1;33m\u001b[0m\u001b[0m\n\u001b[0m",
      "\u001b[1;31mValueError\u001b[0m: invalid literal for int() with base 10: 'hello'"
     ]
    }
   ],
   "source": [
    "a = 'hello'\n",
    "int(a)"
   ]
  },
  {
   "cell_type": "code",
   "execution_count": null,
   "id": "b90df7e0",
   "metadata": {},
   "outputs": [],
   "source": [
    "# input . ouput\n",
    "# string format\n",
    "# float data type\n"
   ]
  },
  {
   "cell_type": "code",
   "execution_count": 37,
   "id": "d143bfcb",
   "metadata": {},
   "outputs": [
    {
     "name": "stdout",
     "output_type": "stream",
     "text": [
      "<class 'int'>\n"
     ]
    }
   ],
   "source": [
    "a = 1\n",
    "print(type(a))"
   ]
  },
  {
   "cell_type": "code",
   "execution_count": 36,
   "id": "04a6f714",
   "metadata": {},
   "outputs": [
    {
     "name": "stdout",
     "output_type": "stream",
     "text": [
      "<class 'str'>\n"
     ]
    }
   ],
   "source": [
    "a = '1'\n",
    "print(type(a))"
   ]
  },
  {
   "cell_type": "code",
   "execution_count": null,
   "id": "595eaf36",
   "metadata": {},
   "outputs": [],
   "source": []
  }
 ],
 "metadata": {
  "kernelspec": {
   "display_name": "Python 3 (ipykernel)",
   "language": "python",
   "name": "python3"
  },
  "language_info": {
   "codemirror_mode": {
    "name": "ipython",
    "version": 3
   },
   "file_extension": ".py",
   "mimetype": "text/x-python",
   "name": "python",
   "nbconvert_exporter": "python",
   "pygments_lexer": "ipython3",
   "version": "3.9.7"
  }
 },
 "nbformat": 4,
 "nbformat_minor": 5
}
