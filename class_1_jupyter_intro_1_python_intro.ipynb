{
 "cells": [
  {
   "cell_type": "code",
   "execution_count": 7,
   "id": "15d7d924",
   "metadata": {},
   "outputs": [
    {
     "name": "stdout",
     "output_type": "stream",
     "text": [
      "abcd\n"
     ]
    }
   ],
   "source": [
    "print('abcd')"
   ]
  },
  {
   "cell_type": "markdown",
   "id": "c685a2ae",
   "metadata": {},
   "source": [
    "# Print Statment\n",
    "## print statement\n",
    "### print statment\n",
    "#### print statment\n",
    "##### print statement\n",
    "\n",
    "print Statment is used to print something on the screen\n",
    "\n",
    "synytax : print('afsan khan')\n",
    "\n",
    "numbered point\n",
    "1. point1\n",
    "2. point2\n",
    "3. point3\n",
    "\n",
    "bullet point\n",
    "* point1\n",
    "* point2\n",
    "* point3\n",
    "* point4"
   ]
  },
  {
   "cell_type": "markdown",
   "id": "5797afe3",
   "metadata": {},
   "source": [
    "# Extension file\n",
    "\n",
    "\n",
    "- universal extension for python file is .py (this can run anywhere)\n",
    "- jupyter notebook - ipynb - interactive python notebook (can only run on jupyter notebook)"
   ]
  },
  {
   "cell_type": "code",
   "execution_count": null,
   "id": "6d3268cb",
   "metadata": {},
   "outputs": [],
   "source": [
    "# Different Ways to execute python file\n",
    "\n",
    "1. jupyter notebook\n",
    "2. python interpretor\n",
    "3. running the .py file - 99%"
   ]
  },
  {
   "cell_type": "code",
   "execution_count": 2,
   "id": "14683cac",
   "metadata": {},
   "outputs": [
    {
     "data": {
      "text/plain": [
       "'D:\\\\learnbay\\\\courses\\\\ongoing_class\\\\april_batches\\\\24_march_weekday_python\\\\python_notes'"
      ]
     },
     "execution_count": 2,
     "metadata": {},
     "output_type": "execute_result"
    }
   ],
   "source": [
    "pwd"
   ]
  },
  {
   "cell_type": "code",
   "execution_count": null,
   "id": "ba66d6e0",
   "metadata": {},
   "outputs": [],
   "source": []
  }
 ],
 "metadata": {
  "kernelspec": {
   "display_name": "Python 3 (ipykernel)",
   "language": "python",
   "name": "python3"
  },
  "language_info": {
   "codemirror_mode": {
    "name": "ipython",
    "version": 3
   },
   "file_extension": ".py",
   "mimetype": "text/x-python",
   "name": "python",
   "nbconvert_exporter": "python",
   "pygments_lexer": "ipython3",
   "version": "3.9.7"
  }
 },
 "nbformat": 4,
 "nbformat_minor": 5
}
