{
 "cells": [
  {
   "cell_type": "code",
   "execution_count": null,
   "id": "319070be",
   "metadata": {},
   "outputs": [],
   "source": [
    "We have two types of data types\n",
    "\n",
    "1. fundamental data types - it is also called as primitive(basic) datatype\n",
    "- int\n",
    "- float\n",
    "- Complex\n",
    "- String\n",
    "- None \n",
    "- Boolean\n",
    "\n",
    "2. derived data types - it is derived from the fundamental data types\n",
    "- list\n",
    "- tuple\n",
    "- dict\n",
    "- set\n",
    "- range"
   ]
  },
  {
   "cell_type": "markdown",
   "id": "b21f12d0",
   "metadata": {},
   "source": [
    "# Integer data types"
   ]
  },
  {
   "cell_type": "code",
   "execution_count": null,
   "id": "daf0e6e8",
   "metadata": {},
   "outputs": [],
   "source": [
    "any value without a decimal point is called as int data types eg -99 , 100 , 200 , -9999"
   ]
  },
  {
   "cell_type": "code",
   "execution_count": 2,
   "id": "5408f817",
   "metadata": {},
   "outputs": [
    {
     "name": "stdout",
     "output_type": "stream",
     "text": [
      "10\n"
     ]
    }
   ],
   "source": [
    "a = 10\n",
    "print(a)"
   ]
  },
  {
   "cell_type": "code",
   "execution_count": 5,
   "id": "d0cc7a20",
   "metadata": {},
   "outputs": [
    {
     "name": "stdout",
     "output_type": "stream",
     "text": [
      "<class 'int'>\n",
      "<class 'int'>\n"
     ]
    }
   ],
   "source": [
    "# to check the datatype of the variable - type()\n",
    "\n",
    "a = 20\n",
    "print(type(20))\n",
    "print(type(a))"
   ]
  },
  {
   "cell_type": "code",
   "execution_count": null,
   "id": "a975add6",
   "metadata": {},
   "outputs": [],
   "source": [
    "# types of operations we can perform on integer"
   ]
  },
  {
   "cell_type": "code",
   "execution_count": null,
   "id": "f85438db",
   "metadata": {},
   "outputs": [],
   "source": [
    "1. Arithmatic op - + , - , /(float division) , * , //(floor division) , %(modulo) , **(exponenet)"
   ]
  },
  {
   "cell_type": "code",
   "execution_count": 6,
   "id": "3e9aa623",
   "metadata": {},
   "outputs": [
    {
     "name": "stdout",
     "output_type": "stream",
     "text": [
      "30\n"
     ]
    }
   ],
   "source": [
    "print(10+20)"
   ]
  },
  {
   "cell_type": "code",
   "execution_count": 7,
   "id": "12577ba9",
   "metadata": {},
   "outputs": [
    {
     "name": "stdout",
     "output_type": "stream",
     "text": [
      "-10\n"
     ]
    }
   ],
   "source": [
    "print(10-20)"
   ]
  },
  {
   "cell_type": "code",
   "execution_count": 8,
   "id": "085c7000",
   "metadata": {},
   "outputs": [
    {
     "name": "stdout",
     "output_type": "stream",
     "text": [
      "200\n"
     ]
    }
   ],
   "source": [
    "print(10*20)"
   ]
  },
  {
   "cell_type": "code",
   "execution_count": 9,
   "id": "7363e2d6",
   "metadata": {},
   "outputs": [
    {
     "name": "stdout",
     "output_type": "stream",
     "text": [
      "5.0\n"
     ]
    }
   ],
   "source": [
    "print(10/2) # the output will be always in float data types"
   ]
  },
  {
   "cell_type": "code",
   "execution_count": 10,
   "id": "0bac3590",
   "metadata": {},
   "outputs": [
    {
     "name": "stdout",
     "output_type": "stream",
     "text": [
      "5.5\n"
     ]
    }
   ],
   "source": [
    "print(11/2)"
   ]
  },
  {
   "cell_type": "code",
   "execution_count": 14,
   "id": "b0c7f281",
   "metadata": {},
   "outputs": [
    {
     "name": "stdout",
     "output_type": "stream",
     "text": [
      "-6\n"
     ]
    }
   ],
   "source": [
    "print(-11//2) # it will always gives the floor value"
   ]
  },
  {
   "cell_type": "code",
   "execution_count": 13,
   "id": "2eaed7ae",
   "metadata": {},
   "outputs": [
    {
     "name": "stdout",
     "output_type": "stream",
     "text": [
      "-5.5\n"
     ]
    }
   ],
   "source": [
    "print(-11/2)"
   ]
  },
  {
   "cell_type": "code",
   "execution_count": 15,
   "id": "a1b4d681",
   "metadata": {},
   "outputs": [
    {
     "name": "stdout",
     "output_type": "stream",
     "text": [
      "1\n"
     ]
    }
   ],
   "source": [
    "print(11%2) # remainder"
   ]
  },
  {
   "cell_type": "code",
   "execution_count": 16,
   "id": "2b423d1b",
   "metadata": {},
   "outputs": [
    {
     "name": "stdout",
     "output_type": "stream",
     "text": [
      "2\n"
     ]
    }
   ],
   "source": [
    "print(11%3)"
   ]
  },
  {
   "cell_type": "code",
   "execution_count": 17,
   "id": "29a80bdb",
   "metadata": {},
   "outputs": [
    {
     "name": "stdout",
     "output_type": "stream",
     "text": [
      "1024\n"
     ]
    }
   ],
   "source": [
    "print(2**10) # --> 2 raise 10"
   ]
  },
  {
   "cell_type": "code",
   "execution_count": 18,
   "id": "c3178e7c",
   "metadata": {},
   "outputs": [
    {
     "data": {
      "text/plain": [
       "5"
      ]
     },
     "execution_count": 18,
     "metadata": {},
     "output_type": "execute_result"
    }
   ],
   "source": [
    "11//2"
   ]
  },
  {
   "cell_type": "code",
   "execution_count": 25,
   "id": "a069917d",
   "metadata": {},
   "outputs": [
    {
     "name": "stdout",
     "output_type": "stream",
     "text": [
      "<class 'int'>\n"
     ]
    }
   ],
   "source": [
    "a = -11//2\n",
    "print(type(a))"
   ]
  },
  {
   "cell_type": "code",
   "execution_count": 21,
   "id": "45188552",
   "metadata": {},
   "outputs": [
    {
     "data": {
      "text/plain": [
       "-5"
      ]
     },
     "execution_count": 21,
     "metadata": {},
     "output_type": "execute_result"
    }
   ],
   "source": [
    "int(-5.5)"
   ]
  },
  {
   "cell_type": "code",
   "execution_count": 24,
   "id": "2acb508c",
   "metadata": {},
   "outputs": [
    {
     "data": {
      "text/plain": [
       "-6"
      ]
     },
     "execution_count": 24,
     "metadata": {},
     "output_type": "execute_result"
    }
   ],
   "source": [
    "-11//2"
   ]
  },
  {
   "cell_type": "code",
   "execution_count": null,
   "id": "787c1052",
   "metadata": {},
   "outputs": [],
   "source": [
    "-5"
   ]
  },
  {
   "cell_type": "code",
   "execution_count": null,
   "id": "386f1ea5",
   "metadata": {},
   "outputs": [],
   "source": [
    "11//2.0"
   ]
  },
  {
   "cell_type": "code",
   "execution_count": 31,
   "id": "b9013e49",
   "metadata": {},
   "outputs": [
    {
     "name": "stdout",
     "output_type": "stream",
     "text": [
      "2\n"
     ]
    }
   ],
   "source": [
    "print(17%3)"
   ]
  },
  {
   "cell_type": "code",
   "execution_count": 32,
   "id": "72756799",
   "metadata": {},
   "outputs": [
    {
     "name": "stdout",
     "output_type": "stream",
     "text": [
      "1\n"
     ]
    }
   ],
   "source": [
    "# task\n",
    "\n",
    "print(-17%3) # why ? ---> discuss "
   ]
  },
  {
   "cell_type": "code",
   "execution_count": null,
   "id": "f456ec73",
   "metadata": {},
   "outputs": [],
   "source": [
    "# python modulo op (%) always return a number having the same sign as the denominator"
   ]
  },
  {
   "cell_type": "code",
   "execution_count": 33,
   "id": "d4063690",
   "metadata": {},
   "outputs": [
    {
     "data": {
      "text/plain": [
       "2.0"
      ]
     },
     "execution_count": 33,
     "metadata": {},
     "output_type": "execute_result"
    }
   ],
   "source": [
    "10.5 // 4 # --> floor value"
   ]
  },
  {
   "cell_type": "code",
   "execution_count": null,
   "id": "6d15cff9",
   "metadata": {},
   "outputs": [],
   "source": [
    "2. Comparison operator , > , < , >= , <= \n",
    "\n",
    "- always return a bool value - True or False\n",
    "\n",
    "- int vs int\n",
    "- float vs float\n",
    "- str vs str\n",
    "- int vs float"
   ]
  },
  {
   "cell_type": "code",
   "execution_count": 34,
   "id": "abdfd720",
   "metadata": {},
   "outputs": [
    {
     "name": "stdout",
     "output_type": "stream",
     "text": [
      "False\n"
     ]
    }
   ],
   "source": [
    "a = 20\n",
    "b = 30\n",
    "\n",
    "print(a>b) # int vs int"
   ]
  },
  {
   "cell_type": "code",
   "execution_count": 35,
   "id": "f263bfa0",
   "metadata": {},
   "outputs": [
    {
     "name": "stdout",
     "output_type": "stream",
     "text": [
      "True\n"
     ]
    }
   ],
   "source": [
    "a = 20.0\n",
    "b = 44.6\n",
    "\n",
    "print(a<b) # float vs float"
   ]
  },
  {
   "cell_type": "code",
   "execution_count": 36,
   "id": "e4fdb380",
   "metadata": {},
   "outputs": [
    {
     "name": "stdout",
     "output_type": "stream",
     "text": [
      "True\n"
     ]
    }
   ],
   "source": [
    "a = 20\n",
    "b = 20.0\n",
    "\n",
    "print(a<=b) # int vs float"
   ]
  },
  {
   "cell_type": "code",
   "execution_count": 37,
   "id": "244174ea",
   "metadata": {},
   "outputs": [
    {
     "name": "stdout",
     "output_type": "stream",
     "text": [
      "False\n"
     ]
    }
   ],
   "source": [
    "a = 'afsan'\n",
    "b = 'khan'\n",
    "\n",
    "print(a>b)"
   ]
  },
  {
   "cell_type": "code",
   "execution_count": 38,
   "id": "eed7e07c",
   "metadata": {},
   "outputs": [
    {
     "name": "stdout",
     "output_type": "stream",
     "text": [
      "True\n"
     ]
    }
   ],
   "source": [
    "a = 'afsan'\n",
    "b = 'aFsan'\n",
    "\n",
    "print(a>b)"
   ]
  },
  {
   "cell_type": "code",
   "execution_count": null,
   "id": "18f0cf1f",
   "metadata": {},
   "outputs": [],
   "source": [
    "f -->  102\n",
    "F -->  70"
   ]
  },
  {
   "cell_type": "code",
   "execution_count": 39,
   "id": "d75f4ef4",
   "metadata": {},
   "outputs": [
    {
     "name": "stdout",
     "output_type": "stream",
     "text": [
      "False\n"
     ]
    }
   ],
   "source": [
    "a = 'learnbay'\n",
    "b = 'learnbaa'\n",
    "\n",
    "print(a<b)"
   ]
  },
  {
   "cell_type": "code",
   "execution_count": null,
   "id": "71010849",
   "metadata": {},
   "outputs": [],
   "source": [
    "high level - low level language - 0and 1"
   ]
  },
  {
   "cell_type": "code",
   "execution_count": 40,
   "id": "77a5cc72",
   "metadata": {},
   "outputs": [
    {
     "ename": "TypeError",
     "evalue": "'<' not supported between instances of 'str' and 'int'",
     "output_type": "error",
     "traceback": [
      "\u001b[1;31m---------------------------------------------------------------------------\u001b[0m",
      "\u001b[1;31mTypeError\u001b[0m                                 Traceback (most recent call last)",
      "\u001b[1;32m~\\AppData\\Local\\Temp/ipykernel_12936/3755546219.py\u001b[0m in \u001b[0;36m<module>\u001b[1;34m\u001b[0m\n\u001b[0;32m      2\u001b[0m \u001b[0mb\u001b[0m \u001b[1;33m=\u001b[0m \u001b[1;36m1\u001b[0m\u001b[1;33m\u001b[0m\u001b[1;33m\u001b[0m\u001b[0m\n\u001b[0;32m      3\u001b[0m \u001b[1;33m\u001b[0m\u001b[0m\n\u001b[1;32m----> 4\u001b[1;33m \u001b[0mprint\u001b[0m\u001b[1;33m(\u001b[0m\u001b[0ma\u001b[0m\u001b[1;33m<\u001b[0m\u001b[0mb\u001b[0m\u001b[1;33m)\u001b[0m\u001b[1;33m\u001b[0m\u001b[1;33m\u001b[0m\u001b[0m\n\u001b[0m",
      "\u001b[1;31mTypeError\u001b[0m: '<' not supported between instances of 'str' and 'int'"
     ]
    }
   ],
   "source": [
    "a = 'learnbay'\n",
    "b = 1\n",
    "\n",
    "print(a<b)"
   ]
  },
  {
   "cell_type": "code",
   "execution_count": null,
   "id": "df974638",
   "metadata": {},
   "outputs": [],
   "source": [
    "#3. Equality op == , !=\n",
    "\n",
    "- output will be always bool\n",
    "\n",
    "- works on all combinations"
   ]
  },
  {
   "cell_type": "code",
   "execution_count": 41,
   "id": "e5316da8",
   "metadata": {},
   "outputs": [
    {
     "name": "stdout",
     "output_type": "stream",
     "text": [
      "False\n"
     ]
    }
   ],
   "source": [
    "a = 'afsaan'\n",
    "b = 100\n",
    "\n",
    "print(a==b)"
   ]
  },
  {
   "cell_type": "code",
   "execution_count": 42,
   "id": "82e63e94",
   "metadata": {},
   "outputs": [
    {
     "name": "stdout",
     "output_type": "stream",
     "text": [
      "True\n"
     ]
    }
   ],
   "source": [
    "a = 7+6j\n",
    "b = 7+6j\n",
    "\n",
    "print(a==b)"
   ]
  },
  {
   "cell_type": "code",
   "execution_count": 43,
   "id": "a03437b1",
   "metadata": {},
   "outputs": [
    {
     "name": "stdout",
     "output_type": "stream",
     "text": [
      "True\n"
     ]
    }
   ],
   "source": [
    "a = 7+6j\n",
    "b = '7+6j'\n",
    "\n",
    "print(a!=b)"
   ]
  },
  {
   "cell_type": "code",
   "execution_count": 45,
   "id": "31b31908",
   "metadata": {},
   "outputs": [
    {
     "data": {
      "text/plain": [
       "45"
      ]
     },
     "execution_count": 45,
     "metadata": {},
     "output_type": "execute_result"
    }
   ],
   "source": [
    "# 4. ASCII\n",
    "\n",
    "# find out ascii value from a char - ord\n",
    "\n",
    "ord('-')"
   ]
  },
  {
   "cell_type": "code",
   "execution_count": 47,
   "id": "a7996a05",
   "metadata": {},
   "outputs": [
    {
     "data": {
      "text/plain": [
       "'b'"
      ]
     },
     "execution_count": 47,
     "metadata": {},
     "output_type": "execute_result"
    }
   ],
   "source": [
    "# to find out the char value associated wiht ascii value - chr()\n",
    "chr(98)"
   ]
  },
  {
   "cell_type": "code",
   "execution_count": 48,
   "id": "01707d08",
   "metadata": {},
   "outputs": [
    {
     "data": {
      "text/plain": [
       "False"
      ]
     },
     "execution_count": 48,
     "metadata": {},
     "output_type": "execute_result"
    }
   ],
   "source": [
    "ord('a') > 100"
   ]
  },
  {
   "cell_type": "code",
   "execution_count": 49,
   "id": "c3c66064",
   "metadata": {},
   "outputs": [
    {
     "data": {
      "text/plain": [
       "False"
      ]
     },
     "execution_count": 49,
     "metadata": {},
     "output_type": "execute_result"
    }
   ],
   "source": [
    "chr(98) == 'a'"
   ]
  },
  {
   "cell_type": "code",
   "execution_count": 53,
   "id": "fc8a206d",
   "metadata": {},
   "outputs": [
    {
     "name": "stdout",
     "output_type": "stream",
     "text": [
      "45\n",
      "b\n"
     ]
    }
   ],
   "source": [
    "print(ord('-'))\n",
    "print(chr(98))"
   ]
  },
  {
   "cell_type": "code",
   "execution_count": 52,
   "id": "688eb4e4",
   "metadata": {},
   "outputs": [
    {
     "data": {
      "text/plain": [
       "30"
      ]
     },
     "execution_count": 52,
     "metadata": {},
     "output_type": "execute_result"
    }
   ],
   "source": [
    "a = 10\n",
    "b = 20\n",
    "c = 30\n",
    "\n",
    "a\n",
    "b\n",
    "c"
   ]
  },
  {
   "cell_type": "code",
   "execution_count": 54,
   "id": "94122da4",
   "metadata": {},
   "outputs": [],
   "source": [
    "a = 10"
   ]
  },
  {
   "cell_type": "code",
   "execution_count": 55,
   "id": "369dc94d",
   "metadata": {},
   "outputs": [
    {
     "ename": "NameError",
     "evalue": "name 'z' is not defined",
     "output_type": "error",
     "traceback": [
      "\u001b[1;31m---------------------------------------------------------------------------\u001b[0m",
      "\u001b[1;31mNameError\u001b[0m                                 Traceback (most recent call last)",
      "\u001b[1;32m~\\AppData\\Local\\Temp/ipykernel_12936/1754966820.py\u001b[0m in \u001b[0;36m<module>\u001b[1;34m\u001b[0m\n\u001b[1;32m----> 1\u001b[1;33m \u001b[0mchr\u001b[0m\u001b[1;33m(\u001b[0m\u001b[1;36m97\u001b[0m\u001b[1;33m)\u001b[0m \u001b[1;33m==\u001b[0m \u001b[0mz\u001b[0m\u001b[1;33m\u001b[0m\u001b[1;33m\u001b[0m\u001b[0m\n\u001b[0m",
      "\u001b[1;31mNameError\u001b[0m: name 'z' is not defined"
     ]
    }
   ],
   "source": [
    "chr(97) == z"
   ]
  },
  {
   "cell_type": "code",
   "execution_count": null,
   "id": "0f4ec853",
   "metadata": {},
   "outputs": [],
   "source": [
    "# logical op - and , or , not\n",
    "\n",
    "\"\"\"\n",
    "false --> 0\n",
    "true --> 1\n",
    "\"\"\"\n",
    "\n",
    "and \n",
    "\n",
    "True and False --> false\n",
    "True and True --> True\n",
    "False and True --> false\n",
    "false and false --> false\n",
    "\n",
    "\n",
    "or\n",
    "\n",
    "True or False --> True\n",
    "True or True --> True\n",
    "False or True --> True\n",
    "false and false --> false\n",
    "\n",
    "not\n",
    "\n",
    "not True --> False\n",
    "not False --> True"
   ]
  },
  {
   "cell_type": "code",
   "execution_count": 57,
   "id": "257a7678",
   "metadata": {},
   "outputs": [
    {
     "name": "stdout",
     "output_type": "stream",
     "text": [
      "True\n"
     ]
    }
   ],
   "source": [
    "print(True or False)"
   ]
  },
  {
   "cell_type": "code",
   "execution_count": 58,
   "id": "922ca58d",
   "metadata": {},
   "outputs": [
    {
     "name": "stdout",
     "output_type": "stream",
     "text": [
      "True\n"
     ]
    }
   ],
   "source": [
    "print(not False)"
   ]
  },
  {
   "cell_type": "code",
   "execution_count": null,
   "id": "f27f085d",
   "metadata": {},
   "outputs": [],
   "source": []
  }
 ],
 "metadata": {
  "kernelspec": {
   "display_name": "Python 3 (ipykernel)",
   "language": "python",
   "name": "python3"
  },
  "language_info": {
   "codemirror_mode": {
    "name": "ipython",
    "version": 3
   },
   "file_extension": ".py",
   "mimetype": "text/x-python",
   "name": "python",
   "nbconvert_exporter": "python",
   "pygments_lexer": "ipython3",
   "version": "3.9.7"
  }
 },
 "nbformat": 4,
 "nbformat_minor": 5
}
