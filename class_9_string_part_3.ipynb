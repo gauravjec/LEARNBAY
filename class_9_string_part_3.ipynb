{
 "cells": [
  {
   "cell_type": "markdown",
   "id": "348a22ea",
   "metadata": {},
   "source": [
    "# String methods"
   ]
  },
  {
   "cell_type": "code",
   "execution_count": 1,
   "id": "253ca839",
   "metadata": {},
   "outputs": [
    {
     "name": "stdout",
     "output_type": "stream",
     "text": [
      "['__add__', '__class__', '__contains__', '__delattr__', '__dir__', '__doc__', '__eq__', '__format__', '__ge__', '__getattribute__', '__getitem__', '__getnewargs__', '__gt__', '__hash__', '__init__', '__init_subclass__', '__iter__', '__le__', '__len__', '__lt__', '__mod__', '__mul__', '__ne__', '__new__', '__reduce__', '__reduce_ex__', '__repr__', '__rmod__', '__rmul__', '__setattr__', '__sizeof__', '__str__', '__subclasshook__', 'capitalize', 'casefold', 'center', 'count', 'encode', 'endswith', 'expandtabs', 'find', 'format', 'format_map', 'index', 'isalnum', 'isalpha', 'isascii', 'isdecimal', 'isdigit', 'isidentifier', 'islower', 'isnumeric', 'isprintable', 'isspace', 'istitle', 'isupper', 'join', 'ljust', 'lower', 'lstrip', 'maketrans', 'partition', 'removeprefix', 'removesuffix', 'replace', 'rfind', 'rindex', 'rjust', 'rpartition', 'rsplit', 'rstrip', 'split', 'splitlines', 'startswith', 'strip', 'swapcase', 'title', 'translate', 'upper', 'zfill']\n"
     ]
    }
   ],
   "source": [
    "print(dir(str))"
   ]
  },
  {
   "cell_type": "code",
   "execution_count": 9,
   "id": "27ac0999",
   "metadata": {},
   "outputs": [
    {
     "name": "stdout",
     "output_type": "stream",
     "text": [
      "This is a python class\n",
      "This is a python class\n",
      "---------------------------------------------------------------------------\n",
      "THIS IS A PYTHON CLASS\n",
      "THIS IS A PYTHON CLASS\n",
      "---------------------------------------------------------------------------\n",
      "this is a python class\n",
      "this is a python class\n",
      "---------------------------------------------------------------------------\n",
      "THIS IS A PYTHON CLASS\n",
      "this is A pYTHON cLASS\n",
      "---------------------------------------------------------------------------\n",
      "This Is A Python Class\n",
      "This Is A Python Class\n"
     ]
    }
   ],
   "source": [
    "s = 'this is a python class'\n",
    "s1 = 'THIS IS a Python Class'\n",
    "\n",
    "#capitalize - it capitalises the first letter of the sentence and all other are lowercases\n",
    "print(s.capitalize())\n",
    "print(s1.capitalize())\n",
    "\n",
    "print('---'*25)\n",
    "#upper - it coverts all the char to upper case\n",
    "print(s.upper())\n",
    "print(s1.upper())\n",
    "\n",
    "print('---'*25)\n",
    "#lower - it coverts all the char to lower case\n",
    "print(s.lower())\n",
    "print(s1.lower())\n",
    "\n",
    "\n",
    "print('---'*25)\n",
    "#swapcase - it coverts upper to lower and lower to upper\n",
    "print(s.swapcase())\n",
    "print(s1.swapcase())\n",
    "\n",
    "print('---'*25)\n",
    "#title - it converts each words first char to upper case\n",
    "print(s.title())\n",
    "print(s1.title())"
   ]
  },
  {
   "cell_type": "code",
   "execution_count": 15,
   "id": "4f305625",
   "metadata": {},
   "outputs": [
    {
     "name": "stdout",
     "output_type": "stream",
     "text": [
      "False\n",
      "True\n",
      "---------------------------------------------------------------------------\n",
      "True\n",
      "False\n",
      "True\n"
     ]
    }
   ],
   "source": [
    "# startswith - Return True if string starts with the specified prefix, False otherwise\n",
    "s = 'hello world'\n",
    "print(s.startswith('Hell'))\n",
    "\n",
    "s = 'hello world'\n",
    "print(s.startswith('wo' , 6,11))\n",
    "\n",
    "print('---'*25)\n",
    "#ends with - Return True if the string ends with the specified suffix, Flase otherwise\n",
    "s = 'hello world'\n",
    "print(s.endswith('rld'))\n",
    "\n",
    "s = 'hello world'\n",
    "print(s.endswith('ll' , 0,5))\n",
    "\n",
    "s = 'hello world'\n",
    "print(s.endswith('o ' , 0,6))"
   ]
  },
  {
   "cell_type": "code",
   "execution_count": 23,
   "id": "3d2d0fb5",
   "metadata": {},
   "outputs": [
    {
     "name": "stdout",
     "output_type": "stream",
     "text": [
      "True\n",
      "True\n",
      "False\n",
      "True\n",
      "--------------------------------------------------\n",
      "True\n",
      "False\n",
      "False\n",
      "False\n",
      "--------------------------------------------------\n",
      "False\n",
      "False\n",
      "False\n",
      "True\n",
      "--------------------------------------------------\n",
      "True\n",
      "False\n",
      "False\n",
      "False\n",
      "--------------------------------------------------\n",
      "True\n",
      "True\n",
      "True\n",
      "True\n",
      "False\n"
     ]
    }
   ],
   "source": [
    "s1 = 'abc'\n",
    "s2 = '123abc'\n",
    "s3 = '*'\n",
    "s4 = '112'\n",
    "\n",
    "#isalnum - return True if the string has either alphabet , numbers , alphanumeric\n",
    "print(s1.isalnum()) # True\n",
    "print(s2.isalnum()) # True\n",
    "print(s3.isalnum()) # False\n",
    "print(s4.isalnum()) # True\n",
    "\n",
    "print('--'*25)\n",
    "#isalpha - return True if all the char in the string is alphabet\n",
    "print(s1.isalpha()) # True\n",
    "print(s2.isalpha()) # False\n",
    "print(s3.isalpha()) # False\n",
    "print(s4.isalpha()) # False\n",
    "\n",
    "print('--'*25)\n",
    "#isnumric - return True if all the char in the string is numric\n",
    "print(s1.isnumeric()) # False\n",
    "print(s2.isnumeric()) # False\n",
    "print(s3.isnumeric()) # False\n",
    "print(s4.isnumeric()) # True\n",
    "\n",
    "print('--'*25)\n",
    "s1 = 'abc'\n",
    "s2 = '123abc'\n",
    "s3 = '*'\n",
    "s4 = '112'\n",
    "#isidentifier - return True if a string is a valid identifer\n",
    "print(s1.isidentifier()) # True\n",
    "print(s2.isidentifier()) # False\n",
    "print(s3.isidentifier()) # False\n",
    "print(s4.isidentifier()) # False\n",
    "\n",
    "print('--'*25)\n",
    "#isascii - return True if all the char belongs to ascii table\n",
    "print(s1.isascii()) # True\n",
    "print(s2.isascii()) # True\n",
    "print(s3.isascii()) # True\n",
    "print(s4.isascii()) # True\n",
    "print('flō'.isascii())"
   ]
  },
  {
   "cell_type": "markdown",
   "id": "428697a1",
   "metadata": {},
   "source": [
    "# special char / Escape chars"
   ]
  },
  {
   "cell_type": "code",
   "execution_count": 24,
   "id": "1a31ae6a",
   "metadata": {},
   "outputs": [
    {
     "name": "stdout",
     "output_type": "stream",
     "text": [
      "hello\n",
      "world\n"
     ]
    }
   ],
   "source": [
    "# \\n - new line\n",
    "\n",
    "print('hello\\nworld')"
   ]
  },
  {
   "cell_type": "code",
   "execution_count": 26,
   "id": "c8fb5f45",
   "metadata": {},
   "outputs": [
    {
     "name": "stdout",
     "output_type": "stream",
     "text": [
      "this is python's class\n",
      "hello\\nworld\n"
     ]
    }
   ],
   "source": [
    "# \\ back slash\n",
    "\n",
    "print('this is python\\'s class')\n",
    "print('hello\\\\nworld')"
   ]
  },
  {
   "cell_type": "code",
   "execution_count": 28,
   "id": "cb30f7a8",
   "metadata": {},
   "outputs": [
    {
     "name": "stdout",
     "output_type": "stream",
     "text": [
      "hello\tworld\n",
      "hello\\tworld\n"
     ]
    }
   ],
   "source": [
    "# \\t - tab\n",
    "\n",
    "print('hello\\tworld')\n",
    "print('hello\\\\tworld')"
   ]
  },
  {
   "cell_type": "code",
   "execution_count": 29,
   "id": "f411d52b",
   "metadata": {},
   "outputs": [
    {
     "name": "stdout",
     "output_type": "stream",
     "text": [
      "hello\\tworld\n"
     ]
    }
   ],
   "source": [
    "# raw string\n",
    "print(r'hello\\tworld')"
   ]
  },
  {
   "cell_type": "code",
   "execution_count": 31,
   "id": "9109265f",
   "metadata": {},
   "outputs": [
    {
     "name": "stdout",
     "output_type": "stream",
     "text": [
      "afsan\bkhan\n",
      "ab\bc\n"
     ]
    }
   ],
   "source": [
    "# \\b - backspace\n",
    "\n",
    "print('afsan\\bkhan')\n",
    "print('ab' + '\\b' + 'c')"
   ]
  },
  {
   "cell_type": "code",
   "execution_count": 35,
   "id": "a1cf96a2",
   "metadata": {},
   "outputs": [
    {
     "name": "stdout",
     "output_type": "stream",
     "text": [
      "False\n",
      "True\n",
      "False\n",
      "False\n",
      "-------------------------\n",
      "True\n",
      "False\n",
      "False\n",
      "False\n",
      "-------------------------\n",
      "False\n",
      "False\n",
      "False\n",
      "False\n"
     ]
    }
   ],
   "source": [
    "s1 = 'abc'\n",
    "s2 = 'ABC'\n",
    "s3 = '*' \n",
    "s4 = '112'\n",
    "\n",
    "#isupper\n",
    "print(s1.isupper())# false\n",
    "print(s2.isupper())# True\n",
    "print(s3.isupper())#false\n",
    "print(s4.isupper())# false\n",
    "\n",
    "print('-'*25)\n",
    "#islower\n",
    "print(s1.islower())# True\n",
    "print(s2.islower())# False\n",
    "print(s3.islower())# False\n",
    "print(s4.islower())# False\n",
    "\n",
    "print('-'*25)\n",
    "#istitle\n",
    "print(s1.istitle())# True\n",
    "print(s2.istitle())# False\n",
    "print(s3.istitle())# False\n",
    "print(s4.istitle())# False"
   ]
  },
  {
   "cell_type": "code",
   "execution_count": 38,
   "id": "23268ec0",
   "metadata": {},
   "outputs": [
    {
     "name": "stdout",
     "output_type": "stream",
     "text": [
      " python \n",
      "python\n",
      "**python++\n",
      "python++\n"
     ]
    }
   ],
   "source": [
    "# Strip , rstrip , lstrip\n",
    "\n",
    "#removes the specified char from the end\n",
    "\n",
    "# Strip - remove specified char from both the ends\n",
    "a = ' python '\n",
    "print(a)\n",
    "print(a.strip()) # default is space\n",
    "\n",
    "a = '**python++'\n",
    "print(a)\n",
    "print(a.strip('*')) # default is space"
   ]
  },
  {
   "cell_type": "code",
   "execution_count": 41,
   "id": "31768ff6",
   "metadata": {},
   "outputs": [
    {
     "name": "stdout",
     "output_type": "stream",
     "text": [
      " python \n",
      "python \n",
      "**python**\n",
      "python**\n"
     ]
    }
   ],
   "source": [
    "# lstrip - remove specified char from left end\n",
    "a = ' python '\n",
    "print(a)\n",
    "print(a.lstrip()) # default is space\n",
    "\n",
    "a = '**python**'\n",
    "print(a)\n",
    "print(a.lstrip('*')) # default is space"
   ]
  },
  {
   "cell_type": "code",
   "execution_count": 42,
   "id": "dc06f67d",
   "metadata": {},
   "outputs": [
    {
     "name": "stdout",
     "output_type": "stream",
     "text": [
      " python \n",
      " python\n",
      "**python**\n",
      "**python\n"
     ]
    }
   ],
   "source": [
    "# rstrip - remove specified char from left end\n",
    "a = ' python '\n",
    "print(a)\n",
    "print(a.rstrip()) # default is space\n",
    "\n",
    "a = '**python**'\n",
    "print(a)\n",
    "print(a.rstrip('*')) # default is space"
   ]
  },
  {
   "cell_type": "code",
   "execution_count": 47,
   "id": "bd648039",
   "metadata": {},
   "outputs": [
    {
     "name": "stdout",
     "output_type": "stream",
     "text": [
      "please enter the usernameafsan \n",
      "please enter the passworddevil\n",
      "logged in\n"
     ]
    }
   ],
   "source": [
    "username = input('please enter the username')\n",
    "password = input('please enter the password')\n",
    "\n",
    "if username.strip()=='afsan' and password.strip() == 'devil':\n",
    "    print('logged in')\n",
    "else:\n",
    "    print('incorrect credentials')"
   ]
  },
  {
   "cell_type": "code",
   "execution_count": 52,
   "id": "b741a96e",
   "metadata": {},
   "outputs": [
    {
     "name": "stdout",
     "output_type": "stream",
     "text": [
      "hi learnbay classes\n",
      "hi learnbay             classes\n"
     ]
    }
   ],
   "source": [
    "# ljust(left adjustment) , rjust(right adjustment)\n",
    "\n",
    "text = 'learnbay'\n",
    "print('hi', text , 'classes')\n",
    "print('hi', text.ljust(20) , 'classes')"
   ]
  },
  {
   "cell_type": "code",
   "execution_count": 51,
   "id": "aaf30156",
   "metadata": {},
   "outputs": [
    {
     "name": "stdout",
     "output_type": "stream",
     "text": [
      "hi learnbay classes\n",
      "hi             learnbay classes\n"
     ]
    }
   ],
   "source": [
    "text = 'learnbay'\n",
    "print('hi', text , 'classes')\n",
    "print('hi', text.rjust(20) , 'classes')"
   ]
  },
  {
   "cell_type": "code",
   "execution_count": null,
   "id": "49225013",
   "metadata": {},
   "outputs": [],
   "source": [
    "hi             learnbay classes"
   ]
  },
  {
   "cell_type": "code",
   "execution_count": 53,
   "id": "9c59169a",
   "metadata": {},
   "outputs": [
    {
     "name": "stdout",
     "output_type": "stream",
     "text": [
      "Barcelona won the game by 5-4 agg from chelsea\n"
     ]
    }
   ],
   "source": [
    "# replace\n",
    "\n",
    "text = 'madrid won the game by 5-4 agg from chelsea'\n",
    "print(text.replace('madrid' , 'Barcelona'))"
   ]
  },
  {
   "cell_type": "code",
   "execution_count": 54,
   "id": "cd585200",
   "metadata": {},
   "outputs": [
    {
     "name": "stdout",
     "output_type": "stream",
     "text": [
      "msdrid won the gsme by 5-4 sgg from chelses\n"
     ]
    }
   ],
   "source": [
    "text = 'madrid won the game by 5-4 agg from chelsea'\n",
    "print(text.replace('a' , 's'))"
   ]
  },
  {
   "cell_type": "code",
   "execution_count": 64,
   "id": "20e9bcad",
   "metadata": {},
   "outputs": [
    {
     "name": "stdout",
     "output_type": "stream",
     "text": [
      "msdrid won the gsme by 5-4 agg from chelsea\n"
     ]
    }
   ],
   "source": [
    "text = 'madrid won the game by 5-4 agg from chelsea'\n",
    "print(text.replace('a' , 's' , 2))"
   ]
  },
  {
   "cell_type": "code",
   "execution_count": 55,
   "id": "968116a0",
   "metadata": {},
   "outputs": [
    {
     "data": {
      "text/plain": [
       "'madrid won the game by 5-4 agg from chelsea'"
      ]
     },
     "execution_count": 55,
     "metadata": {},
     "output_type": "execute_result"
    }
   ],
   "source": [
    "text"
   ]
  },
  {
   "cell_type": "code",
   "execution_count": 58,
   "id": "c0a4513c",
   "metadata": {
    "scrolled": true
   },
   "outputs": [
    {
     "name": "stdout",
     "output_type": "stream",
     "text": [
      "['madrid', 'won', 'the', 'game', 'by', '5-4', 'agg', 'from', 'chelsea']\n"
     ]
    }
   ],
   "source": [
    "#split - string data type into list datatype\n",
    "\n",
    "a = 'madrid won the game by 5-4 agg from chelsea'\n",
    "print(a.split())# defeault is space"
   ]
  },
  {
   "cell_type": "code",
   "execution_count": 59,
   "id": "db5c5385",
   "metadata": {},
   "outputs": [
    {
     "name": "stdout",
     "output_type": "stream",
     "text": [
      "['m', 'drid won the g', 'me by 5-4 ', 'gg from chelse', '']\n"
     ]
    }
   ],
   "source": [
    "a = 'madrid won the game by 5-4 agg from chelsea'\n",
    "print(a.split('a'))# defeault is space"
   ]
  },
  {
   "cell_type": "code",
   "execution_count": 63,
   "id": "fb90fd4d",
   "metadata": {},
   "outputs": [
    {
     "data": {
      "text/plain": [
       "'madrid-->won-->the-->game-->by-->5-4-->agg-->from-->chelsea'"
      ]
     },
     "execution_count": 63,
     "metadata": {},
     "output_type": "execute_result"
    }
   ],
   "source": [
    "# join - list into str\n",
    "\n",
    "data = ['madrid', 'won', 'the', 'game', 'by', '5-4', 'agg', 'from', 'chelsea']\n",
    "'-->'.join(data)"
   ]
  },
  {
   "cell_type": "code",
   "execution_count": null,
   "id": "e08120f1",
   "metadata": {},
   "outputs": [],
   "source": [
    "# list data type"
   ]
  }
 ],
 "metadata": {
  "kernelspec": {
   "display_name": "Python 3 (ipykernel)",
   "language": "python",
   "name": "python3"
  },
  "language_info": {
   "codemirror_mode": {
    "name": "ipython",
    "version": 3
   },
   "file_extension": ".py",
   "mimetype": "text/x-python",
   "name": "python",
   "nbconvert_exporter": "python",
   "pygments_lexer": "ipython3",
   "version": "3.9.7"
  }
 },
 "nbformat": 4,
 "nbformat_minor": 5
}
