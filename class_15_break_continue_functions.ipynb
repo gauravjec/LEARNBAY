{
 "cells": [
  {
   "cell_type": "code",
   "execution_count": 2,
   "id": "5e7cedd8",
   "metadata": {},
   "outputs": [
    {
     "name": "stdout",
     "output_type": "stream",
     "text": [
      "hi\n",
      "hi\n",
      "hi\n",
      "afsan\n"
     ]
    }
   ],
   "source": [
    "# break:\n",
    "\n",
    "# it will terminate the loop if break is exec\n",
    "\n",
    "for i in range(0,8):\n",
    "    if i == 3:\n",
    "        break\n",
    "    print('hi')\n",
    "print('afsan')"
   ]
  },
  {
   "cell_type": "code",
   "execution_count": 3,
   "id": "6cd0dee9",
   "metadata": {},
   "outputs": [
    {
     "name": "stdout",
     "output_type": "stream",
     "text": [
      "0\n",
      "3\n"
     ]
    }
   ],
   "source": [
    "i = 0\n",
    "while i < 8:\n",
    "    print(i)\n",
    "    if i == 3:\n",
    "        break\n",
    "    i +=3"
   ]
  },
  {
   "cell_type": "code",
   "execution_count": 4,
   "id": "be12384a",
   "metadata": {},
   "outputs": [
    {
     "name": "stdout",
     "output_type": "stream",
     "text": [
      "hi\n",
      "hi\n",
      "hi\n",
      "hi\n",
      "hi\n",
      "hi\n",
      "hi\n",
      "afsan\n"
     ]
    }
   ],
   "source": [
    "# continue\n",
    "\n",
    "# it will terminate from the current exec and goes to the next exec of the loop\n",
    "\n",
    "for i in range(0,8):\n",
    "    if i == 3:\n",
    "        continue\n",
    "    print('hi')\n",
    "print('afsan')"
   ]
  },
  {
   "cell_type": "code",
   "execution_count": 6,
   "id": "1407192d",
   "metadata": {},
   "outputs": [
    {
     "name": "stdout",
     "output_type": "stream",
     "text": [
      "1\n",
      "2\n"
     ]
    }
   ],
   "source": [
    "i = 0\n",
    "while i < 8:\n",
    "    i +=1\n",
    "    if i >= 3:\n",
    "        continue\n",
    "    print(i)\n",
    "    "
   ]
  },
  {
   "cell_type": "code",
   "execution_count": 7,
   "id": "370d67f6",
   "metadata": {},
   "outputs": [
    {
     "name": "stdout",
     "output_type": "stream",
     "text": [
      "0 0\n",
      "1 0\n",
      "2 0\n",
      "3 0\n"
     ]
    }
   ],
   "source": [
    "for i in range(0,4):\n",
    "    for j in range(0,2):\n",
    "        if j == 1:\n",
    "            break\n",
    "        print(i,j)"
   ]
  },
  {
   "cell_type": "code",
   "execution_count": null,
   "id": "9ec296f5",
   "metadata": {},
   "outputs": [],
   "source": [
    "for iter 1 : i = 0\n",
    "    for iter 1 j = 0\n",
    "        false\n",
    "        0,0\n",
    "    for iter 2 j = 1\n",
    "        True\n",
    "        break\n",
    "        \n",
    "for iter 2 : i =1\n",
    "    for iter 1 j = 0\n",
    "        false\n",
    "        1 0\n",
    "        \n",
    "    for iter 2 j =1\n",
    "        true\n",
    "        break"
   ]
  },
  {
   "cell_type": "code",
   "execution_count": 9,
   "id": "1798b32b",
   "metadata": {},
   "outputs": [
    {
     "name": "stdout",
     "output_type": "stream",
     "text": [
      "loop\n",
      "loop\n",
      "loop\n",
      "loop exaushted\n"
     ]
    }
   ],
   "source": [
    "for i in range(0,4):\n",
    "    if i == 2:\n",
    "        continue\n",
    "    print('loop')\n",
    "else:\n",
    "    print('loop exhausted')"
   ]
  },
  {
   "cell_type": "code",
   "execution_count": null,
   "id": "cac92613",
   "metadata": {},
   "outputs": [],
   "source": [
    "for var in iterable:\n",
    "    if cond:\n",
    "        continue\n",
    "statment"
   ]
  },
  {
   "cell_type": "code",
   "execution_count": null,
   "id": "2ce46d65",
   "metadata": {},
   "outputs": [],
   "source": [
    "for var in iterable:\n",
    "    if cond:\n",
    "        break\n",
    "statment"
   ]
  },
  {
   "cell_type": "code",
   "execution_count": 11,
   "id": "52f04aab",
   "metadata": {},
   "outputs": [
    {
     "name": "stdout",
     "output_type": "stream",
     "text": [
      "afsan\n",
      "khan\n",
      "end of loop\n"
     ]
    }
   ],
   "source": [
    "for i in ['afsan' , 'khan' , 'messi' , 'kholi' , 'dhoni' , 'kgf' , 'RRR']:\n",
    "    if i == 'messi':\n",
    "        break\n",
    "    print(i)\n",
    "print('end of loop')"
   ]
  },
  {
   "cell_type": "code",
   "execution_count": 12,
   "id": "54ecb870",
   "metadata": {},
   "outputs": [
    {
     "name": "stdout",
     "output_type": "stream",
     "text": [
      "afsan\n",
      "khan\n",
      "messi\n",
      "kholi\n",
      "kgf\n",
      "RRR\n",
      "end of loop\n"
     ]
    }
   ],
   "source": [
    "for i in ['afsan' , 'khan' , 'messi' , 'kholi' , 'dhoni' , 'kgf' , 'RRR']:\n",
    "    if i == 'dhoni':\n",
    "        continue\n",
    "    print(i)\n",
    "print('end of loop')"
   ]
  },
  {
   "cell_type": "code",
   "execution_count": 16,
   "id": "a3589b69",
   "metadata": {},
   "outputs": [
    {
     "name": "stdout",
     "output_type": "stream",
     "text": [
      "prime\n"
     ]
    }
   ],
   "source": [
    "# check if the given number by user is prime or not\n",
    " # 10 mins\n",
    "num = 11\n",
    "for i in range(2,num):\n",
    "    if num%i == 0:\n",
    "        print('not prime')\n",
    "        break\n",
    "else:\n",
    "    print('prime')"
   ]
  },
  {
   "cell_type": "markdown",
   "id": "cd009035",
   "metadata": {},
   "source": [
    "# functions"
   ]
  },
  {
   "cell_type": "code",
   "execution_count": null,
   "id": "191652cc",
   "metadata": {},
   "outputs": [],
   "source": [
    "a = 'abc'\n",
    "\n",
    "if a = a[::-1]:\n",
    "    print('palindrome')\n",
    "else:\n",
    "    print('not a palindrome')\n",
    "    \n",
    "a = 10\n",
    "b = 20\n",
    "print(a+b)\n",
    "\n",
    "a = 'xyz'\n",
    "\n",
    "if a = a[::-1]:\n",
    "    print('palindrome')\n",
    "else:\n",
    "    print('not a palindrome')"
   ]
  },
  {
   "cell_type": "code",
   "execution_count": null,
   "id": "af0a8e70",
   "metadata": {},
   "outputs": [],
   "source": [
    "# writes in min line possible\n",
    "\n",
    "# Functions DRY\n",
    "\n",
    "write once and use multiple times"
   ]
  },
  {
   "cell_type": "code",
   "execution_count": null,
   "id": "9887317c",
   "metadata": {},
   "outputs": [],
   "source": [
    "# in function we have 2 things\n",
    "\n",
    "1 . function def - define the logic that need to be exec\n",
    "2. function call - call the function def\n",
    "\n",
    "syntax\n",
    "    function def\n",
    "            \n",
    "        def function_name(parameter):\n",
    "            \n",
    "            statments\n",
    "            \n",
    "            return statment\n",
    "        \n",
    "        #  return and paramter is optional\n",
    "    \n",
    "    \n",
    "    function cal\n",
    "    \n",
    "        function_name(args)\n",
    "        \n",
    "        ## if the paramters are not included then args is also not request\n",
    "    \n",
    "        \n",
    "        \n",
    "    "
   ]
  },
  {
   "cell_type": "code",
   "execution_count": 17,
   "id": "83919f9c",
   "metadata": {},
   "outputs": [],
   "source": [
    "# function to add 2 numbers\n",
    "\n",
    "def add_num():\n",
    "    print(10+20)"
   ]
  },
  {
   "cell_type": "code",
   "execution_count": 20,
   "id": "ac61aa79",
   "metadata": {},
   "outputs": [
    {
     "name": "stdout",
     "output_type": "stream",
     "text": [
      "30\n",
      "30\n"
     ]
    }
   ],
   "source": [
    "add_num()\n",
    "add_num()"
   ]
  },
  {
   "cell_type": "code",
   "execution_count": 21,
   "id": "a67cea65",
   "metadata": {},
   "outputs": [
    {
     "name": "stdout",
     "output_type": "stream",
     "text": [
      "30\n"
     ]
    }
   ],
   "source": [
    "add_num()"
   ]
  },
  {
   "cell_type": "code",
   "execution_count": 22,
   "id": "092b05ac",
   "metadata": {},
   "outputs": [],
   "source": [
    "def add_num():\n",
    "    a = input()\n",
    "    b = input()\n",
    "    print(int(a) + int(b))"
   ]
  },
  {
   "cell_type": "code",
   "execution_count": 23,
   "id": "ca44a9cf",
   "metadata": {},
   "outputs": [
    {
     "name": "stdout",
     "output_type": "stream",
     "text": [
      "10\n",
      "20\n",
      "30\n"
     ]
    }
   ],
   "source": [
    "add_num()"
   ]
  },
  {
   "cell_type": "code",
   "execution_count": 24,
   "id": "6322c34f",
   "metadata": {},
   "outputs": [
    {
     "name": "stdout",
     "output_type": "stream",
     "text": [
      "40\n",
      "50\n",
      "90\n"
     ]
    }
   ],
   "source": [
    "add_num()"
   ]
  },
  {
   "cell_type": "code",
   "execution_count": 25,
   "id": "e5629137",
   "metadata": {},
   "outputs": [],
   "source": [
    "# 1. 2\n",
    "\n",
    "def add_num(num_1 , num_2):\n",
    "    print(num_1 + num_2)"
   ]
  },
  {
   "cell_type": "code",
   "execution_count": 26,
   "id": "943fb8b1",
   "metadata": {},
   "outputs": [
    {
     "name": "stdout",
     "output_type": "stream",
     "text": [
      "14\n"
     ]
    }
   ],
   "source": [
    "add_num(10,4)"
   ]
  },
  {
   "cell_type": "code",
   "execution_count": 28,
   "id": "c7077e3f",
   "metadata": {},
   "outputs": [
    {
     "name": "stdout",
     "output_type": "stream",
     "text": [
      "23\n"
     ]
    }
   ],
   "source": [
    "(add_num(14,9))"
   ]
  },
  {
   "cell_type": "code",
   "execution_count": null,
   "id": "eee277cd",
   "metadata": {},
   "outputs": [],
   "source": [
    "# write a function for a palindrme\n",
    "\n",
    "# add_num"
   ]
  },
  {
   "cell_type": "code",
   "execution_count": 3,
   "id": "904e3366",
   "metadata": {},
   "outputs": [
    {
     "name": "stdout",
     "output_type": "stream",
     "text": [
      "None\n"
     ]
    }
   ],
   "source": [
    "a = None\n",
    "print(a)"
   ]
  },
  {
   "cell_type": "code",
   "execution_count": 2,
   "id": "9d910e75",
   "metadata": {},
   "outputs": [
    {
     "data": {
      "text/plain": [
       "10"
      ]
     },
     "execution_count": 2,
     "metadata": {},
     "output_type": "execute_result"
    }
   ],
   "source": [
    "a = 10\n",
    "a"
   ]
  },
  {
   "cell_type": "code",
   "execution_count": 4,
   "id": "834d9a34",
   "metadata": {},
   "outputs": [],
   "source": [
    "a = 10"
   ]
  },
  {
   "cell_type": "code",
   "execution_count": 5,
   "id": "3ec35efc",
   "metadata": {},
   "outputs": [
    {
     "data": {
      "text/plain": [
       "10"
      ]
     },
     "execution_count": 5,
     "metadata": {},
     "output_type": "execute_result"
    }
   ],
   "source": [
    "a"
   ]
  },
  {
   "cell_type": "code",
   "execution_count": null,
   "id": "6f19507a",
   "metadata": {},
   "outputs": [],
   "source": [
    "pri"
   ]
  }
 ],
 "metadata": {
  "kernelspec": {
   "display_name": "Python 3 (ipykernel)",
   "language": "python",
   "name": "python3"
  },
  "language_info": {
   "codemirror_mode": {
    "name": "ipython",
    "version": 3
   },
   "file_extension": ".py",
   "mimetype": "text/x-python",
   "name": "python",
   "nbconvert_exporter": "python",
   "pygments_lexer": "ipython3",
   "version": "3.9.7"
  }
 },
 "nbformat": 4,
 "nbformat_minor": 5
}
