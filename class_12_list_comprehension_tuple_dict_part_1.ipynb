{
 "cells": [
  {
   "cell_type": "code",
   "execution_count": 1,
   "id": "71bf4d1d",
   "metadata": {},
   "outputs": [],
   "source": [
    "a = ['afsan@gmail.com' , 'rahul@gmail.com' , 'harish@hotmail.com' , 'shubham@yaho.com']\n",
    "\n",
    "# extract the username in the new list\n",
    "\n",
    "b = []\n",
    "\n",
    "for i in a:\n",
    "    b.append(i.split('@')[0])"
   ]
  },
  {
   "cell_type": "code",
   "execution_count": 2,
   "id": "752b0f8c",
   "metadata": {},
   "outputs": [
    {
     "data": {
      "text/plain": [
       "['afsan', 'rahul', 'harish', 'shubham']"
      ]
     },
     "execution_count": 2,
     "metadata": {},
     "output_type": "execute_result"
    }
   ],
   "source": [
    "b"
   ]
  },
  {
   "cell_type": "code",
   "execution_count": null,
   "id": "9b2a5695",
   "metadata": {},
   "outputs": [],
   "source": [
    "# list comphrension\n",
    "\n",
    "\"\"\"- \n",
    "when we have to create a new list from the old list\n",
    "you can use list comprehension if you have only one expression to execute\n",
    "\"\"\"\n",
    "\n",
    "syntax - [expression for var in iterables if condition]"
   ]
  },
  {
   "cell_type": "code",
   "execution_count": 3,
   "id": "2c84e74c",
   "metadata": {},
   "outputs": [
    {
     "data": {
      "text/plain": [
       "['afsan', 'rahul', 'harish', 'shubham']"
      ]
     },
     "execution_count": 3,
     "metadata": {},
     "output_type": "execute_result"
    }
   ],
   "source": [
    "a = ['afsan@gmail.com' , 'rahul@gmail.com' , 'harish@hotmail.com' , 'shubham@yaho.com']\n",
    "b = [i.split('@')[0] for i in a]\n",
    "b"
   ]
  },
  {
   "cell_type": "code",
   "execution_count": 5,
   "id": "14c1e179",
   "metadata": {},
   "outputs": [
    {
     "data": {
      "text/plain": [
       "'afsan'"
      ]
     },
     "execution_count": 5,
     "metadata": {},
     "output_type": "execute_result"
    }
   ],
   "source": [
    "'afsan@gmail.com'.split('@')[0]"
   ]
  },
  {
   "cell_type": "code",
   "execution_count": 6,
   "id": "938c1422",
   "metadata": {},
   "outputs": [],
   "source": [
    "a = [1,2,3,4,5,6,7,8,9,10]\n",
    "b = [i*i for i in a]"
   ]
  },
  {
   "cell_type": "code",
   "execution_count": 7,
   "id": "1002e1d6",
   "metadata": {},
   "outputs": [
    {
     "data": {
      "text/plain": [
       "[1, 4, 9, 16, 25, 36, 49, 64, 81, 100]"
      ]
     },
     "execution_count": 7,
     "metadata": {},
     "output_type": "execute_result"
    }
   ],
   "source": [
    "b"
   ]
  },
  {
   "cell_type": "code",
   "execution_count": 8,
   "id": "680bc67a",
   "metadata": {},
   "outputs": [],
   "source": [
    "a = [10,21,102,141,32,78,101,749]\n",
    "b = [] # even number\n",
    "\n",
    "for i in a:\n",
    "    if i%2==0:\n",
    "        b.append(i)"
   ]
  },
  {
   "cell_type": "code",
   "execution_count": 10,
   "id": "317e7c84",
   "metadata": {},
   "outputs": [],
   "source": [
    "a = [10,21,102,141,32,78,101,749]\n",
    "b = [i for i in a if i%2==0] # even number"
   ]
  },
  {
   "cell_type": "code",
   "execution_count": 11,
   "id": "ad17d24a",
   "metadata": {},
   "outputs": [
    {
     "data": {
      "text/plain": [
       "[10, 102, 32, 78]"
      ]
     },
     "execution_count": 11,
     "metadata": {},
     "output_type": "execute_result"
    }
   ],
   "source": [
    "b"
   ]
  },
  {
   "cell_type": "markdown",
   "id": "56f70aaf",
   "metadata": {},
   "source": [
    "# Tuple\n",
    "- all elements are seperated by commnas and wriiten inside a round(optional) bracket"
   ]
  },
  {
   "cell_type": "code",
   "execution_count": 12,
   "id": "90a339af",
   "metadata": {},
   "outputs": [
    {
     "name": "stdout",
     "output_type": "stream",
     "text": [
      "(1, 2, 3, 4, 5, 6, 7) <class 'tuple'>\n"
     ]
    }
   ],
   "source": [
    "a = (1,2,3,4,5,6,7)\n",
    "print(a , type(a))"
   ]
  },
  {
   "cell_type": "code",
   "execution_count": 13,
   "id": "a9520f28",
   "metadata": {},
   "outputs": [
    {
     "name": "stdout",
     "output_type": "stream",
     "text": [
      "(1, 2, 3, 4, 5, 6, 7) <class 'tuple'>\n"
     ]
    }
   ],
   "source": [
    "a = 1,2,3,4,5,6,7\n",
    "print(a , type(a))"
   ]
  },
  {
   "cell_type": "code",
   "execution_count": null,
   "id": "79827dc2",
   "metadata": {},
   "outputs": [],
   "source": [
    "# Create a Tuple"
   ]
  },
  {
   "cell_type": "code",
   "execution_count": 14,
   "id": "399f65d2",
   "metadata": {},
   "outputs": [
    {
     "name": "stdout",
     "output_type": "stream",
     "text": [
      "('audi', 'mercedes', 'tata')\n"
     ]
    }
   ],
   "source": [
    "# 1. you already know the ele\n",
    "a = ('audi' , 'mercedes' , 'tata')\n",
    "print(a)"
   ]
  },
  {
   "cell_type": "code",
   "execution_count": 15,
   "id": "fcab8248",
   "metadata": {},
   "outputs": [
    {
     "name": "stdout",
     "output_type": "stream",
     "text": [
      "('a', 'b', 'c')\n",
      "(1, 2, 3)\n"
     ]
    },
    {
     "ename": "TypeError",
     "evalue": "'int' object is not iterable",
     "output_type": "error",
     "traceback": [
      "\u001b[1;31m---------------------------------------------------------------------------\u001b[0m",
      "\u001b[1;31mTypeError\u001b[0m                                 Traceback (most recent call last)",
      "\u001b[1;32m~\\AppData\\Local\\Temp/ipykernel_17896/1978419037.py\u001b[0m in \u001b[0;36m<module>\u001b[1;34m\u001b[0m\n\u001b[0;32m      7\u001b[0m \u001b[1;33m\u001b[0m\u001b[0m\n\u001b[0;32m      8\u001b[0m \u001b[0ma\u001b[0m \u001b[1;33m=\u001b[0m \u001b[1;36m1\u001b[0m\u001b[1;33m\u001b[0m\u001b[1;33m\u001b[0m\u001b[0m\n\u001b[1;32m----> 9\u001b[1;33m \u001b[0mprint\u001b[0m\u001b[1;33m(\u001b[0m\u001b[0mtuple\u001b[0m\u001b[1;33m(\u001b[0m\u001b[0ma\u001b[0m\u001b[1;33m)\u001b[0m\u001b[1;33m)\u001b[0m\u001b[1;33m\u001b[0m\u001b[1;33m\u001b[0m\u001b[0m\n\u001b[0m",
      "\u001b[1;31mTypeError\u001b[0m: 'int' object is not iterable"
     ]
    }
   ],
   "source": [
    "#2. typecasting\n",
    "a = 'abc'\n",
    "print(tuple(a))\n",
    "\n",
    "a = [1,2,3]\n",
    "print(tuple(a))\n",
    "\n",
    "a = 1\n",
    "print(tuple(a))\n"
   ]
  },
  {
   "cell_type": "code",
   "execution_count": 16,
   "id": "ce1a3727",
   "metadata": {},
   "outputs": [
    {
     "name": "stdout",
     "output_type": "stream",
     "text": [
      "please enter the tuple here1,2,3,4,5\n",
      "(1, 2, 3, 4, 5) <class 'tuple'>\n"
     ]
    }
   ],
   "source": [
    "#3. eval\n",
    "\n",
    "a = eval(input('please enter the tuple here'))\n",
    "print(a , type(a))"
   ]
  },
  {
   "cell_type": "code",
   "execution_count": null,
   "id": "8a067099",
   "metadata": {},
   "outputs": [],
   "source": [
    "# Properties of Tuple\n",
    "1. Seq data type\n",
    "2. +ve and -ve indexing is allowed\n",
    "3. allows duplicate element\n",
    "4. can store hetrogeneous data\n",
    "5. basic op - indexing , slicing , concatination , repetition , indentity , membership\n",
    "6. immutable"
   ]
  },
  {
   "cell_type": "code",
   "execution_count": 18,
   "id": "2ec3f99f",
   "metadata": {},
   "outputs": [],
   "source": [
    "a = (1,2,3,4,5)"
   ]
  },
  {
   "cell_type": "code",
   "execution_count": 19,
   "id": "9d973320",
   "metadata": {},
   "outputs": [
    {
     "data": {
      "text/plain": [
       "5"
      ]
     },
     "execution_count": 19,
     "metadata": {},
     "output_type": "execute_result"
    }
   ],
   "source": [
    "# indexing\n",
    "\n",
    "a[-1]"
   ]
  },
  {
   "cell_type": "code",
   "execution_count": 20,
   "id": "eabddcd9",
   "metadata": {},
   "outputs": [
    {
     "data": {
      "text/plain": [
       "()"
      ]
     },
     "execution_count": 20,
     "metadata": {},
     "output_type": "execute_result"
    }
   ],
   "source": [
    "# slicing\n",
    "a[1:4:-2]"
   ]
  },
  {
   "cell_type": "code",
   "execution_count": 21,
   "id": "f494a593",
   "metadata": {},
   "outputs": [
    {
     "data": {
      "text/plain": [
       "(1, 2, 3, 4, 5, 6, 7, 8)"
      ]
     },
     "execution_count": 21,
     "metadata": {},
     "output_type": "execute_result"
    }
   ],
   "source": [
    "# concatination\n",
    "\"\"\"\n",
    "op - +\n",
    "operand - both will be tuple\n",
    "\n",
    "\"\"\"\n",
    "a = (1,2,3,4)\n",
    "b = (5,6,7,8)\n",
    "\n",
    "a+b"
   ]
  },
  {
   "cell_type": "code",
   "execution_count": 22,
   "id": "5dca6fea",
   "metadata": {},
   "outputs": [
    {
     "data": {
      "text/plain": [
       "(1, 2, 3, 4, 1, 2, 3, 4, 1, 2, 3, 4)"
      ]
     },
     "execution_count": 22,
     "metadata": {},
     "output_type": "execute_result"
    }
   ],
   "source": [
    "# repetition\n",
    "\"\"\"\n",
    "op - *\n",
    "operand - tuple and int\n",
    "\n",
    "\"\"\"\n",
    "a = (1,2,3,4)\n",
    "b = 3\n",
    "\n",
    "a*b"
   ]
  },
  {
   "cell_type": "code",
   "execution_count": 23,
   "id": "07844e9f",
   "metadata": {},
   "outputs": [
    {
     "name": "stdout",
     "output_type": "stream",
     "text": [
      "True\n"
     ]
    }
   ],
   "source": [
    "# indentity\n",
    "\n",
    "a = (1,2,3,4,5)\n",
    "b = (1,2,3,4,5)\n",
    "\n",
    "print( a is not b)"
   ]
  },
  {
   "cell_type": "code",
   "execution_count": 24,
   "id": "737133e9",
   "metadata": {},
   "outputs": [
    {
     "name": "stdout",
     "output_type": "stream",
     "text": [
      "True\n"
     ]
    }
   ],
   "source": [
    "# membership\n",
    "\n",
    "a = ('abc' , 1 , 1.2)\n",
    "\n",
    "print('abc' in a)"
   ]
  },
  {
   "cell_type": "code",
   "execution_count": 25,
   "id": "71b92f52",
   "metadata": {},
   "outputs": [
    {
     "name": "stdout",
     "output_type": "stream",
     "text": [
      "(1, 1, 1, 1, 1, 1, 1)\n"
     ]
    }
   ],
   "source": [
    "# 3. allows duplicate element\n",
    "\n",
    "a = (1,1,1,1,1,1,1)\n",
    "print(a)"
   ]
  },
  {
   "cell_type": "code",
   "execution_count": 26,
   "id": "4a3aff33",
   "metadata": {},
   "outputs": [
    {
     "name": "stdout",
     "output_type": "stream",
     "text": [
      "('abc', 1, 1.2, [1, 2, 3], True)\n"
     ]
    }
   ],
   "source": [
    "# 3. hetro data\n",
    "\n",
    "a = ('abc' , 1 , 1.2 , [1,2,3] , True)\n",
    "print(a)"
   ]
  },
  {
   "cell_type": "code",
   "execution_count": 27,
   "id": "e015cead",
   "metadata": {},
   "outputs": [
    {
     "ename": "TypeError",
     "evalue": "'tuple' object does not support item assignment",
     "output_type": "error",
     "traceback": [
      "\u001b[1;31m---------------------------------------------------------------------------\u001b[0m",
      "\u001b[1;31mTypeError\u001b[0m                                 Traceback (most recent call last)",
      "\u001b[1;32m~\\AppData\\Local\\Temp/ipykernel_17896/3214750776.py\u001b[0m in \u001b[0;36m<module>\u001b[1;34m\u001b[0m\n\u001b[0;32m      3\u001b[0m \u001b[0ma\u001b[0m \u001b[1;33m=\u001b[0m \u001b[1;33m(\u001b[0m\u001b[1;34m'abc'\u001b[0m \u001b[1;33m,\u001b[0m \u001b[1;36m1\u001b[0m \u001b[1;33m,\u001b[0m \u001b[1;36m1.2\u001b[0m \u001b[1;33m,\u001b[0m \u001b[1;33m[\u001b[0m\u001b[1;36m1\u001b[0m\u001b[1;33m,\u001b[0m\u001b[1;36m2\u001b[0m\u001b[1;33m,\u001b[0m\u001b[1;36m3\u001b[0m\u001b[1;33m]\u001b[0m \u001b[1;33m,\u001b[0m \u001b[1;32mTrue\u001b[0m\u001b[1;33m)\u001b[0m\u001b[1;33m\u001b[0m\u001b[1;33m\u001b[0m\u001b[0m\n\u001b[0;32m      4\u001b[0m \u001b[1;33m\u001b[0m\u001b[0m\n\u001b[1;32m----> 5\u001b[1;33m \u001b[0ma\u001b[0m\u001b[1;33m[\u001b[0m\u001b[1;36m0\u001b[0m\u001b[1;33m]\u001b[0m \u001b[1;33m=\u001b[0m \u001b[1;34m'xyz'\u001b[0m\u001b[1;33m\u001b[0m\u001b[1;33m\u001b[0m\u001b[0m\n\u001b[0m",
      "\u001b[1;31mTypeError\u001b[0m: 'tuple' object does not support item assignment"
     ]
    }
   ],
   "source": [
    "# 6. immutable\n",
    "\n",
    "a = ('abc' , 1 , 1.2 , [1,2,3] , True)\n",
    "\n",
    "a[0] = 'xyz'"
   ]
  },
  {
   "cell_type": "code",
   "execution_count": 28,
   "id": "5c696ce0",
   "metadata": {},
   "outputs": [
    {
     "data": {
      "text/plain": [
       "['__add__',\n",
       " '__class__',\n",
       " '__class_getitem__',\n",
       " '__contains__',\n",
       " '__delattr__',\n",
       " '__dir__',\n",
       " '__doc__',\n",
       " '__eq__',\n",
       " '__format__',\n",
       " '__ge__',\n",
       " '__getattribute__',\n",
       " '__getitem__',\n",
       " '__getnewargs__',\n",
       " '__gt__',\n",
       " '__hash__',\n",
       " '__init__',\n",
       " '__init_subclass__',\n",
       " '__iter__',\n",
       " '__le__',\n",
       " '__len__',\n",
       " '__lt__',\n",
       " '__mul__',\n",
       " '__ne__',\n",
       " '__new__',\n",
       " '__reduce__',\n",
       " '__reduce_ex__',\n",
       " '__repr__',\n",
       " '__rmul__',\n",
       " '__setattr__',\n",
       " '__sizeof__',\n",
       " '__str__',\n",
       " '__subclasshook__',\n",
       " 'count',\n",
       " 'index']"
      ]
     },
     "execution_count": 28,
     "metadata": {},
     "output_type": "execute_result"
    }
   ],
   "source": [
    "# Methods on tuple\n",
    "\n",
    "dir(tuple)"
   ]
  },
  {
   "cell_type": "code",
   "execution_count": 29,
   "id": "f3aac687",
   "metadata": {},
   "outputs": [
    {
     "data": {
      "text/plain": [
       "1"
      ]
     },
     "execution_count": 29,
     "metadata": {},
     "output_type": "execute_result"
    }
   ],
   "source": [
    "a = ('abc' , 1 , 1.2 , [1,2,3] , True)\n",
    "\n",
    "a.count('abc')"
   ]
  },
  {
   "cell_type": "code",
   "execution_count": 30,
   "id": "e413f0f2",
   "metadata": {},
   "outputs": [
    {
     "data": {
      "text/plain": [
       "1"
      ]
     },
     "execution_count": 30,
     "metadata": {},
     "output_type": "execute_result"
    }
   ],
   "source": [
    "# index\n",
    "\n",
    "a = ('abc' , 1 , 1.2 , [1,2,3] , True)\n",
    "a.index(True)"
   ]
  },
  {
   "cell_type": "code",
   "execution_count": 31,
   "id": "15d4fed6",
   "metadata": {},
   "outputs": [
    {
     "name": "stdout",
     "output_type": "stream",
     "text": [
      "(1, 2, 3, True, (1+7j), 'abc')\n"
     ]
    }
   ],
   "source": [
    "# tuple packing\n",
    "\n",
    "# assigning a multiple values to a single var\n",
    "\n",
    "a = 1,2,3,True , 1+7j , 'abc'\n",
    "print(a)"
   ]
  },
  {
   "cell_type": "code",
   "execution_count": 34,
   "id": "957877dc",
   "metadata": {},
   "outputs": [
    {
     "name": "stdout",
     "output_type": "stream",
     "text": [
      "4\n"
     ]
    }
   ],
   "source": [
    "# tuple unpacking\n",
    "\n",
    "# assigning multiple varibales to a multiple values\n",
    "\n",
    "a,b,c,d = (1,2,3,4)\n",
    "\n",
    "print(d)"
   ]
  },
  {
   "cell_type": "code",
   "execution_count": null,
   "id": "6412c01b",
   "metadata": {},
   "outputs": [],
   "source": [
    "# note = number of var on lhs == number of ele on rhs"
   ]
  },
  {
   "cell_type": "code",
   "execution_count": 35,
   "id": "83c08310",
   "metadata": {},
   "outputs": [
    {
     "name": "stdout",
     "output_type": "stream",
     "text": [
      "4\n"
     ]
    }
   ],
   "source": [
    "# list unpacking\n",
    "\n",
    "# assigning multiple varibales to a multiple values\n",
    "\n",
    "a,b,c,d = [1,2,3,4]\n",
    "\n",
    "print(d)"
   ]
  },
  {
   "cell_type": "code",
   "execution_count": null,
   "id": "cb3a7ac1",
   "metadata": {},
   "outputs": [],
   "source": [
    "a = ('abc' , True , 1.2 , [1,2,3] , True)\n",
    "b = a"
   ]
  },
  {
   "cell_type": "code",
   "execution_count": 36,
   "id": "abee072f",
   "metadata": {},
   "outputs": [
    {
     "name": "stdout",
     "output_type": "stream",
     "text": [
      "('abc', True, 1.2, [1, 2, 3], True) 2489277377648\n",
      "('abc', True, 1.2, [1, 2, 3], True) 2489276512992\n"
     ]
    }
   ],
   "source": [
    "a = ('abc' , True , 1.100 , [1,2,3] , True)\n",
    "print(a , id(a))\n",
    "b = ('abc' , True , 1.2 , [1,2,3] , True)\n",
    "print(a, id(b))"
   ]
  },
  {
   "cell_type": "code",
   "execution_count": 37,
   "id": "3dc8d4ab",
   "metadata": {},
   "outputs": [
    {
     "name": "stdout",
     "output_type": "stream",
     "text": [
      "True\n"
     ]
    }
   ],
   "source": [
    "a = 10\n",
    "b = 10\n",
    "\n",
    "print(a is b)"
   ]
  },
  {
   "cell_type": "code",
   "execution_count": 41,
   "id": "5099bfc8",
   "metadata": {},
   "outputs": [
    {
     "name": "stdout",
     "output_type": "stream",
     "text": [
      "3\n"
     ]
    }
   ],
   "source": [
    "a = ('abc',1.2,[1,2,3] , True)\n",
    "print(a.index(True))"
   ]
  },
  {
   "cell_type": "code",
   "execution_count": 42,
   "id": "967d41a0",
   "metadata": {},
   "outputs": [
    {
     "data": {
      "text/plain": [
       "0"
      ]
     },
     "execution_count": 42,
     "metadata": {},
     "output_type": "execute_result"
    }
   ],
   "source": [
    "a = (True,2,True,2,4,5,True)\n",
    "a.index(True)\n"
   ]
  },
  {
   "cell_type": "code",
   "execution_count": null,
   "id": "78f3dd35",
   "metadata": {},
   "outputs": [],
   "source": [
    "# dictinory"
   ]
  },
  {
   "cell_type": "code",
   "execution_count": 43,
   "id": "3beaf187",
   "metadata": {},
   "outputs": [],
   "source": [
    "a = ['afsan' , 25 , 750000]"
   ]
  },
  {
   "cell_type": "code",
   "execution_count": 44,
   "id": "0dff0034",
   "metadata": {},
   "outputs": [
    {
     "name": "stdout",
     "output_type": "stream",
     "text": [
      "afsan\n",
      "25\n",
      "750000\n"
     ]
    }
   ],
   "source": [
    "print(a[0])\n",
    "print(a[1])\n",
    "print(a[2])"
   ]
  },
  {
   "cell_type": "code",
   "execution_count": null,
   "id": "abbcb820",
   "metadata": {},
   "outputs": [],
   "source": [
    "# 1. what if the eloements interchange\n",
    "\n",
    "a = ['afsan' , 750000 , 25]\n",
    "\n",
    "print(a[0])\n",
    "print(a[1])\n",
    "print(a[2])"
   ]
  },
  {
   "cell_type": "code",
   "execution_count": null,
   "id": "50fe583a",
   "metadata": {},
   "outputs": [],
   "source": [
    "a = ['afsan' , 25 , 25]\n",
    "\n",
    "print(a[0])\n",
    "print(a[1])\n",
    "print(a[2])"
   ]
  },
  {
   "cell_type": "code",
   "execution_count": null,
   "id": "b9a30135",
   "metadata": {},
   "outputs": [],
   "source": [
    "# dict\n",
    "- it is used to represent structured data\n",
    "- anything tha can be written inside a {} and elements are sep by commas and each ele is key value pair"
   ]
  },
  {
   "cell_type": "code",
   "execution_count": null,
   "id": "86ddf0ac",
   "metadata": {},
   "outputs": [],
   "source": [
    "a = ['afsan' , 25 , 25]"
   ]
  },
  {
   "cell_type": "code",
   "execution_count": 45,
   "id": "4a372fd5",
   "metadata": {},
   "outputs": [
    {
     "name": "stdout",
     "output_type": "stream",
     "text": [
      "afsaan\n",
      "25\n",
      "25\n"
     ]
    }
   ],
   "source": [
    "a = {'name':'afsaan' , 'age':25 , 'salary':25}\n",
    "\n",
    "print(a['name'])\n",
    "print(a['age'])\n",
    "print(a['salary'])"
   ]
  },
  {
   "cell_type": "code",
   "execution_count": 46,
   "id": "a27bf35b",
   "metadata": {},
   "outputs": [
    {
     "name": "stdout",
     "output_type": "stream",
     "text": [
      "afsaan\n",
      "25\n",
      "25\n"
     ]
    }
   ],
   "source": [
    "a = { 'age':25 , 'salary':25, 'name':'afsaan'}\n",
    "\n",
    "print(a['name'])\n",
    "print(a['age'])\n",
    "print(a['salary'])"
   ]
  },
  {
   "cell_type": "code",
   "execution_count": null,
   "id": "e039245a",
   "metadata": {},
   "outputs": [],
   "source": [
    "a = {'name':'afsaan' , 'age':25 , 'salary':25}\n",
    "\n",
    "print(a['name'])\n",
    "print(a['age'])\n",
    "print(a['salary'])"
   ]
  },
  {
   "cell_type": "code",
   "execution_count": null,
   "id": "b1ca3384",
   "metadata": {},
   "outputs": [],
   "source": [
    "# Properties of dict\n",
    "\n",
    "1. it is not a seq data type\n",
    "2. it a collection of key value pair\n",
    "3. items are sep by ,\n",
    "4. key value pair are sep by :\n",
    "5. key cannot be dupicated whereas value can be duplicated\n",
    "6. key should be always immutable data type\n",
    "7. value can be anything of our choice\n",
    "8. all the items are wrtiiten in curly brackets\n",
    "9. index ,  slicing , concatination , repetiton is not allowed\n",
    "10. membership is applicable but only on keys\n",
    "11. idenitity\n",
    "12. dic is mutable"
   ]
  },
  {
   "cell_type": "markdown",
   "id": "f49d1014",
   "metadata": {},
   "source": [
    "# Create a dict"
   ]
  },
  {
   "cell_type": "code",
   "execution_count": 47,
   "id": "6ad9bdbd",
   "metadata": {},
   "outputs": [
    {
     "name": "stdout",
     "output_type": "stream",
     "text": [
      "{'name': 'afsaan', 'age': 25, 'salary': 25} <class 'dict'>\n"
     ]
    }
   ],
   "source": [
    "# 1 . user defined\n",
    "\n",
    "a = {'name':'afsaan' , 'age':25 , 'salary':25}\n",
    "\n",
    "print(a , type(a))"
   ]
  },
  {
   "cell_type": "code",
   "execution_count": 48,
   "id": "efe1f91c",
   "metadata": {},
   "outputs": [
    {
     "name": "stdout",
     "output_type": "stream",
     "text": [
      "data{'name':'afsaan' , 'age':25 , 'salary':25}\n",
      "{'name': 'afsaan', 'age': 25, 'salary': 25} <class 'dict'>\n"
     ]
    }
   ],
   "source": [
    "#2 . user input\n",
    "\n",
    "a = eval(input('data'))\n",
    "\n",
    "print(a , type(a))"
   ]
  },
  {
   "cell_type": "code",
   "execution_count": null,
   "id": "76a5780b",
   "metadata": {},
   "outputs": [],
   "source": [
    "#3. dict function\n",
    "- it takes a seq of inner seq where inner seq will have a pair of values out of which the first value will be key\n",
    "and second value will be the value itself"
   ]
  },
  {
   "cell_type": "code",
   "execution_count": 49,
   "id": "cfafd3a5",
   "metadata": {},
   "outputs": [
    {
     "name": "stdout",
     "output_type": "stream",
     "text": [
      "{1: 2, 'name': 'afsan', 10: 'messi'}\n"
     ]
    }
   ],
   "source": [
    "a = [[1,2] , ['name', 'afsan'] , [10, 'messi']]\n",
    "print(dict(a))"
   ]
  },
  {
   "cell_type": "code",
   "execution_count": 52,
   "id": "85e6d381",
   "metadata": {},
   "outputs": [
    {
     "data": {
      "text/plain": [
       "{1: 100, 2: 200, 3: 300, 4: 400, 5: 500}"
      ]
     },
     "execution_count": 52,
     "metadata": {},
     "output_type": "execute_result"
    }
   ],
   "source": [
    "#4. zip\n",
    "# zip(iterable , iterbale)\n",
    "\n",
    "a = [1,2,3,4,5]\n",
    "b = [100,200,300,400,500]\n",
    "\n",
    "dict(zip(a,b))"
   ]
  },
  {
   "cell_type": "code",
   "execution_count": 53,
   "id": "37317356",
   "metadata": {},
   "outputs": [
    {
     "data": {
      "text/plain": [
       "{1: 100, 2: 200, 3: 300, 4: 400, 5: 500}"
      ]
     },
     "execution_count": 53,
     "metadata": {},
     "output_type": "execute_result"
    }
   ],
   "source": [
    "a = [1,2,3,4,5]\n",
    "b = [100,200,300,400,500,600]\n",
    "\n",
    "dict(zip(a,b))"
   ]
  },
  {
   "cell_type": "code",
   "execution_count": null,
   "id": "0166a761",
   "metadata": {},
   "outputs": [],
   "source": [
    "dict - \n",
    "conditional statment"
   ]
  }
 ],
 "metadata": {
  "kernelspec": {
   "display_name": "Python 3 (ipykernel)",
   "language": "python",
   "name": "python3"
  },
  "language_info": {
   "codemirror_mode": {
    "name": "ipython",
    "version": 3
   },
   "file_extension": ".py",
   "mimetype": "text/x-python",
   "name": "python",
   "nbconvert_exporter": "python",
   "pygments_lexer": "ipython3",
   "version": "3.9.7"
  }
 },
 "nbformat": 4,
 "nbformat_minor": 5
}
