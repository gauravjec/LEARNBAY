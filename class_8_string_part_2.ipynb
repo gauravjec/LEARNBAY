{
 "cells": [
  {
   "cell_type": "code",
   "execution_count": null,
   "id": "b44ca5a7",
   "metadata": {},
   "outputs": [],
   "source": [
    "# String Properties\n",
    "\n",
    "1. String is a Seq data type - it allows +ve and -ve indexing\n",
    "2. +ve indexing always starts from 0 in l-r direction\n",
    "3. -ve indexing always starts from -1 in r-l direction\n",
    "4. indexing, slicing, concatination , repetition , membership\n",
    "5. String is immutable"
   ]
  },
  {
   "cell_type": "code",
   "execution_count": null,
   "id": "1722040a",
   "metadata": {},
   "outputs": [],
   "source": [
    "# Indexing\n",
    "\n",
    "1. extracting 1 element at a time\n",
    "2. +ve indexing starts from 0\n",
    "3. -ve indexing starts from -1"
   ]
  },
  {
   "cell_type": "code",
   "execution_count": 1,
   "id": "8362165d",
   "metadata": {},
   "outputs": [
    {
     "data": {
      "text/plain": [
       "'n'"
      ]
     },
     "execution_count": 1,
     "metadata": {},
     "output_type": "execute_result"
    }
   ],
   "source": [
    "s = 'python'\n",
    "\n",
    "s[-1]"
   ]
  },
  {
   "cell_type": "code",
   "execution_count": 2,
   "id": "2999b57d",
   "metadata": {},
   "outputs": [
    {
     "ename": "IndexError",
     "evalue": "string index out of range",
     "output_type": "error",
     "traceback": [
      "\u001b[1;31m---------------------------------------------------------------------------\u001b[0m",
      "\u001b[1;31mIndexError\u001b[0m                                Traceback (most recent call last)",
      "\u001b[1;32m~\\AppData\\Local\\Temp/ipykernel_3380/387520648.py\u001b[0m in \u001b[0;36m<module>\u001b[1;34m\u001b[0m\n\u001b[1;32m----> 1\u001b[1;33m \u001b[0ms\u001b[0m\u001b[1;33m[\u001b[0m\u001b[0mlen\u001b[0m\u001b[1;33m(\u001b[0m\u001b[0ms\u001b[0m\u001b[1;33m)\u001b[0m\u001b[1;33m]\u001b[0m\u001b[1;33m\u001b[0m\u001b[1;33m\u001b[0m\u001b[0m\n\u001b[0m",
      "\u001b[1;31mIndexError\u001b[0m: string index out of range"
     ]
    }
   ],
   "source": [
    "s[len(s)]"
   ]
  },
  {
   "cell_type": "code",
   "execution_count": null,
   "id": "c6c9daa5",
   "metadata": {},
   "outputs": [],
   "source": [
    "2.slicing - extratcing the subseq from the seq\n",
    "\n",
    "syntax = var[start_index : stop_index : step]\n",
    "\n",
    "Part1\n",
    "- start_index is inclusive\n",
    "- stop_index is exclusive\n",
    "\n",
    "Part2\n",
    "\n",
    "default values\n",
    "\n",
    "-var[::1]\n",
    " start_index deafault value is 0\n",
    " stop index --> len(var)\n",
    " step --> 1\n",
    "\n",
    "-when step size is -ve var[::-1]\n",
    " start_index --> -1\n",
    " stop_index --> -len(str)-1\n",
    "    \n",
    "    \n",
    "part4\n",
    "\n",
    "step size\n",
    "\n",
    "+ve - l  to r\n",
    "-ve - r to left\n",
    "\n",
    "+1 - extract every char from l to r\n",
    "-1 - extract every char from r to l\n",
    "\n",
    "+2 - extract every 2nd char from l to r\n",
    "-2 - extract every 2nd char from r to l\n",
    "\n",
    "+3 - extract every 3rd char from l to r\n",
    "-3 - extract every 3rd char from r to l\n",
    "\n",
    "+n - extract every nth char from l to r\n",
    "-n - extract every nth char from r to l"
   ]
  },
  {
   "cell_type": "code",
   "execution_count": 8,
   "id": "3d6146af",
   "metadata": {},
   "outputs": [
    {
     "data": {
      "text/plain": [
       "'pyt'"
      ]
     },
     "execution_count": 8,
     "metadata": {},
     "output_type": "execute_result"
    }
   ],
   "source": [
    "a = 'python'\n",
    "\n",
    "a[0:3:1]"
   ]
  },
  {
   "cell_type": "code",
   "execution_count": 9,
   "id": "87afb482",
   "metadata": {},
   "outputs": [
    {
     "data": {
      "text/plain": [
       "'th'"
      ]
     },
     "execution_count": 9,
     "metadata": {},
     "output_type": "execute_result"
    }
   ],
   "source": [
    "a[-4:-2:1]"
   ]
  },
  {
   "cell_type": "code",
   "execution_count": 10,
   "id": "e7d54fdf",
   "metadata": {},
   "outputs": [
    {
     "data": {
      "text/plain": [
       "'pyt'"
      ]
     },
     "execution_count": 10,
     "metadata": {},
     "output_type": "execute_result"
    }
   ],
   "source": [
    "a[0:-3:1]"
   ]
  },
  {
   "cell_type": "code",
   "execution_count": 11,
   "id": "8a5368a3",
   "metadata": {},
   "outputs": [
    {
     "data": {
      "text/plain": [
       "''"
      ]
     },
     "execution_count": 11,
     "metadata": {},
     "output_type": "execute_result"
    }
   ],
   "source": [
    "str1[-1: -len(str1)-1]\n",
    "\n",
    "r-l\n",
    "1 - l-r"
   ]
  },
  {
   "cell_type": "code",
   "execution_count": null,
   "id": "7a441dfa",
   "metadata": {},
   "outputs": [],
   "source": [
    "#-7 -6 -5 -4 -3 -2 -1  <--------- (-ve)   \n",
    "#   P  y  t  h  o  n \n",
    "#   0  1  2  3  4  5   ------>   (+ve)"
   ]
  },
  {
   "cell_type": "code",
   "execution_count": null,
   "id": "f31089a4",
   "metadata": {},
   "outputs": [],
   "source": [
    "pyth\n",
    "\n",
    "pt"
   ]
  },
  {
   "cell_type": "code",
   "execution_count": 12,
   "id": "698d1e8c",
   "metadata": {},
   "outputs": [
    {
     "data": {
      "text/plain": [
       "'pto'"
      ]
     },
     "execution_count": 12,
     "metadata": {},
     "output_type": "execute_result"
    }
   ],
   "source": [
    "str1[::2]"
   ]
  },
  {
   "cell_type": "code",
   "execution_count": 13,
   "id": "4219ebbd",
   "metadata": {},
   "outputs": [
    {
     "data": {
      "text/plain": [
       "'pt'"
      ]
     },
     "execution_count": 13,
     "metadata": {},
     "output_type": "execute_result"
    }
   ],
   "source": [
    "str1[-6:-2:2]"
   ]
  },
  {
   "cell_type": "code",
   "execution_count": 14,
   "id": "daae1ca7",
   "metadata": {},
   "outputs": [
    {
     "data": {
      "text/plain": [
       "''"
      ]
     },
     "execution_count": 14,
     "metadata": {},
     "output_type": "execute_result"
    }
   ],
   "source": [
    "str1[-3:0:1]"
   ]
  },
  {
   "cell_type": "code",
   "execution_count": 15,
   "id": "581b04e3",
   "metadata": {},
   "outputs": [
    {
     "data": {
      "text/plain": [
       "'nohtyp'"
      ]
     },
     "execution_count": 15,
     "metadata": {},
     "output_type": "execute_result"
    }
   ],
   "source": [
    "str1[::-1]"
   ]
  },
  {
   "cell_type": "code",
   "execution_count": 16,
   "id": "9033061a",
   "metadata": {},
   "outputs": [
    {
     "data": {
      "text/plain": [
       "'ohtyp'"
      ]
     },
     "execution_count": 16,
     "metadata": {},
     "output_type": "execute_result"
    }
   ],
   "source": [
    "str1[-2::-1]"
   ]
  },
  {
   "cell_type": "code",
   "execution_count": 18,
   "id": "0fa64006",
   "metadata": {},
   "outputs": [
    {
     "data": {
      "text/plain": [
       "'nohtyp'"
      ]
     },
     "execution_count": 18,
     "metadata": {},
     "output_type": "execute_result"
    }
   ],
   "source": [
    "str1[-1:-len(str1)-1:-1]"
   ]
  },
  {
   "cell_type": "code",
   "execution_count": 19,
   "id": "03fefd39",
   "metadata": {},
   "outputs": [
    {
     "data": {
      "text/plain": [
       "'python'"
      ]
     },
     "execution_count": 19,
     "metadata": {},
     "output_type": "execute_result"
    }
   ],
   "source": [
    "str1[0:len(str1):1]"
   ]
  },
  {
   "cell_type": "code",
   "execution_count": 20,
   "id": "c16103e9",
   "metadata": {},
   "outputs": [
    {
     "data": {
      "text/plain": [
       "'on'"
      ]
     },
     "execution_count": 20,
     "metadata": {},
     "output_type": "execute_result"
    }
   ],
   "source": [
    "str1[-2:-len(str1)-1:-1]"
   ]
  },
  {
   "cell_type": "code",
   "execution_count": null,
   "id": "8e9703f4",
   "metadata": {},
   "outputs": [],
   "source": [
    "s= 'python'"
   ]
  },
  {
   "cell_type": "code",
   "execution_count": null,
   "id": "2a8f359b",
   "metadata": {},
   "outputs": [],
   "source": [
    "str1[0:len(str1)]"
   ]
  },
  {
   "cell_type": "code",
   "execution_count": 21,
   "id": "91a9b5eb",
   "metadata": {},
   "outputs": [
    {
     "data": {
      "text/plain": [
       "'p'"
      ]
     },
     "execution_count": 21,
     "metadata": {},
     "output_type": "execute_result"
    }
   ],
   "source": [
    "str1[0:-7:-1]"
   ]
  },
  {
   "cell_type": "code",
   "execution_count": 22,
   "id": "cb04b3e7",
   "metadata": {},
   "outputs": [
    {
     "data": {
      "text/plain": [
       "'nhy'"
      ]
     },
     "execution_count": 22,
     "metadata": {},
     "output_type": "execute_result"
    }
   ],
   "source": [
    "str1[-1: :-2]"
   ]
  },
  {
   "cell_type": "code",
   "execution_count": null,
   "id": "6b693450",
   "metadata": {},
   "outputs": [],
   "source": [
    "#-7 -6 -5 -4 -3 -2 -1  <--------- (-ve)   \n",
    "#   P  y  t  h  o  n \n",
    "#   0  1  2  3  4  5   ------>   (+ve)"
   ]
  },
  {
   "cell_type": "code",
   "execution_count": 23,
   "id": "5464fb39",
   "metadata": {},
   "outputs": [
    {
     "data": {
      "text/plain": [
       "'otp'"
      ]
     },
     "execution_count": 23,
     "metadata": {},
     "output_type": "execute_result"
    }
   ],
   "source": [
    "str1[-2: :-2]"
   ]
  },
  {
   "cell_type": "code",
   "execution_count": 24,
   "id": "6171416a",
   "metadata": {},
   "outputs": [
    {
     "data": {
      "text/plain": [
       "''"
      ]
     },
     "execution_count": 24,
     "metadata": {},
     "output_type": "execute_result"
    }
   ],
   "source": [
    "str1[-1:-1:-1]"
   ]
  },
  {
   "cell_type": "code",
   "execution_count": 25,
   "id": "ab4c490c",
   "metadata": {},
   "outputs": [
    {
     "name": "stdout",
     "output_type": "stream",
     "text": [
      "afsankhan\n"
     ]
    }
   ],
   "source": [
    "# concatination\n",
    "\n",
    "\"\"\"\n",
    "adding of strings\n",
    "op - +\n",
    "operand - both the operand should be str\n",
    "\"\"\"\n",
    "\n",
    "a = 'afsan'\n",
    "b = 'khan'\n",
    "\n",
    "print(a+b)"
   ]
  },
  {
   "cell_type": "code",
   "execution_count": 26,
   "id": "a1fcdd2f",
   "metadata": {},
   "outputs": [
    {
     "ename": "TypeError",
     "evalue": "can only concatenate str (not \"int\") to str",
     "output_type": "error",
     "traceback": [
      "\u001b[1;31m---------------------------------------------------------------------------\u001b[0m",
      "\u001b[1;31mTypeError\u001b[0m                                 Traceback (most recent call last)",
      "\u001b[1;32m~\\AppData\\Local\\Temp/ipykernel_3380/1903982667.py\u001b[0m in \u001b[0;36m<module>\u001b[1;34m\u001b[0m\n\u001b[0;32m      2\u001b[0m \u001b[0mb\u001b[0m \u001b[1;33m=\u001b[0m \u001b[1;36m1\u001b[0m\u001b[1;33m\u001b[0m\u001b[1;33m\u001b[0m\u001b[0m\n\u001b[0;32m      3\u001b[0m \u001b[1;33m\u001b[0m\u001b[0m\n\u001b[1;32m----> 4\u001b[1;33m \u001b[0mprint\u001b[0m\u001b[1;33m(\u001b[0m\u001b[0ma\u001b[0m\u001b[1;33m+\u001b[0m\u001b[0mb\u001b[0m\u001b[1;33m)\u001b[0m\u001b[1;33m\u001b[0m\u001b[1;33m\u001b[0m\u001b[0m\n\u001b[0m",
      "\u001b[1;31mTypeError\u001b[0m: can only concatenate str (not \"int\") to str"
     ]
    }
   ],
   "source": [
    "a = 'afsan'\n",
    "b = 1\n",
    "\n",
    "print(a+b)"
   ]
  },
  {
   "cell_type": "code",
   "execution_count": 29,
   "id": "cdabc373",
   "metadata": {},
   "outputs": [
    {
     "name": "stdout",
     "output_type": "stream",
     "text": [
      "afsanafsanafsanafsan\n"
     ]
    }
   ],
   "source": [
    "# repetition\n",
    "\n",
    "\"\"\"\n",
    "repeating the string\n",
    "op - *\n",
    "operand - one should be str and othe should be int\n",
    "\"\"\"\n",
    "\n",
    "a = 'afsan'\n",
    "b = 4\n",
    "\n",
    "print(a*b)"
   ]
  },
  {
   "cell_type": "code",
   "execution_count": null,
   "id": "86993084",
   "metadata": {},
   "outputs": [],
   "source": [
    "# Membership\n",
    "\n",
    "\"\"\"\n",
    "it tells if the subseq is present in the seq or not\n",
    "op - in / not in\n",
    "return - Bool\n",
    "\"\"\""
   ]
  },
  {
   "cell_type": "code",
   "execution_count": 30,
   "id": "cda26872",
   "metadata": {},
   "outputs": [
    {
     "name": "stdout",
     "output_type": "stream",
     "text": [
      "True\n"
     ]
    }
   ],
   "source": [
    "a = 'python'\n",
    "print('py' in a)"
   ]
  },
  {
   "cell_type": "code",
   "execution_count": 31,
   "id": "74380d90",
   "metadata": {},
   "outputs": [
    {
     "name": "stdout",
     "output_type": "stream",
     "text": [
      "False\n"
     ]
    }
   ],
   "source": [
    "a = 'python'\n",
    "print('pyo' in a)"
   ]
  },
  {
   "cell_type": "code",
   "execution_count": null,
   "id": "64153db7",
   "metadata": {},
   "outputs": [],
   "source": [
    "# indentity op\n",
    "\n",
    "\"\"\"\n",
    "checks if the memory address of 2 varibale are same or not\n",
    "op - is / isnot\n",
    "return - bool\n",
    "\n",
    "\"\"\""
   ]
  },
  {
   "cell_type": "code",
   "execution_count": 34,
   "id": "d2b9f680",
   "metadata": {},
   "outputs": [
    {
     "name": "stdout",
     "output_type": "stream",
     "text": [
      "True\n"
     ]
    }
   ],
   "source": [
    "a = 'this_is_python_class'\n",
    "b = 'this_is_python_class'\n",
    "\n",
    "print(a is b)"
   ]
  },
  {
   "cell_type": "code",
   "execution_count": null,
   "id": "ced39e16",
   "metadata": {},
   "outputs": [],
   "source": [
    "Immutable\n",
    "\n",
    "\"\"\"\n",
    "you cannot change the orignal object\n",
    "\"\"\""
   ]
  },
  {
   "cell_type": "code",
   "execution_count": 33,
   "id": "ce9323bf",
   "metadata": {},
   "outputs": [
    {
     "ename": "TypeError",
     "evalue": "'str' object does not support item assignment",
     "output_type": "error",
     "traceback": [
      "\u001b[1;31m---------------------------------------------------------------------------\u001b[0m",
      "\u001b[1;31mTypeError\u001b[0m                                 Traceback (most recent call last)",
      "\u001b[1;32m~\\AppData\\Local\\Temp/ipykernel_3380/3326465290.py\u001b[0m in \u001b[0;36m<module>\u001b[1;34m\u001b[0m\n\u001b[0;32m      1\u001b[0m \u001b[0ma\u001b[0m \u001b[1;33m=\u001b[0m \u001b[1;34m'python'\u001b[0m\u001b[1;33m\u001b[0m\u001b[1;33m\u001b[0m\u001b[0m\n\u001b[0;32m      2\u001b[0m \u001b[1;33m\u001b[0m\u001b[0m\n\u001b[1;32m----> 3\u001b[1;33m \u001b[0ma\u001b[0m\u001b[1;33m[\u001b[0m\u001b[1;36m0\u001b[0m\u001b[1;33m]\u001b[0m \u001b[1;33m=\u001b[0m \u001b[1;34m'c'\u001b[0m\u001b[1;33m\u001b[0m\u001b[1;33m\u001b[0m\u001b[0m\n\u001b[0m",
      "\u001b[1;31mTypeError\u001b[0m: 'str' object does not support item assignment"
     ]
    }
   ],
   "source": [
    "a = 'python'\n",
    "\n",
    "a[0] = 'c'"
   ]
  },
  {
   "cell_type": "code",
   "execution_count": null,
   "id": "4884e41f",
   "metadata": {},
   "outputs": [],
   "source": [
    "str concatenation, will create new string and memory address will be diff right ?\n"
   ]
  },
  {
   "cell_type": "code",
   "execution_count": 35,
   "id": "605f5b0c",
   "metadata": {},
   "outputs": [
    {
     "name": "stdout",
     "output_type": "stream",
     "text": [
      "2332183516656 2332183516848\n",
      "rishavdam\n",
      "2332183515760\n"
     ]
    }
   ],
   "source": [
    "a = 'rishav'\n",
    "b = 'dam'\n",
    "print(id(a), id(b))\n",
    "\n",
    "a=a+b\n",
    "print(c)\n",
    "\n",
    "print(id(c))"
   ]
  },
  {
   "cell_type": "code",
   "execution_count": null,
   "id": "e35296dc",
   "metadata": {},
   "outputs": [],
   "source": [
    "object\n",
    "\n",
    "a = 'afsan khan'\n",
    "b = 'afsan khan'"
   ]
  },
  {
   "cell_type": "code",
   "execution_count": 37,
   "id": "2e9cd77f",
   "metadata": {},
   "outputs": [],
   "source": [
    "a = 'afsan '\n",
    "b = 'khan'\n",
    "\n",
    "c = a+b"
   ]
  },
  {
   "cell_type": "code",
   "execution_count": 38,
   "id": "2d1f9ebf",
   "metadata": {},
   "outputs": [
    {
     "data": {
      "text/plain": [
       "'afsan khan'"
      ]
     },
     "execution_count": 38,
     "metadata": {},
     "output_type": "execute_result"
    }
   ],
   "source": [
    "c"
   ]
  },
  {
   "cell_type": "code",
   "execution_count": 39,
   "id": "938c9b75",
   "metadata": {},
   "outputs": [
    {
     "data": {
      "text/plain": [
       "' '"
      ]
     },
     "execution_count": 39,
     "metadata": {},
     "output_type": "execute_result"
    }
   ],
   "source": [
    "c[5]"
   ]
  },
  {
   "cell_type": "code",
   "execution_count": null,
   "id": "36bad248",
   "metadata": {},
   "outputs": [],
   "source": [
    "# string methods - wednesday\n",
    "\n",
    "# list - part1 - thrusday"
   ]
  }
 ],
 "metadata": {
  "kernelspec": {
   "display_name": "Python 3 (ipykernel)",
   "language": "python",
   "name": "python3"
  },
  "language_info": {
   "codemirror_mode": {
    "name": "ipython",
    "version": 3
   },
   "file_extension": ".py",
   "mimetype": "text/x-python",
   "name": "python",
   "nbconvert_exporter": "python",
   "pygments_lexer": "ipython3",
   "version": "3.9.7"
  }
 },
 "nbformat": 4,
 "nbformat_minor": 5
}
