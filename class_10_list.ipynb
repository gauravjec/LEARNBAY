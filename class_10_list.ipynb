{
 "cells": [
  {
   "cell_type": "code",
   "execution_count": null,
   "id": "3bd7d792",
   "metadata": {},
   "outputs": [],
   "source": [
    "# List data types\n",
    "\n",
    "anything written inside a [] and elements are sep by ,"
   ]
  },
  {
   "cell_type": "code",
   "execution_count": 1,
   "id": "915eb0cc",
   "metadata": {},
   "outputs": [
    {
     "name": "stdout",
     "output_type": "stream",
     "text": [
      "<class 'list'>\n"
     ]
    }
   ],
   "source": [
    "a = [1,2,3,4,5,6]\n",
    "print(type(a))"
   ]
  },
  {
   "cell_type": "markdown",
   "id": "24a6b39d",
   "metadata": {},
   "source": [
    "# Creation of the list\n",
    "\n",
    "1. you already know the element"
   ]
  },
  {
   "cell_type": "code",
   "execution_count": 2,
   "id": "42fca33a",
   "metadata": {},
   "outputs": [
    {
     "name": "stdout",
     "output_type": "stream",
     "text": [
      "['apple', 'mango', 'orange']\n"
     ]
    }
   ],
   "source": [
    "fruits = ['apple', 'mango' , 'orange']\n",
    "print(fruits)"
   ]
  },
  {
   "cell_type": "markdown",
   "id": "6266c3e0",
   "metadata": {},
   "source": [
    "2. taking the user input"
   ]
  },
  {
   "cell_type": "code",
   "execution_count": 7,
   "id": "584f399f",
   "metadata": {},
   "outputs": [
    {
     "name": "stdout",
     "output_type": "stream",
     "text": [
      "enter the list[1,2,3,4]\n",
      "[1, 2, 3, 4] <class 'list'>\n"
     ]
    }
   ],
   "source": [
    "list1  = eval(input('enter the list'))\n",
    "print(list1 , type(list1))"
   ]
  },
  {
   "cell_type": "code",
   "execution_count": 5,
   "id": "b93c0c47",
   "metadata": {},
   "outputs": [
    {
     "name": "stdout",
     "output_type": "stream",
     "text": [
      "['a', 'b', 'c']\n",
      "[1, 2, 3]\n"
     ]
    }
   ],
   "source": [
    "#3 typecasting\n",
    "\n",
    "# we can only typecast the seq data type\n",
    "\n",
    "a = 1\n",
    "# print(list(a))\n",
    "\n",
    "b = 'abc'\n",
    "print(list(b))\n",
    "\n",
    "c = (1,2,3)\n",
    "print(list(c))"
   ]
  },
  {
   "cell_type": "code",
   "execution_count": 6,
   "id": "621492a3",
   "metadata": {},
   "outputs": [
    {
     "data": {
      "text/plain": [
       "['learnbay', 'classes']"
      ]
     },
     "execution_count": 6,
     "metadata": {},
     "output_type": "execute_result"
    }
   ],
   "source": [
    "#4. split\n",
    "\n",
    "str1 = 'learnbay classes'\n",
    "str1.split()"
   ]
  },
  {
   "cell_type": "code",
   "execution_count": 8,
   "id": "a27d426c",
   "metadata": {},
   "outputs": [
    {
     "name": "stdout",
     "output_type": "stream",
     "text": [
      "['a', 'b', 'c']\n"
     ]
    }
   ],
   "source": [
    "b = 'abc'\n",
    "print(list(b))"
   ]
  },
  {
   "cell_type": "code",
   "execution_count": null,
   "id": "87daa151",
   "metadata": {},
   "outputs": [],
   "source": [
    "# Properties of list\n",
    "\n",
    "1. Seq data type\n",
    "2. supports +ve and -ve indexing\n",
    "3. it can contain duplicate elements\n",
    "4. its can contain any data type\n",
    "5. basic - indexing , slicing , concatination , repetition, membership , indentity\n",
    "6. mutable"
   ]
  },
  {
   "cell_type": "code",
   "execution_count": 9,
   "id": "f98838bf",
   "metadata": {},
   "outputs": [
    {
     "name": "stdout",
     "output_type": "stream",
     "text": [
      "[1, 2, 3, 4, 1, 1, 1, 1, 1]\n"
     ]
    }
   ],
   "source": [
    "# it can contain duplicate elements\n",
    "\n",
    "a = [1,2,3,4,1,1,1,1,1]\n",
    "print(a)"
   ]
  },
  {
   "cell_type": "code",
   "execution_count": 10,
   "id": "68c68f5c",
   "metadata": {},
   "outputs": [
    {
     "name": "stdout",
     "output_type": "stream",
     "text": [
      "[1, 1.2, None, 'learnbay', (6+7j), [1, 2, 3], (12, 3)]\n"
     ]
    }
   ],
   "source": [
    "# its can contain any data type\n",
    "\n",
    "a = [1 , 1.2 , None , 'learnbay' , 6+7j , [1,2,3] , (12,3)]\n",
    "print(a)"
   ]
  },
  {
   "cell_type": "code",
   "execution_count": 11,
   "id": "dd3d2052",
   "metadata": {},
   "outputs": [],
   "source": [
    "# indexing"
   ]
  },
  {
   "cell_type": "code",
   "execution_count": 12,
   "id": "d228ea02",
   "metadata": {},
   "outputs": [
    {
     "name": "stdout",
     "output_type": "stream",
     "text": [
      "hamilton\n"
     ]
    }
   ],
   "source": [
    "a = [1,2,3,4,5,6,'afsan' , 'learnbay' , 'hamilton']\n",
    "\n",
    "print(a[-1])"
   ]
  },
  {
   "cell_type": "code",
   "execution_count": 13,
   "id": "f87c009b",
   "metadata": {},
   "outputs": [
    {
     "name": "stdout",
     "output_type": "stream",
     "text": [
      "5\n"
     ]
    }
   ],
   "source": [
    "print(a[4])"
   ]
  },
  {
   "cell_type": "code",
   "execution_count": 15,
   "id": "0fb1866f",
   "metadata": {},
   "outputs": [
    {
     "data": {
      "text/plain": [
       "[]"
      ]
     },
     "execution_count": 15,
     "metadata": {},
     "output_type": "execute_result"
    }
   ],
   "source": [
    "a[-6:-3:-1]"
   ]
  },
  {
   "cell_type": "code",
   "execution_count": 16,
   "id": "eaf69318",
   "metadata": {},
   "outputs": [
    {
     "data": {
      "text/plain": [
       "['hamilton', 'afsan', 5, 3, 1]"
      ]
     },
     "execution_count": 16,
     "metadata": {},
     "output_type": "execute_result"
    }
   ],
   "source": [
    "a[-1::-2]"
   ]
  },
  {
   "cell_type": "code",
   "execution_count": 17,
   "id": "a3f53dca",
   "metadata": {},
   "outputs": [
    {
     "data": {
      "text/plain": [
       "['hamilton', 'learnbay', 'afsan', 6, 5, 4, 3, 2, 1]"
      ]
     },
     "execution_count": 17,
     "metadata": {},
     "output_type": "execute_result"
    }
   ],
   "source": [
    "a[-1::-1]"
   ]
  },
  {
   "cell_type": "code",
   "execution_count": 18,
   "id": "523ae022",
   "metadata": {},
   "outputs": [
    {
     "name": "stdout",
     "output_type": "stream",
     "text": [
      "[1, 2, 3, 5, 6, 7]\n"
     ]
    }
   ],
   "source": [
    "# concatination\n",
    "\n",
    "\"\"\"\n",
    "op - +\n",
    "operand - both the elements should be list\n",
    "\"\"\"\n",
    "\n",
    "a = [1,2,3]\n",
    "b = [5,6,7]\n",
    "\n",
    "print(a+b)"
   ]
  },
  {
   "cell_type": "code",
   "execution_count": 19,
   "id": "8023fb6f",
   "metadata": {},
   "outputs": [
    {
     "name": "stdout",
     "output_type": "stream",
     "text": [
      "[1, 2, 3, 1, 2, 3, 1, 2, 3, 1, 2, 3, 1, 2, 3]\n"
     ]
    }
   ],
   "source": [
    "# repetition\n",
    "\n",
    "\"\"\"\n",
    "op - * \n",
    "operand - one should be a list and other should be int\n",
    "\"\"\"\n",
    "\n",
    "a = [1,2,3]\n",
    "b = 5\n",
    "\n",
    "print(a*b)"
   ]
  },
  {
   "cell_type": "code",
   "execution_count": 20,
   "id": "054b1d3d",
   "metadata": {},
   "outputs": [
    {
     "name": "stdout",
     "output_type": "stream",
     "text": [
      "False\n"
     ]
    }
   ],
   "source": [
    "a = [1,2,3,4,5,6,'afsan' , 'learnbay' , 'hamilton']\n",
    "\n",
    "print('afsaan' in a)"
   ]
  },
  {
   "cell_type": "code",
   "execution_count": 21,
   "id": "edc118d8",
   "metadata": {},
   "outputs": [
    {
     "name": "stdout",
     "output_type": "stream",
     "text": [
      "False\n"
     ]
    }
   ],
   "source": [
    "a = [1,2,3,4,5,6,'afsan' , 'learnbay' , 'hamilton']\n",
    "\n",
    "print('hamilton' not in a)"
   ]
  },
  {
   "cell_type": "code",
   "execution_count": 24,
   "id": "e79a2d25",
   "metadata": {},
   "outputs": [
    {
     "name": "stdout",
     "output_type": "stream",
     "text": [
      "2823588435456\n",
      "2823588435712\n",
      "False\n"
     ]
    }
   ],
   "source": [
    "# indentity op\n",
    "\n",
    "a = [1,2,3,4,5]\n",
    "print(id(a))\n",
    "b = [1,2,3,4,5]\n",
    "print(id(b))\n",
    "\n",
    "print(a is b)"
   ]
  },
  {
   "cell_type": "code",
   "execution_count": 23,
   "id": "b46f4b4b",
   "metadata": {},
   "outputs": [
    {
     "name": "stdout",
     "output_type": "stream",
     "text": [
      "['dhoni', 'learnbay', 'kholi', 'messi', 'fedrer']\n"
     ]
    }
   ],
   "source": [
    "# mutable\n",
    "\n",
    "a = ['afsan' , 'learnbay' , 'kholi' , 'messi' , 'fedrer']\n",
    "a[0] = 'dhoni'\n",
    "\n",
    "print(a)"
   ]
  },
  {
   "cell_type": "code",
   "execution_count": 26,
   "id": "3565f228",
   "metadata": {},
   "outputs": [],
   "source": [
    "# Nested list - list inside a list \n",
    "\n",
    "a = [1,2,3,['afsan' , 'khan'] , ['learnbay']]"
   ]
  },
  {
   "cell_type": "code",
   "execution_count": 27,
   "id": "f1202cf5",
   "metadata": {},
   "outputs": [
    {
     "data": {
      "text/plain": [
       "['afsan', 'khan']"
      ]
     },
     "execution_count": 27,
     "metadata": {},
     "output_type": "execute_result"
    }
   ],
   "source": [
    "a[-2]"
   ]
  },
  {
   "cell_type": "code",
   "execution_count": 28,
   "id": "986c9bf7",
   "metadata": {},
   "outputs": [
    {
     "data": {
      "text/plain": [
       "'khan'"
      ]
     },
     "execution_count": 28,
     "metadata": {},
     "output_type": "execute_result"
    }
   ],
   "source": [
    "a[-2][-1]"
   ]
  },
  {
   "cell_type": "code",
   "execution_count": 31,
   "id": "544291fa",
   "metadata": {},
   "outputs": [
    {
     "data": {
      "text/plain": [
       "'khan'"
      ]
     },
     "execution_count": 31,
     "metadata": {},
     "output_type": "execute_result"
    }
   ],
   "source": [
    "a[-2][-1]"
   ]
  },
  {
   "cell_type": "code",
   "execution_count": 32,
   "id": "67cccdfa",
   "metadata": {},
   "outputs": [
    {
     "data": {
      "text/plain": [
       "'ka'"
      ]
     },
     "execution_count": 32,
     "metadata": {},
     "output_type": "execute_result"
    }
   ],
   "source": [
    "a[-2][-1][::2]"
   ]
  },
  {
   "cell_type": "code",
   "execution_count": 33,
   "id": "47b31f0a",
   "metadata": {},
   "outputs": [
    {
     "data": {
      "text/plain": [
       "'ka'"
      ]
     },
     "execution_count": 33,
     "metadata": {},
     "output_type": "execute_result"
    }
   ],
   "source": [
    "'khan'[::2]"
   ]
  },
  {
   "cell_type": "code",
   "execution_count": 34,
   "id": "9f8bc3ac",
   "metadata": {},
   "outputs": [],
   "source": [
    "nest_list_1= [[1,2,4] , [5,6,7], [8,[9,10, ['a','b']]]]"
   ]
  },
  {
   "cell_type": "code",
   "execution_count": 36,
   "id": "688c531b",
   "metadata": {},
   "outputs": [
    {
     "data": {
      "text/plain": [
       "'a'"
      ]
     },
     "execution_count": 36,
     "metadata": {},
     "output_type": "execute_result"
    }
   ],
   "source": [
    "nest_list_1[-1][-1][-1][0]"
   ]
  },
  {
   "cell_type": "code",
   "execution_count": 38,
   "id": "a4013980",
   "metadata": {},
   "outputs": [
    {
     "name": "stdout",
     "output_type": "stream",
     "text": [
      "a\n"
     ]
    }
   ],
   "source": [
    "print(nest_list_1[2][-1][-1][-2])\n"
   ]
  },
  {
   "cell_type": "code",
   "execution_count": 39,
   "id": "ee85dfca",
   "metadata": {},
   "outputs": [
    {
     "data": {
      "text/plain": [
       "'a'"
      ]
     },
     "execution_count": 39,
     "metadata": {},
     "output_type": "execute_result"
    }
   ],
   "source": [
    "nest_list_1[2][1][2][0]"
   ]
  },
  {
   "cell_type": "code",
   "execution_count": 40,
   "id": "40dd63b8",
   "metadata": {},
   "outputs": [],
   "source": [
    "nest_list_1= [[1,2,4] , [5,6,['afsan' , 'khan' , ['a' , 'messi']]], [8,[9,10, ['a','b']]]]"
   ]
  },
  {
   "cell_type": "code",
   "execution_count": 41,
   "id": "78be4a84",
   "metadata": {},
   "outputs": [
    {
     "data": {
      "text/plain": [
       "'mess'"
      ]
     },
     "execution_count": 41,
     "metadata": {},
     "output_type": "execute_result"
    }
   ],
   "source": [
    "nest_list_1[1][2][-1][-1][0:4]"
   ]
  },
  {
   "cell_type": "code",
   "execution_count": 42,
   "id": "03975987",
   "metadata": {},
   "outputs": [
    {
     "data": {
      "text/plain": [
       "['__add__',\n",
       " '__class__',\n",
       " '__class_getitem__',\n",
       " '__contains__',\n",
       " '__delattr__',\n",
       " '__delitem__',\n",
       " '__dir__',\n",
       " '__doc__',\n",
       " '__eq__',\n",
       " '__format__',\n",
       " '__ge__',\n",
       " '__getattribute__',\n",
       " '__getitem__',\n",
       " '__gt__',\n",
       " '__hash__',\n",
       " '__iadd__',\n",
       " '__imul__',\n",
       " '__init__',\n",
       " '__init_subclass__',\n",
       " '__iter__',\n",
       " '__le__',\n",
       " '__len__',\n",
       " '__lt__',\n",
       " '__mul__',\n",
       " '__ne__',\n",
       " '__new__',\n",
       " '__reduce__',\n",
       " '__reduce_ex__',\n",
       " '__repr__',\n",
       " '__reversed__',\n",
       " '__rmul__',\n",
       " '__setattr__',\n",
       " '__setitem__',\n",
       " '__sizeof__',\n",
       " '__str__',\n",
       " '__subclasshook__',\n",
       " 'append',\n",
       " 'clear',\n",
       " 'copy',\n",
       " 'count',\n",
       " 'extend',\n",
       " 'index',\n",
       " 'insert',\n",
       " 'pop',\n",
       " 'remove',\n",
       " 'reverse',\n",
       " 'sort']"
      ]
     },
     "execution_count": 42,
     "metadata": {},
     "output_type": "execute_result"
    }
   ],
   "source": [
    "# Methods on list\n",
    "\n",
    "dir(list)"
   ]
  },
  {
   "cell_type": "code",
   "execution_count": null,
   "id": "b7b77daa",
   "metadata": {},
   "outputs": [],
   "source": [
    "# Methods to insert the element in list\n",
    "\n",
    "1. append\n",
    "2. extend\n",
    "3. insert"
   ]
  },
  {
   "cell_type": "code",
   "execution_count": null,
   "id": "edf59416",
   "metadata": {},
   "outputs": [],
   "source": [
    "# 1.append\n",
    "\"\"\"\n",
    "it appends the element a last\n",
    "you can enter one ele at a time\n",
    "you can appedn both iterables and non iterables obj\n",
    "\"\"\""
   ]
  },
  {
   "cell_type": "code",
   "execution_count": null,
   "id": "9d45dcfa",
   "metadata": {},
   "outputs": [],
   "source": [
    "# what are the ways to find out if the obj is iterable or not\n",
    "\n",
    "1. if len function is working\n",
    "2. dir(obj) has __iter__"
   ]
  },
  {
   "cell_type": "code",
   "execution_count": 45,
   "id": "b23d171b",
   "metadata": {},
   "outputs": [
    {
     "ename": "TypeError",
     "evalue": "object of type 'int' has no len()",
     "output_type": "error",
     "traceback": [
      "\u001b[1;31m---------------------------------------------------------------------------\u001b[0m",
      "\u001b[1;31mTypeError\u001b[0m                                 Traceback (most recent call last)",
      "\u001b[1;32m~\\AppData\\Local\\Temp/ipykernel_7968/3729028850.py\u001b[0m in \u001b[0;36m<module>\u001b[1;34m\u001b[0m\n\u001b[0;32m      1\u001b[0m \u001b[0ma\u001b[0m \u001b[1;33m=\u001b[0m \u001b[1;36m1\u001b[0m\u001b[1;33m\u001b[0m\u001b[1;33m\u001b[0m\u001b[0m\n\u001b[0;32m      2\u001b[0m \u001b[1;33m\u001b[0m\u001b[0m\n\u001b[1;32m----> 3\u001b[1;33m \u001b[0mlen\u001b[0m\u001b[1;33m(\u001b[0m\u001b[0ma\u001b[0m\u001b[1;33m)\u001b[0m\u001b[1;33m\u001b[0m\u001b[1;33m\u001b[0m\u001b[0m\n\u001b[0m",
      "\u001b[1;31mTypeError\u001b[0m: object of type 'int' has no len()"
     ]
    }
   ],
   "source": [
    "a = 1\n",
    "\n",
    "len(a)"
   ]
  },
  {
   "cell_type": "code",
   "execution_count": 46,
   "id": "0a77005e",
   "metadata": {},
   "outputs": [
    {
     "data": {
      "text/plain": [
       "['__abs__',\n",
       " '__add__',\n",
       " '__and__',\n",
       " '__bool__',\n",
       " '__ceil__',\n",
       " '__class__',\n",
       " '__delattr__',\n",
       " '__dir__',\n",
       " '__divmod__',\n",
       " '__doc__',\n",
       " '__eq__',\n",
       " '__float__',\n",
       " '__floor__',\n",
       " '__floordiv__',\n",
       " '__format__',\n",
       " '__ge__',\n",
       " '__getattribute__',\n",
       " '__getnewargs__',\n",
       " '__gt__',\n",
       " '__hash__',\n",
       " '__index__',\n",
       " '__init__',\n",
       " '__init_subclass__',\n",
       " '__int__',\n",
       " '__invert__',\n",
       " '__le__',\n",
       " '__lshift__',\n",
       " '__lt__',\n",
       " '__mod__',\n",
       " '__mul__',\n",
       " '__ne__',\n",
       " '__neg__',\n",
       " '__new__',\n",
       " '__or__',\n",
       " '__pos__',\n",
       " '__pow__',\n",
       " '__radd__',\n",
       " '__rand__',\n",
       " '__rdivmod__',\n",
       " '__reduce__',\n",
       " '__reduce_ex__',\n",
       " '__repr__',\n",
       " '__rfloordiv__',\n",
       " '__rlshift__',\n",
       " '__rmod__',\n",
       " '__rmul__',\n",
       " '__ror__',\n",
       " '__round__',\n",
       " '__rpow__',\n",
       " '__rrshift__',\n",
       " '__rshift__',\n",
       " '__rsub__',\n",
       " '__rtruediv__',\n",
       " '__rxor__',\n",
       " '__setattr__',\n",
       " '__sizeof__',\n",
       " '__str__',\n",
       " '__sub__',\n",
       " '__subclasshook__',\n",
       " '__truediv__',\n",
       " '__trunc__',\n",
       " '__xor__',\n",
       " 'as_integer_ratio',\n",
       " 'bit_length',\n",
       " 'conjugate',\n",
       " 'denominator',\n",
       " 'from_bytes',\n",
       " 'imag',\n",
       " 'numerator',\n",
       " 'real',\n",
       " 'to_bytes']"
      ]
     },
     "execution_count": 46,
     "metadata": {},
     "output_type": "execute_result"
    }
   ],
   "source": [
    "dir(a)"
   ]
  },
  {
   "cell_type": "code",
   "execution_count": 50,
   "id": "a8e8f756",
   "metadata": {},
   "outputs": [
    {
     "name": "stdout",
     "output_type": "stream",
     "text": [
      "None\n",
      "[1, 2, 3, 4, 5, 'learnbay']\n"
     ]
    }
   ],
   "source": [
    "a = [1,2,3,4,5]\n",
    "b = 'learnbay'\n",
    "\n",
    "print(a.append(b))\n",
    "\n",
    "print(a)"
   ]
  },
  {
   "cell_type": "code",
   "execution_count": 52,
   "id": "5165cad5",
   "metadata": {},
   "outputs": [
    {
     "name": "stdout",
     "output_type": "stream",
     "text": [
      "None\n",
      "['learnbay', [1, 2, 3, 4, 5]]\n"
     ]
    }
   ],
   "source": [
    "a = [1,2,3,4,5]\n",
    "b = ['learnbay']\n",
    "\n",
    "print(b.append(a))\n",
    "\n",
    "print(b)"
   ]
  },
  {
   "cell_type": "code",
   "execution_count": 49,
   "id": "f48d1976",
   "metadata": {},
   "outputs": [
    {
     "name": "stdout",
     "output_type": "stream",
     "text": [
      "ABC\n"
     ]
    },
    {
     "data": {
      "text/plain": [
       "'abc'"
      ]
     },
     "execution_count": 49,
     "metadata": {},
     "output_type": "execute_result"
    }
   ],
   "source": [
    "a = 'abc'\n",
    "print(a.upper())\n",
    "a"
   ]
  },
  {
   "cell_type": "code",
   "execution_count": null,
   "id": "1ac7c253",
   "metadata": {},
   "outputs": [],
   "source": [
    "# extend\n",
    "\n",
    "it is similar to contination but extend does not return any new object"
   ]
  },
  {
   "cell_type": "code",
   "execution_count": 53,
   "id": "0d83acca",
   "metadata": {},
   "outputs": [
    {
     "data": {
      "text/plain": [
       "[1, 2, 3, 4, 10, 11, 12]"
      ]
     },
     "execution_count": 53,
     "metadata": {},
     "output_type": "execute_result"
    }
   ],
   "source": [
    "a1 = [1,2,3,4]\n",
    "s1 = [10,11,12]\n",
    "\n",
    "a1.extend(s1)\n",
    "a1"
   ]
  },
  {
   "cell_type": "code",
   "execution_count": 54,
   "id": "1d356b69",
   "metadata": {},
   "outputs": [
    {
     "data": {
      "text/plain": [
       "[1, 2, 3, 4, 10, 11, 12]"
      ]
     },
     "execution_count": 54,
     "metadata": {},
     "output_type": "execute_result"
    }
   ],
   "source": [
    "a1 = [1,2,3,4]\n",
    "s1 = [10,11,12]\n",
    "\n",
    "a1 + s1"
   ]
  },
  {
   "cell_type": "code",
   "execution_count": 55,
   "id": "c1a49749",
   "metadata": {},
   "outputs": [
    {
     "data": {
      "text/plain": [
       "[1, 2, 3, 4]"
      ]
     },
     "execution_count": 55,
     "metadata": {},
     "output_type": "execute_result"
    }
   ],
   "source": [
    "a1"
   ]
  },
  {
   "cell_type": "code",
   "execution_count": 56,
   "id": "f2a8f396",
   "metadata": {},
   "outputs": [
    {
     "data": {
      "text/plain": [
       "[1, 2, 3, 4, 10, 11, 12]"
      ]
     },
     "execution_count": 56,
     "metadata": {},
     "output_type": "execute_result"
    }
   ],
   "source": [
    "a1 = [1,2,3,4]\n",
    "s1 = [10,11,12]\n",
    "\n",
    "a1.extend(s1)\n",
    "a1"
   ]
  },
  {
   "cell_type": "code",
   "execution_count": 57,
   "id": "18e648a3",
   "metadata": {},
   "outputs": [
    {
     "data": {
      "text/plain": [
       "[1, 2, 3, 4, [10, 11, 12]]"
      ]
     },
     "execution_count": 57,
     "metadata": {},
     "output_type": "execute_result"
    }
   ],
   "source": [
    "a1 = [1,2,3,4]\n",
    "s1 = [10,11,12]\n",
    "\n",
    "a1.append(s1)\n",
    "a1"
   ]
  },
  {
   "cell_type": "code",
   "execution_count": null,
   "id": "b5a114fc",
   "metadata": {},
   "outputs": [],
   "source": [
    "# in extend you can only do with iterable objects"
   ]
  },
  {
   "cell_type": "code",
   "execution_count": 58,
   "id": "7a926cd1",
   "metadata": {},
   "outputs": [
    {
     "data": {
      "text/plain": [
       "[1, 2, 3, 4, 'a', 'b', 'c']"
      ]
     },
     "execution_count": 58,
     "metadata": {},
     "output_type": "execute_result"
    }
   ],
   "source": [
    "a1 = [1,2,3,4]\n",
    "s1 = [10,11,12]\n",
    "\n",
    "a1.extend('abc')\n",
    "a1"
   ]
  },
  {
   "cell_type": "code",
   "execution_count": 59,
   "id": "caeed60c",
   "metadata": {},
   "outputs": [
    {
     "ename": "TypeError",
     "evalue": "'float' object is not iterable",
     "output_type": "error",
     "traceback": [
      "\u001b[1;31m---------------------------------------------------------------------------\u001b[0m",
      "\u001b[1;31mTypeError\u001b[0m                                 Traceback (most recent call last)",
      "\u001b[1;32m~\\AppData\\Local\\Temp/ipykernel_7968/2272400367.py\u001b[0m in \u001b[0;36m<module>\u001b[1;34m\u001b[0m\n\u001b[0;32m      2\u001b[0m \u001b[0ms1\u001b[0m \u001b[1;33m=\u001b[0m \u001b[1;33m[\u001b[0m\u001b[1;36m10\u001b[0m\u001b[1;33m,\u001b[0m\u001b[1;36m11\u001b[0m\u001b[1;33m,\u001b[0m\u001b[1;36m12\u001b[0m\u001b[1;33m]\u001b[0m\u001b[1;33m\u001b[0m\u001b[1;33m\u001b[0m\u001b[0m\n\u001b[0;32m      3\u001b[0m \u001b[1;33m\u001b[0m\u001b[0m\n\u001b[1;32m----> 4\u001b[1;33m \u001b[0ma1\u001b[0m\u001b[1;33m.\u001b[0m\u001b[0mextend\u001b[0m\u001b[1;33m(\u001b[0m\u001b[1;36m1.2\u001b[0m\u001b[1;33m)\u001b[0m\u001b[1;33m\u001b[0m\u001b[1;33m\u001b[0m\u001b[0m\n\u001b[0m\u001b[0;32m      5\u001b[0m \u001b[0ma1\u001b[0m\u001b[1;33m\u001b[0m\u001b[1;33m\u001b[0m\u001b[0m\n",
      "\u001b[1;31mTypeError\u001b[0m: 'float' object is not iterable"
     ]
    }
   ],
   "source": [
    "a1 = [1,2,3,4]\n",
    "s1 = [10,11,12]\n",
    "\n",
    "a1.extend(1.2)\n",
    "a1"
   ]
  },
  {
   "cell_type": "code",
   "execution_count": null,
   "id": "aed623b7",
   "metadata": {},
   "outputs": [],
   "source": [
    "# insert\n",
    "\n",
    "will insert the value a particular index\n",
    "- only one ele can be inserted a time\n",
    "\n",
    "syntax - list.insert(index , ele)"
   ]
  },
  {
   "cell_type": "code",
   "execution_count": 60,
   "id": "a16b255e",
   "metadata": {},
   "outputs": [],
   "source": [
    "a1 = [1,2,3,4]"
   ]
  },
  {
   "cell_type": "code",
   "execution_count": null,
   "id": "2b9541cb",
   "metadata": {},
   "outputs": [],
   "source": [
    "a1.inset"
   ]
  }
 ],
 "metadata": {
  "kernelspec": {
   "display_name": "Python 3 (ipykernel)",
   "language": "python",
   "name": "python3"
  },
  "language_info": {
   "codemirror_mode": {
    "name": "ipython",
    "version": 3
   },
   "file_extension": ".py",
   "mimetype": "text/x-python",
   "name": "python",
   "nbconvert_exporter": "python",
   "pygments_lexer": "ipython3",
   "version": "3.9.7"
  }
 },
 "nbformat": 4,
 "nbformat_minor": 5
}
